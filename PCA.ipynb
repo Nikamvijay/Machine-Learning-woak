{
 "cells": [
  {
   "cell_type": "code",
   "execution_count": 1,
   "id": "fe782ad0",
   "metadata": {},
   "outputs": [],
   "source": [
    "import numpy as np\n",
    "import pandas as pd\n",
    "A=np.array([\n",
    "    [3,7],\n",
    "    [-4,-6],\n",
    "    [7,8],\n",
    "    [1,-1],\n",
    "    [-4,-1],\n",
    "    [-3,-7]\n",
    "     ])"
   ]
  },
  {
   "cell_type": "code",
   "execution_count": 2,
   "id": "3af95a67",
   "metadata": {},
   "outputs": [
    {
     "data": {
      "text/plain": [
       "array([[ 3,  7],\n",
       "       [-4, -6],\n",
       "       [ 7,  8],\n",
       "       [ 1, -1],\n",
       "       [-4, -1],\n",
       "       [-3, -7]])"
      ]
     },
     "execution_count": 2,
     "metadata": {},
     "output_type": "execute_result"
    }
   ],
   "source": [
    "A"
   ]
  },
  {
   "cell_type": "code",
   "execution_count": 3,
   "id": "84fe2559",
   "metadata": {},
   "outputs": [
    {
     "data": {
      "text/plain": [
       "(6, 2)"
      ]
     },
     "execution_count": 3,
     "metadata": {},
     "output_type": "execute_result"
    }
   ],
   "source": [
    "A.shape"
   ]
  },
  {
   "cell_type": "code",
   "execution_count": null,
   "id": "a441df9a",
   "metadata": {},
   "outputs": [],
   "source": []
  },
  {
   "cell_type": "code",
   "execution_count": 4,
   "id": "877ebf72",
   "metadata": {},
   "outputs": [],
   "source": [
    "df=pd.DataFrame(A,columns=['a0','a1'])"
   ]
  },
  {
   "cell_type": "code",
   "execution_count": 5,
   "id": "25443a18",
   "metadata": {},
   "outputs": [
    {
     "data": {
      "text/html": [
       "<div>\n",
       "<style scoped>\n",
       "    .dataframe tbody tr th:only-of-type {\n",
       "        vertical-align: middle;\n",
       "    }\n",
       "\n",
       "    .dataframe tbody tr th {\n",
       "        vertical-align: top;\n",
       "    }\n",
       "\n",
       "    .dataframe thead th {\n",
       "        text-align: right;\n",
       "    }\n",
       "</style>\n",
       "<table border=\"1\" class=\"dataframe\">\n",
       "  <thead>\n",
       "    <tr style=\"text-align: right;\">\n",
       "      <th></th>\n",
       "      <th>a0</th>\n",
       "      <th>a1</th>\n",
       "    </tr>\n",
       "  </thead>\n",
       "  <tbody>\n",
       "    <tr>\n",
       "      <th>0</th>\n",
       "      <td>3</td>\n",
       "      <td>7</td>\n",
       "    </tr>\n",
       "    <tr>\n",
       "      <th>1</th>\n",
       "      <td>-4</td>\n",
       "      <td>-6</td>\n",
       "    </tr>\n",
       "    <tr>\n",
       "      <th>2</th>\n",
       "      <td>7</td>\n",
       "      <td>8</td>\n",
       "    </tr>\n",
       "    <tr>\n",
       "      <th>3</th>\n",
       "      <td>1</td>\n",
       "      <td>-1</td>\n",
       "    </tr>\n",
       "    <tr>\n",
       "      <th>4</th>\n",
       "      <td>-4</td>\n",
       "      <td>-1</td>\n",
       "    </tr>\n",
       "    <tr>\n",
       "      <th>5</th>\n",
       "      <td>-3</td>\n",
       "      <td>-7</td>\n",
       "    </tr>\n",
       "  </tbody>\n",
       "</table>\n",
       "</div>"
      ],
      "text/plain": [
       "   a0  a1\n",
       "0   3   7\n",
       "1  -4  -6\n",
       "2   7   8\n",
       "3   1  -1\n",
       "4  -4  -1\n",
       "5  -3  -7"
      ]
     },
     "execution_count": 5,
     "metadata": {},
     "output_type": "execute_result"
    }
   ],
   "source": [
    "df"
   ]
  },
  {
   "cell_type": "code",
   "execution_count": 6,
   "id": "5717822f",
   "metadata": {},
   "outputs": [
    {
     "data": {
      "text/plain": [
       "array([[ 3,  7],\n",
       "       [-4, -6],\n",
       "       [ 7,  8],\n",
       "       [ 1, -1],\n",
       "       [-4, -1],\n",
       "       [-3, -7]])"
      ]
     },
     "execution_count": 6,
     "metadata": {},
     "output_type": "execute_result"
    }
   ],
   "source": [
    "A"
   ]
  },
  {
   "cell_type": "code",
   "execution_count": 7,
   "id": "869b6f72",
   "metadata": {},
   "outputs": [],
   "source": [
    "a0=A[:,0]\n",
    "a1=A[:,1]"
   ]
  },
  {
   "cell_type": "code",
   "execution_count": 8,
   "id": "095336a4",
   "metadata": {},
   "outputs": [
    {
     "data": {
      "text/plain": [
       "array([ 3, -4,  7,  1, -4, -3])"
      ]
     },
     "execution_count": 8,
     "metadata": {},
     "output_type": "execute_result"
    }
   ],
   "source": [
    "a0"
   ]
  },
  {
   "cell_type": "code",
   "execution_count": 9,
   "id": "f1ddd555",
   "metadata": {},
   "outputs": [
    {
     "data": {
      "text/plain": [
       "array([ 7, -6,  8, -1, -1, -7])"
      ]
     },
     "execution_count": 9,
     "metadata": {},
     "output_type": "execute_result"
    }
   ],
   "source": [
    "a1"
   ]
  },
  {
   "cell_type": "code",
   "execution_count": 10,
   "id": "ec4de817",
   "metadata": {},
   "outputs": [
    {
     "data": {
      "text/plain": [
       "array([[20., 25.],\n",
       "       [25., 40.]])"
      ]
     },
     "execution_count": 10,
     "metadata": {},
     "output_type": "execute_result"
    }
   ],
   "source": [
    "np.cov(a0,a1)"
   ]
  },
  {
   "cell_type": "code",
   "execution_count": 11,
   "id": "4d8b0f69",
   "metadata": {},
   "outputs": [
    {
     "data": {
      "text/plain": [
       "25.0"
      ]
     },
     "execution_count": 11,
     "metadata": {},
     "output_type": "execute_result"
    }
   ],
   "source": [
    "np.sum(a0*a1)/5"
   ]
  },
  {
   "cell_type": "code",
   "execution_count": 12,
   "id": "144339e8",
   "metadata": {},
   "outputs": [
    {
     "data": {
      "text/plain": [
       "array([[ 3,  7],\n",
       "       [-4, -6],\n",
       "       [ 7,  8],\n",
       "       [ 1, -1],\n",
       "       [-4, -1],\n",
       "       [-3, -7]])"
      ]
     },
     "execution_count": 12,
     "metadata": {},
     "output_type": "execute_result"
    }
   ],
   "source": [
    "A"
   ]
  },
  {
   "cell_type": "code",
   "execution_count": 13,
   "id": "a9c1c066",
   "metadata": {},
   "outputs": [
    {
     "data": {
      "text/plain": [
       "array([[ 3, -4,  7,  1, -4, -3],\n",
       "       [ 7, -6,  8, -1, -1, -7]])"
      ]
     },
     "execution_count": 13,
     "metadata": {},
     "output_type": "execute_result"
    }
   ],
   "source": [
    "A.T"
   ]
  },
  {
   "cell_type": "code",
   "execution_count": 14,
   "id": "98e2a35b",
   "metadata": {},
   "outputs": [],
   "source": [
    "sigma=A.T@ A/5"
   ]
  },
  {
   "cell_type": "code",
   "execution_count": 15,
   "id": "6429a603",
   "metadata": {},
   "outputs": [
    {
     "data": {
      "text/plain": [
       "array([[20., 25.],\n",
       "       [25., 40.]])"
      ]
     },
     "execution_count": 15,
     "metadata": {},
     "output_type": "execute_result"
    }
   ],
   "source": [
    " sigma"
   ]
  },
  {
   "cell_type": "code",
   "execution_count": 16,
   "id": "0087569c",
   "metadata": {},
   "outputs": [],
   "source": [
    "l,x=np.linalg.eig(sigma)"
   ]
  },
  {
   "cell_type": "code",
   "execution_count": 17,
   "id": "be1b6d72",
   "metadata": {},
   "outputs": [
    {
     "data": {
      "text/plain": [
       "array([ 3.07417596, 56.92582404])"
      ]
     },
     "execution_count": 17,
     "metadata": {},
     "output_type": "execute_result"
    }
   ],
   "source": [
    "l"
   ]
  },
  {
   "cell_type": "code",
   "execution_count": 18,
   "id": "eb2c3698",
   "metadata": {},
   "outputs": [
    {
     "data": {
      "text/plain": [
       "array([[-0.82806723, -0.56062881],\n",
       "       [ 0.56062881, -0.82806723]])"
      ]
     },
     "execution_count": 18,
     "metadata": {},
     "output_type": "execute_result"
    }
   ],
   "source": [
    "x"
   ]
  },
  {
   "cell_type": "code",
   "execution_count": 19,
   "id": "2a1657da",
   "metadata": {},
   "outputs": [
    {
     "data": {
      "text/plain": [
       "array([[20., 25.],\n",
       "       [25., 40.]])"
      ]
     },
     "execution_count": 19,
     "metadata": {},
     "output_type": "execute_result"
    }
   ],
   "source": [
    "sigma"
   ]
  },
  {
   "cell_type": "code",
   "execution_count": 20,
   "id": "8060698f",
   "metadata": {},
   "outputs": [
    {
     "data": {
      "text/plain": [
       "array([-2.54562438,  1.72347161])"
      ]
     },
     "execution_count": 20,
     "metadata": {},
     "output_type": "execute_result"
    }
   ],
   "source": [
    "sigma@x[:,0]"
   ]
  },
  {
   "cell_type": "code",
   "execution_count": 21,
   "id": "5287c3c6",
   "metadata": {},
   "outputs": [
    {
     "data": {
      "text/plain": [
       "array([-31.91425695, -47.13840945])"
      ]
     },
     "execution_count": 21,
     "metadata": {},
     "output_type": "execute_result"
    }
   ],
   "source": [
    "sigma@x[:,1]"
   ]
  },
  {
   "cell_type": "code",
   "execution_count": 22,
   "id": "81d48b5d",
   "metadata": {},
   "outputs": [
    {
     "data": {
      "text/plain": [
       "array([[-0.82806723, -0.56062881],\n",
       "       [ 0.56062881, -0.82806723]])"
      ]
     },
     "execution_count": 22,
     "metadata": {},
     "output_type": "execute_result"
    }
   ],
   "source": [
    "x"
   ]
  },
  {
   "cell_type": "code",
   "execution_count": 23,
   "id": "a996e2d4",
   "metadata": {},
   "outputs": [
    {
     "name": "stdout",
     "output_type": "stream",
     "text": [
      "first principal component\n"
     ]
    },
    {
     "data": {
      "text/plain": [
       "array([-0.56062881, -0.82806723])"
      ]
     },
     "execution_count": 23,
     "metadata": {},
     "output_type": "execute_result"
    }
   ],
   "source": [
    "print('first principal component')\n",
    "x[:,1]"
   ]
  },
  {
   "cell_type": "code",
   "execution_count": 24,
   "id": "ce0589af",
   "metadata": {},
   "outputs": [
    {
     "name": "stdout",
     "output_type": "stream",
     "text": [
      "second principal component\n"
     ]
    },
    {
     "data": {
      "text/plain": [
       "array([-0.82806723,  0.56062881])"
      ]
     },
     "execution_count": 24,
     "metadata": {},
     "output_type": "execute_result"
    }
   ],
   "source": [
    "print('second principal component')\n",
    "x[:,0]"
   ]
  },
  {
   "cell_type": "code",
   "execution_count": 25,
   "id": "f9bfa59b",
   "metadata": {},
   "outputs": [
    {
     "data": {
      "text/plain": [
       "array([ -7.47835704,   7.21091862, -10.54893951,   0.26743842,\n",
       "         3.07058247,   7.47835704])"
      ]
     },
     "execution_count": 25,
     "metadata": {},
     "output_type": "execute_result"
    }
   ],
   "source": [
    "pc1_arr= A @ x[:,1]\n",
    "pc1_arr"
   ]
  },
  {
   "cell_type": "code",
   "execution_count": 26,
   "id": "b51bc0f9",
   "metadata": {},
   "outputs": [
    {
     "data": {
      "text/plain": [
       "array([ 1.44019997, -0.05150393, -1.31144014, -1.38869604,  2.75164011,\n",
       "       -1.44019997])"
      ]
     },
     "execution_count": 26,
     "metadata": {},
     "output_type": "execute_result"
    }
   ],
   "source": [
    "pc2_arr= A @ x[:,0]\n",
    "pc2_arr"
   ]
  },
  {
   "cell_type": "code",
   "execution_count": 27,
   "id": "4aa357c9",
   "metadata": {},
   "outputs": [],
   "source": [
    "import pandas as pd"
   ]
  },
  {
   "cell_type": "code",
   "execution_count": 28,
   "id": "3197c0ec",
   "metadata": {},
   "outputs": [],
   "source": [
    "df=pd.read_csv(r\"C:\\Users\\lenov\\Downloads\\glass.csv\")"
   ]
  },
  {
   "cell_type": "code",
   "execution_count": 29,
   "id": "b7f164fc",
   "metadata": {},
   "outputs": [
    {
     "data": {
      "text/html": [
       "<div>\n",
       "<style scoped>\n",
       "    .dataframe tbody tr th:only-of-type {\n",
       "        vertical-align: middle;\n",
       "    }\n",
       "\n",
       "    .dataframe tbody tr th {\n",
       "        vertical-align: top;\n",
       "    }\n",
       "\n",
       "    .dataframe thead th {\n",
       "        text-align: right;\n",
       "    }\n",
       "</style>\n",
       "<table border=\"1\" class=\"dataframe\">\n",
       "  <thead>\n",
       "    <tr style=\"text-align: right;\">\n",
       "      <th></th>\n",
       "      <th>RI</th>\n",
       "      <th>Na</th>\n",
       "      <th>Mg</th>\n",
       "      <th>Al</th>\n",
       "      <th>Si</th>\n",
       "      <th>K</th>\n",
       "      <th>Ca</th>\n",
       "      <th>Ba</th>\n",
       "      <th>Fe</th>\n",
       "      <th>Type</th>\n",
       "    </tr>\n",
       "  </thead>\n",
       "  <tbody>\n",
       "    <tr>\n",
       "      <th>0</th>\n",
       "      <td>1.52101</td>\n",
       "      <td>13.64</td>\n",
       "      <td>4.49</td>\n",
       "      <td>1.10</td>\n",
       "      <td>71.78</td>\n",
       "      <td>0.06</td>\n",
       "      <td>8.75</td>\n",
       "      <td>0.00</td>\n",
       "      <td>0.0</td>\n",
       "      <td>1</td>\n",
       "    </tr>\n",
       "    <tr>\n",
       "      <th>1</th>\n",
       "      <td>1.51761</td>\n",
       "      <td>13.89</td>\n",
       "      <td>3.60</td>\n",
       "      <td>1.36</td>\n",
       "      <td>72.73</td>\n",
       "      <td>0.48</td>\n",
       "      <td>7.83</td>\n",
       "      <td>0.00</td>\n",
       "      <td>0.0</td>\n",
       "      <td>1</td>\n",
       "    </tr>\n",
       "    <tr>\n",
       "      <th>2</th>\n",
       "      <td>1.51618</td>\n",
       "      <td>13.53</td>\n",
       "      <td>3.55</td>\n",
       "      <td>1.54</td>\n",
       "      <td>72.99</td>\n",
       "      <td>0.39</td>\n",
       "      <td>7.78</td>\n",
       "      <td>0.00</td>\n",
       "      <td>0.0</td>\n",
       "      <td>1</td>\n",
       "    </tr>\n",
       "    <tr>\n",
       "      <th>3</th>\n",
       "      <td>1.51766</td>\n",
       "      <td>13.21</td>\n",
       "      <td>3.69</td>\n",
       "      <td>1.29</td>\n",
       "      <td>72.61</td>\n",
       "      <td>0.57</td>\n",
       "      <td>8.22</td>\n",
       "      <td>0.00</td>\n",
       "      <td>0.0</td>\n",
       "      <td>1</td>\n",
       "    </tr>\n",
       "    <tr>\n",
       "      <th>4</th>\n",
       "      <td>1.51742</td>\n",
       "      <td>13.27</td>\n",
       "      <td>3.62</td>\n",
       "      <td>1.24</td>\n",
       "      <td>73.08</td>\n",
       "      <td>0.55</td>\n",
       "      <td>8.07</td>\n",
       "      <td>0.00</td>\n",
       "      <td>0.0</td>\n",
       "      <td>1</td>\n",
       "    </tr>\n",
       "    <tr>\n",
       "      <th>...</th>\n",
       "      <td>...</td>\n",
       "      <td>...</td>\n",
       "      <td>...</td>\n",
       "      <td>...</td>\n",
       "      <td>...</td>\n",
       "      <td>...</td>\n",
       "      <td>...</td>\n",
       "      <td>...</td>\n",
       "      <td>...</td>\n",
       "      <td>...</td>\n",
       "    </tr>\n",
       "    <tr>\n",
       "      <th>209</th>\n",
       "      <td>1.51623</td>\n",
       "      <td>14.14</td>\n",
       "      <td>0.00</td>\n",
       "      <td>2.88</td>\n",
       "      <td>72.61</td>\n",
       "      <td>0.08</td>\n",
       "      <td>9.18</td>\n",
       "      <td>1.06</td>\n",
       "      <td>0.0</td>\n",
       "      <td>7</td>\n",
       "    </tr>\n",
       "    <tr>\n",
       "      <th>210</th>\n",
       "      <td>1.51685</td>\n",
       "      <td>14.92</td>\n",
       "      <td>0.00</td>\n",
       "      <td>1.99</td>\n",
       "      <td>73.06</td>\n",
       "      <td>0.00</td>\n",
       "      <td>8.40</td>\n",
       "      <td>1.59</td>\n",
       "      <td>0.0</td>\n",
       "      <td>7</td>\n",
       "    </tr>\n",
       "    <tr>\n",
       "      <th>211</th>\n",
       "      <td>1.52065</td>\n",
       "      <td>14.36</td>\n",
       "      <td>0.00</td>\n",
       "      <td>2.02</td>\n",
       "      <td>73.42</td>\n",
       "      <td>0.00</td>\n",
       "      <td>8.44</td>\n",
       "      <td>1.64</td>\n",
       "      <td>0.0</td>\n",
       "      <td>7</td>\n",
       "    </tr>\n",
       "    <tr>\n",
       "      <th>212</th>\n",
       "      <td>1.51651</td>\n",
       "      <td>14.38</td>\n",
       "      <td>0.00</td>\n",
       "      <td>1.94</td>\n",
       "      <td>73.61</td>\n",
       "      <td>0.00</td>\n",
       "      <td>8.48</td>\n",
       "      <td>1.57</td>\n",
       "      <td>0.0</td>\n",
       "      <td>7</td>\n",
       "    </tr>\n",
       "    <tr>\n",
       "      <th>213</th>\n",
       "      <td>1.51711</td>\n",
       "      <td>14.23</td>\n",
       "      <td>0.00</td>\n",
       "      <td>2.08</td>\n",
       "      <td>73.36</td>\n",
       "      <td>0.00</td>\n",
       "      <td>8.62</td>\n",
       "      <td>1.67</td>\n",
       "      <td>0.0</td>\n",
       "      <td>7</td>\n",
       "    </tr>\n",
       "  </tbody>\n",
       "</table>\n",
       "<p>214 rows × 10 columns</p>\n",
       "</div>"
      ],
      "text/plain": [
       "          RI     Na    Mg    Al     Si     K    Ca    Ba   Fe  Type\n",
       "0    1.52101  13.64  4.49  1.10  71.78  0.06  8.75  0.00  0.0     1\n",
       "1    1.51761  13.89  3.60  1.36  72.73  0.48  7.83  0.00  0.0     1\n",
       "2    1.51618  13.53  3.55  1.54  72.99  0.39  7.78  0.00  0.0     1\n",
       "3    1.51766  13.21  3.69  1.29  72.61  0.57  8.22  0.00  0.0     1\n",
       "4    1.51742  13.27  3.62  1.24  73.08  0.55  8.07  0.00  0.0     1\n",
       "..       ...    ...   ...   ...    ...   ...   ...   ...  ...   ...\n",
       "209  1.51623  14.14  0.00  2.88  72.61  0.08  9.18  1.06  0.0     7\n",
       "210  1.51685  14.92  0.00  1.99  73.06  0.00  8.40  1.59  0.0     7\n",
       "211  1.52065  14.36  0.00  2.02  73.42  0.00  8.44  1.64  0.0     7\n",
       "212  1.51651  14.38  0.00  1.94  73.61  0.00  8.48  1.57  0.0     7\n",
       "213  1.51711  14.23  0.00  2.08  73.36  0.00  8.62  1.67  0.0     7\n",
       "\n",
       "[214 rows x 10 columns]"
      ]
     },
     "execution_count": 29,
     "metadata": {},
     "output_type": "execute_result"
    }
   ],
   "source": [
    "df"
   ]
  },
  {
   "cell_type": "code",
   "execution_count": 30,
   "id": "615cd2df",
   "metadata": {},
   "outputs": [
    {
     "data": {
      "text/plain": [
       "array([1, 2, 3, 5, 6, 7], dtype=int64)"
      ]
     },
     "execution_count": 30,
     "metadata": {},
     "output_type": "execute_result"
    }
   ],
   "source": [
    "df['Type'].unique()"
   ]
  },
  {
   "cell_type": "code",
   "execution_count": 31,
   "id": "12df6ad5",
   "metadata": {},
   "outputs": [],
   "source": [
    "df1=df.drop(columns=['Type'])"
   ]
  },
  {
   "cell_type": "code",
   "execution_count": 32,
   "id": "3c7b326a",
   "metadata": {},
   "outputs": [
    {
     "data": {
      "text/html": [
       "<div>\n",
       "<style scoped>\n",
       "    .dataframe tbody tr th:only-of-type {\n",
       "        vertical-align: middle;\n",
       "    }\n",
       "\n",
       "    .dataframe tbody tr th {\n",
       "        vertical-align: top;\n",
       "    }\n",
       "\n",
       "    .dataframe thead th {\n",
       "        text-align: right;\n",
       "    }\n",
       "</style>\n",
       "<table border=\"1\" class=\"dataframe\">\n",
       "  <thead>\n",
       "    <tr style=\"text-align: right;\">\n",
       "      <th></th>\n",
       "      <th>RI</th>\n",
       "      <th>Na</th>\n",
       "      <th>Mg</th>\n",
       "      <th>Al</th>\n",
       "      <th>Si</th>\n",
       "      <th>K</th>\n",
       "      <th>Ca</th>\n",
       "      <th>Ba</th>\n",
       "      <th>Fe</th>\n",
       "    </tr>\n",
       "  </thead>\n",
       "  <tbody>\n",
       "    <tr>\n",
       "      <th>0</th>\n",
       "      <td>1.52101</td>\n",
       "      <td>13.64</td>\n",
       "      <td>4.49</td>\n",
       "      <td>1.10</td>\n",
       "      <td>71.78</td>\n",
       "      <td>0.06</td>\n",
       "      <td>8.75</td>\n",
       "      <td>0.00</td>\n",
       "      <td>0.0</td>\n",
       "    </tr>\n",
       "    <tr>\n",
       "      <th>1</th>\n",
       "      <td>1.51761</td>\n",
       "      <td>13.89</td>\n",
       "      <td>3.60</td>\n",
       "      <td>1.36</td>\n",
       "      <td>72.73</td>\n",
       "      <td>0.48</td>\n",
       "      <td>7.83</td>\n",
       "      <td>0.00</td>\n",
       "      <td>0.0</td>\n",
       "    </tr>\n",
       "    <tr>\n",
       "      <th>2</th>\n",
       "      <td>1.51618</td>\n",
       "      <td>13.53</td>\n",
       "      <td>3.55</td>\n",
       "      <td>1.54</td>\n",
       "      <td>72.99</td>\n",
       "      <td>0.39</td>\n",
       "      <td>7.78</td>\n",
       "      <td>0.00</td>\n",
       "      <td>0.0</td>\n",
       "    </tr>\n",
       "    <tr>\n",
       "      <th>3</th>\n",
       "      <td>1.51766</td>\n",
       "      <td>13.21</td>\n",
       "      <td>3.69</td>\n",
       "      <td>1.29</td>\n",
       "      <td>72.61</td>\n",
       "      <td>0.57</td>\n",
       "      <td>8.22</td>\n",
       "      <td>0.00</td>\n",
       "      <td>0.0</td>\n",
       "    </tr>\n",
       "    <tr>\n",
       "      <th>4</th>\n",
       "      <td>1.51742</td>\n",
       "      <td>13.27</td>\n",
       "      <td>3.62</td>\n",
       "      <td>1.24</td>\n",
       "      <td>73.08</td>\n",
       "      <td>0.55</td>\n",
       "      <td>8.07</td>\n",
       "      <td>0.00</td>\n",
       "      <td>0.0</td>\n",
       "    </tr>\n",
       "    <tr>\n",
       "      <th>...</th>\n",
       "      <td>...</td>\n",
       "      <td>...</td>\n",
       "      <td>...</td>\n",
       "      <td>...</td>\n",
       "      <td>...</td>\n",
       "      <td>...</td>\n",
       "      <td>...</td>\n",
       "      <td>...</td>\n",
       "      <td>...</td>\n",
       "    </tr>\n",
       "    <tr>\n",
       "      <th>209</th>\n",
       "      <td>1.51623</td>\n",
       "      <td>14.14</td>\n",
       "      <td>0.00</td>\n",
       "      <td>2.88</td>\n",
       "      <td>72.61</td>\n",
       "      <td>0.08</td>\n",
       "      <td>9.18</td>\n",
       "      <td>1.06</td>\n",
       "      <td>0.0</td>\n",
       "    </tr>\n",
       "    <tr>\n",
       "      <th>210</th>\n",
       "      <td>1.51685</td>\n",
       "      <td>14.92</td>\n",
       "      <td>0.00</td>\n",
       "      <td>1.99</td>\n",
       "      <td>73.06</td>\n",
       "      <td>0.00</td>\n",
       "      <td>8.40</td>\n",
       "      <td>1.59</td>\n",
       "      <td>0.0</td>\n",
       "    </tr>\n",
       "    <tr>\n",
       "      <th>211</th>\n",
       "      <td>1.52065</td>\n",
       "      <td>14.36</td>\n",
       "      <td>0.00</td>\n",
       "      <td>2.02</td>\n",
       "      <td>73.42</td>\n",
       "      <td>0.00</td>\n",
       "      <td>8.44</td>\n",
       "      <td>1.64</td>\n",
       "      <td>0.0</td>\n",
       "    </tr>\n",
       "    <tr>\n",
       "      <th>212</th>\n",
       "      <td>1.51651</td>\n",
       "      <td>14.38</td>\n",
       "      <td>0.00</td>\n",
       "      <td>1.94</td>\n",
       "      <td>73.61</td>\n",
       "      <td>0.00</td>\n",
       "      <td>8.48</td>\n",
       "      <td>1.57</td>\n",
       "      <td>0.0</td>\n",
       "    </tr>\n",
       "    <tr>\n",
       "      <th>213</th>\n",
       "      <td>1.51711</td>\n",
       "      <td>14.23</td>\n",
       "      <td>0.00</td>\n",
       "      <td>2.08</td>\n",
       "      <td>73.36</td>\n",
       "      <td>0.00</td>\n",
       "      <td>8.62</td>\n",
       "      <td>1.67</td>\n",
       "      <td>0.0</td>\n",
       "    </tr>\n",
       "  </tbody>\n",
       "</table>\n",
       "<p>214 rows × 9 columns</p>\n",
       "</div>"
      ],
      "text/plain": [
       "          RI     Na    Mg    Al     Si     K    Ca    Ba   Fe\n",
       "0    1.52101  13.64  4.49  1.10  71.78  0.06  8.75  0.00  0.0\n",
       "1    1.51761  13.89  3.60  1.36  72.73  0.48  7.83  0.00  0.0\n",
       "2    1.51618  13.53  3.55  1.54  72.99  0.39  7.78  0.00  0.0\n",
       "3    1.51766  13.21  3.69  1.29  72.61  0.57  8.22  0.00  0.0\n",
       "4    1.51742  13.27  3.62  1.24  73.08  0.55  8.07  0.00  0.0\n",
       "..       ...    ...   ...   ...    ...   ...   ...   ...  ...\n",
       "209  1.51623  14.14  0.00  2.88  72.61  0.08  9.18  1.06  0.0\n",
       "210  1.51685  14.92  0.00  1.99  73.06  0.00  8.40  1.59  0.0\n",
       "211  1.52065  14.36  0.00  2.02  73.42  0.00  8.44  1.64  0.0\n",
       "212  1.51651  14.38  0.00  1.94  73.61  0.00  8.48  1.57  0.0\n",
       "213  1.51711  14.23  0.00  2.08  73.36  0.00  8.62  1.67  0.0\n",
       "\n",
       "[214 rows x 9 columns]"
      ]
     },
     "execution_count": 32,
     "metadata": {},
     "output_type": "execute_result"
    }
   ],
   "source": [
    "df1"
   ]
  },
  {
   "cell_type": "code",
   "execution_count": 33,
   "id": "d60aa400",
   "metadata": {},
   "outputs": [
    {
     "data": {
      "text/html": [
       "<div>\n",
       "<style scoped>\n",
       "    .dataframe tbody tr th:only-of-type {\n",
       "        vertical-align: middle;\n",
       "    }\n",
       "\n",
       "    .dataframe tbody tr th {\n",
       "        vertical-align: top;\n",
       "    }\n",
       "\n",
       "    .dataframe thead th {\n",
       "        text-align: right;\n",
       "    }\n",
       "</style>\n",
       "<table border=\"1\" class=\"dataframe\">\n",
       "  <thead>\n",
       "    <tr style=\"text-align: right;\">\n",
       "      <th></th>\n",
       "      <th>RI</th>\n",
       "      <th>Na</th>\n",
       "      <th>Mg</th>\n",
       "      <th>Al</th>\n",
       "      <th>Si</th>\n",
       "      <th>K</th>\n",
       "      <th>Ca</th>\n",
       "      <th>Ba</th>\n",
       "      <th>Fe</th>\n",
       "    </tr>\n",
       "  </thead>\n",
       "  <tbody>\n",
       "    <tr>\n",
       "      <th>count</th>\n",
       "      <td>214.000000</td>\n",
       "      <td>214.000000</td>\n",
       "      <td>214.000000</td>\n",
       "      <td>214.000000</td>\n",
       "      <td>214.000000</td>\n",
       "      <td>214.000000</td>\n",
       "      <td>214.000000</td>\n",
       "      <td>214.000000</td>\n",
       "      <td>214.000000</td>\n",
       "    </tr>\n",
       "    <tr>\n",
       "      <th>mean</th>\n",
       "      <td>1.518365</td>\n",
       "      <td>13.407850</td>\n",
       "      <td>2.684533</td>\n",
       "      <td>1.444907</td>\n",
       "      <td>72.650935</td>\n",
       "      <td>0.497056</td>\n",
       "      <td>8.956963</td>\n",
       "      <td>0.175047</td>\n",
       "      <td>0.057009</td>\n",
       "    </tr>\n",
       "    <tr>\n",
       "      <th>std</th>\n",
       "      <td>0.003037</td>\n",
       "      <td>0.816604</td>\n",
       "      <td>1.442408</td>\n",
       "      <td>0.499270</td>\n",
       "      <td>0.774546</td>\n",
       "      <td>0.652192</td>\n",
       "      <td>1.423153</td>\n",
       "      <td>0.497219</td>\n",
       "      <td>0.097439</td>\n",
       "    </tr>\n",
       "    <tr>\n",
       "      <th>min</th>\n",
       "      <td>1.511150</td>\n",
       "      <td>10.730000</td>\n",
       "      <td>0.000000</td>\n",
       "      <td>0.290000</td>\n",
       "      <td>69.810000</td>\n",
       "      <td>0.000000</td>\n",
       "      <td>5.430000</td>\n",
       "      <td>0.000000</td>\n",
       "      <td>0.000000</td>\n",
       "    </tr>\n",
       "    <tr>\n",
       "      <th>25%</th>\n",
       "      <td>1.516522</td>\n",
       "      <td>12.907500</td>\n",
       "      <td>2.115000</td>\n",
       "      <td>1.190000</td>\n",
       "      <td>72.280000</td>\n",
       "      <td>0.122500</td>\n",
       "      <td>8.240000</td>\n",
       "      <td>0.000000</td>\n",
       "      <td>0.000000</td>\n",
       "    </tr>\n",
       "    <tr>\n",
       "      <th>50%</th>\n",
       "      <td>1.517680</td>\n",
       "      <td>13.300000</td>\n",
       "      <td>3.480000</td>\n",
       "      <td>1.360000</td>\n",
       "      <td>72.790000</td>\n",
       "      <td>0.555000</td>\n",
       "      <td>8.600000</td>\n",
       "      <td>0.000000</td>\n",
       "      <td>0.000000</td>\n",
       "    </tr>\n",
       "    <tr>\n",
       "      <th>75%</th>\n",
       "      <td>1.519157</td>\n",
       "      <td>13.825000</td>\n",
       "      <td>3.600000</td>\n",
       "      <td>1.630000</td>\n",
       "      <td>73.087500</td>\n",
       "      <td>0.610000</td>\n",
       "      <td>9.172500</td>\n",
       "      <td>0.000000</td>\n",
       "      <td>0.100000</td>\n",
       "    </tr>\n",
       "    <tr>\n",
       "      <th>max</th>\n",
       "      <td>1.533930</td>\n",
       "      <td>17.380000</td>\n",
       "      <td>4.490000</td>\n",
       "      <td>3.500000</td>\n",
       "      <td>75.410000</td>\n",
       "      <td>6.210000</td>\n",
       "      <td>16.190000</td>\n",
       "      <td>3.150000</td>\n",
       "      <td>0.510000</td>\n",
       "    </tr>\n",
       "  </tbody>\n",
       "</table>\n",
       "</div>"
      ],
      "text/plain": [
       "               RI          Na          Mg          Al          Si           K  \\\n",
       "count  214.000000  214.000000  214.000000  214.000000  214.000000  214.000000   \n",
       "mean     1.518365   13.407850    2.684533    1.444907   72.650935    0.497056   \n",
       "std      0.003037    0.816604    1.442408    0.499270    0.774546    0.652192   \n",
       "min      1.511150   10.730000    0.000000    0.290000   69.810000    0.000000   \n",
       "25%      1.516522   12.907500    2.115000    1.190000   72.280000    0.122500   \n",
       "50%      1.517680   13.300000    3.480000    1.360000   72.790000    0.555000   \n",
       "75%      1.519157   13.825000    3.600000    1.630000   73.087500    0.610000   \n",
       "max      1.533930   17.380000    4.490000    3.500000   75.410000    6.210000   \n",
       "\n",
       "               Ca          Ba          Fe  \n",
       "count  214.000000  214.000000  214.000000  \n",
       "mean     8.956963    0.175047    0.057009  \n",
       "std      1.423153    0.497219    0.097439  \n",
       "min      5.430000    0.000000    0.000000  \n",
       "25%      8.240000    0.000000    0.000000  \n",
       "50%      8.600000    0.000000    0.000000  \n",
       "75%      9.172500    0.000000    0.100000  \n",
       "max     16.190000    3.150000    0.510000  "
      ]
     },
     "execution_count": 33,
     "metadata": {},
     "output_type": "execute_result"
    }
   ],
   "source": [
    "df1.describe()"
   ]
  },
  {
   "cell_type": "code",
   "execution_count": 45,
   "id": "b192cdcd",
   "metadata": {},
   "outputs": [
    {
     "data": {
      "text/plain": [
       "array([[ 1.00469484e+00, -1.92786249e-01, -1.22848096e-01,\n",
       "        -4.09238363e-01, -5.44597046e-01, -2.91193428e-01,\n",
       "         8.14207404e-01, -3.87831208e-04,  1.43681016e-01],\n",
       "       [-1.92786249e-01,  1.00469484e+00, -2.75017087e-01,\n",
       "         1.57529788e-01, -7.01365474e-02, -2.67335737e-01,\n",
       "        -2.76735643e-01,  3.28136226e-01, -2.42479493e-01],\n",
       "       [-1.22848096e-01, -2.75017087e-01,  1.00469484e+00,\n",
       "        -4.84060474e-01, -1.66705721e-01,  5.42099905e-03,\n",
       "        -4.45833360e-01, -4.94573208e-01,  8.34494798e-02],\n",
       "       [-4.09238363e-01,  1.57529788e-01, -4.84060474e-01,\n",
       "         1.00469484e+00, -5.54965338e-03,  3.27488767e-01,\n",
       "        -2.60810752e-01,  4.81654624e-01, -7.47514567e-02],\n",
       "       [-5.44597046e-01, -7.01365474e-02, -1.66705721e-01,\n",
       "        -5.54965338e-03,  1.00469484e+00, -1.94238511e-01,\n",
       "        -2.09712117e-01, -1.02630894e-01, -9.46429875e-02],\n",
       "       [-2.91193428e-01, -2.67335737e-01,  5.42099905e-03,\n",
       "         3.27488767e-01, -1.94238511e-01,  1.00469484e+00,\n",
       "        -3.19328343e-01, -4.28181441e-02, -7.75528879e-03],\n",
       "       [ 8.14207404e-01, -2.76735643e-01, -4.45833360e-01,\n",
       "        -2.60810752e-01, -2.09712117e-01, -3.19328343e-01,\n",
       "         1.00469484e+00, -1.13370737e-01,  1.25554924e-01],\n",
       "       [-3.87831208e-04,  3.28136226e-01, -4.94573208e-01,\n",
       "         4.81654624e-01, -1.02630894e-01, -4.28181441e-02,\n",
       "        -1.13370737e-01,  1.00469484e+00, -5.89673036e-02],\n",
       "       [ 1.43681016e-01, -2.42479493e-01,  8.34494798e-02,\n",
       "        -7.47514567e-02, -9.46429875e-02, -7.75528879e-03,\n",
       "         1.25554924e-01, -5.89673036e-02,  1.00469484e+00]])"
      ]
     },
     "execution_count": 45,
     "metadata": {},
     "output_type": "execute_result"
    }
   ],
   "source": [
    "df_scaler.T @ df_scaler/213"
   ]
  },
  {
   "cell_type": "code",
   "execution_count": null,
   "id": "ed82d567",
   "metadata": {},
   "outputs": [],
   "source": []
  },
  {
   "cell_type": "code",
   "execution_count": null,
   "id": "c23cff9a",
   "metadata": {},
   "outputs": [],
   "source": []
  },
  {
   "cell_type": "code",
   "execution_count": null,
   "id": "385848c4",
   "metadata": {},
   "outputs": [],
   "source": []
  },
  {
   "cell_type": "code",
   "execution_count": null,
   "id": "00ac1d92",
   "metadata": {},
   "outputs": [],
   "source": []
  },
  {
   "cell_type": "code",
   "execution_count": null,
   "id": "fad6240d",
   "metadata": {},
   "outputs": [],
   "source": []
  },
  {
   "cell_type": "code",
   "execution_count": null,
   "id": "ba9b11ab",
   "metadata": {},
   "outputs": [],
   "source": []
  },
  {
   "cell_type": "code",
   "execution_count": 70,
   "id": "bfe48c77",
   "metadata": {},
   "outputs": [],
   "source": [
    "### conver the data in standarzation of pc1 model say"
   ]
  },
  {
   "cell_type": "code",
   "execution_count": 35,
   "id": "0f247317",
   "metadata": {},
   "outputs": [],
   "source": [
    "from sklearn.preprocessing import StandardScaler"
   ]
  },
  {
   "cell_type": "code",
   "execution_count": 36,
   "id": "6916731a",
   "metadata": {},
   "outputs": [],
   "source": [
    "scaler=StandardScaler()\n",
    "df_scaler=scaler.fit_transform(df1)"
   ]
  },
  {
   "cell_type": "code",
   "execution_count": 37,
   "id": "5dd0a877",
   "metadata": {},
   "outputs": [],
   "source": [
    "df2=pd.DataFrame(df_scaler)"
   ]
  },
  {
   "cell_type": "code",
   "execution_count": 38,
   "id": "1062773e",
   "metadata": {},
   "outputs": [
    {
     "data": {
      "text/html": [
       "<div>\n",
       "<style scoped>\n",
       "    .dataframe tbody tr th:only-of-type {\n",
       "        vertical-align: middle;\n",
       "    }\n",
       "\n",
       "    .dataframe tbody tr th {\n",
       "        vertical-align: top;\n",
       "    }\n",
       "\n",
       "    .dataframe thead th {\n",
       "        text-align: right;\n",
       "    }\n",
       "</style>\n",
       "<table border=\"1\" class=\"dataframe\">\n",
       "  <thead>\n",
       "    <tr style=\"text-align: right;\">\n",
       "      <th></th>\n",
       "      <th>0</th>\n",
       "      <th>1</th>\n",
       "      <th>2</th>\n",
       "      <th>3</th>\n",
       "      <th>4</th>\n",
       "      <th>5</th>\n",
       "      <th>6</th>\n",
       "      <th>7</th>\n",
       "      <th>8</th>\n",
       "    </tr>\n",
       "  </thead>\n",
       "  <tbody>\n",
       "    <tr>\n",
       "      <th>0</th>\n",
       "      <td>0.872868</td>\n",
       "      <td>0.284953</td>\n",
       "      <td>1.254639</td>\n",
       "      <td>-0.692442</td>\n",
       "      <td>-1.127082</td>\n",
       "      <td>-0.671705</td>\n",
       "      <td>-0.145766</td>\n",
       "      <td>-0.352877</td>\n",
       "      <td>-0.586451</td>\n",
       "    </tr>\n",
       "    <tr>\n",
       "      <th>1</th>\n",
       "      <td>-0.249333</td>\n",
       "      <td>0.591817</td>\n",
       "      <td>0.636168</td>\n",
       "      <td>-0.170460</td>\n",
       "      <td>0.102319</td>\n",
       "      <td>-0.026213</td>\n",
       "      <td>-0.793734</td>\n",
       "      <td>-0.352877</td>\n",
       "      <td>-0.586451</td>\n",
       "    </tr>\n",
       "    <tr>\n",
       "      <th>2</th>\n",
       "      <td>-0.721318</td>\n",
       "      <td>0.149933</td>\n",
       "      <td>0.601422</td>\n",
       "      <td>0.190912</td>\n",
       "      <td>0.438787</td>\n",
       "      <td>-0.164533</td>\n",
       "      <td>-0.828949</td>\n",
       "      <td>-0.352877</td>\n",
       "      <td>-0.586451</td>\n",
       "    </tr>\n",
       "    <tr>\n",
       "      <th>3</th>\n",
       "      <td>-0.232831</td>\n",
       "      <td>-0.242853</td>\n",
       "      <td>0.698710</td>\n",
       "      <td>-0.310994</td>\n",
       "      <td>-0.052974</td>\n",
       "      <td>0.112107</td>\n",
       "      <td>-0.519052</td>\n",
       "      <td>-0.352877</td>\n",
       "      <td>-0.586451</td>\n",
       "    </tr>\n",
       "    <tr>\n",
       "      <th>4</th>\n",
       "      <td>-0.312045</td>\n",
       "      <td>-0.169205</td>\n",
       "      <td>0.650066</td>\n",
       "      <td>-0.411375</td>\n",
       "      <td>0.555256</td>\n",
       "      <td>0.081369</td>\n",
       "      <td>-0.624699</td>\n",
       "      <td>-0.352877</td>\n",
       "      <td>-0.586451</td>\n",
       "    </tr>\n",
       "    <tr>\n",
       "      <th>...</th>\n",
       "      <td>...</td>\n",
       "      <td>...</td>\n",
       "      <td>...</td>\n",
       "      <td>...</td>\n",
       "      <td>...</td>\n",
       "      <td>...</td>\n",
       "      <td>...</td>\n",
       "      <td>...</td>\n",
       "      <td>...</td>\n",
       "    </tr>\n",
       "    <tr>\n",
       "      <th>209</th>\n",
       "      <td>-0.704815</td>\n",
       "      <td>0.898681</td>\n",
       "      <td>-1.865511</td>\n",
       "      <td>2.881125</td>\n",
       "      <td>-0.052974</td>\n",
       "      <td>-0.640968</td>\n",
       "      <td>0.157088</td>\n",
       "      <td>1.783978</td>\n",
       "      <td>-0.586451</td>\n",
       "    </tr>\n",
       "    <tr>\n",
       "      <th>210</th>\n",
       "      <td>-0.500178</td>\n",
       "      <td>1.856097</td>\n",
       "      <td>-1.865511</td>\n",
       "      <td>1.094342</td>\n",
       "      <td>0.529374</td>\n",
       "      <td>-0.763919</td>\n",
       "      <td>-0.392276</td>\n",
       "      <td>2.852405</td>\n",
       "      <td>-0.586451</td>\n",
       "    </tr>\n",
       "    <tr>\n",
       "      <th>211</th>\n",
       "      <td>0.754046</td>\n",
       "      <td>1.168721</td>\n",
       "      <td>-1.865511</td>\n",
       "      <td>1.154570</td>\n",
       "      <td>0.995252</td>\n",
       "      <td>-0.763919</td>\n",
       "      <td>-0.364103</td>\n",
       "      <td>2.953200</td>\n",
       "      <td>-0.586451</td>\n",
       "    </tr>\n",
       "    <tr>\n",
       "      <th>212</th>\n",
       "      <td>-0.612399</td>\n",
       "      <td>1.193270</td>\n",
       "      <td>-1.865511</td>\n",
       "      <td>0.993960</td>\n",
       "      <td>1.241133</td>\n",
       "      <td>-0.763919</td>\n",
       "      <td>-0.335931</td>\n",
       "      <td>2.812087</td>\n",
       "      <td>-0.586451</td>\n",
       "    </tr>\n",
       "    <tr>\n",
       "      <th>213</th>\n",
       "      <td>-0.414363</td>\n",
       "      <td>1.009152</td>\n",
       "      <td>-1.865511</td>\n",
       "      <td>1.275028</td>\n",
       "      <td>0.917606</td>\n",
       "      <td>-0.763919</td>\n",
       "      <td>-0.237327</td>\n",
       "      <td>3.013677</td>\n",
       "      <td>-0.586451</td>\n",
       "    </tr>\n",
       "  </tbody>\n",
       "</table>\n",
       "<p>214 rows × 9 columns</p>\n",
       "</div>"
      ],
      "text/plain": [
       "            0         1         2         3         4         5         6  \\\n",
       "0    0.872868  0.284953  1.254639 -0.692442 -1.127082 -0.671705 -0.145766   \n",
       "1   -0.249333  0.591817  0.636168 -0.170460  0.102319 -0.026213 -0.793734   \n",
       "2   -0.721318  0.149933  0.601422  0.190912  0.438787 -0.164533 -0.828949   \n",
       "3   -0.232831 -0.242853  0.698710 -0.310994 -0.052974  0.112107 -0.519052   \n",
       "4   -0.312045 -0.169205  0.650066 -0.411375  0.555256  0.081369 -0.624699   \n",
       "..        ...       ...       ...       ...       ...       ...       ...   \n",
       "209 -0.704815  0.898681 -1.865511  2.881125 -0.052974 -0.640968  0.157088   \n",
       "210 -0.500178  1.856097 -1.865511  1.094342  0.529374 -0.763919 -0.392276   \n",
       "211  0.754046  1.168721 -1.865511  1.154570  0.995252 -0.763919 -0.364103   \n",
       "212 -0.612399  1.193270 -1.865511  0.993960  1.241133 -0.763919 -0.335931   \n",
       "213 -0.414363  1.009152 -1.865511  1.275028  0.917606 -0.763919 -0.237327   \n",
       "\n",
       "            7         8  \n",
       "0   -0.352877 -0.586451  \n",
       "1   -0.352877 -0.586451  \n",
       "2   -0.352877 -0.586451  \n",
       "3   -0.352877 -0.586451  \n",
       "4   -0.352877 -0.586451  \n",
       "..        ...       ...  \n",
       "209  1.783978 -0.586451  \n",
       "210  2.852405 -0.586451  \n",
       "211  2.953200 -0.586451  \n",
       "212  2.812087 -0.586451  \n",
       "213  3.013677 -0.586451  \n",
       "\n",
       "[214 rows x 9 columns]"
      ]
     },
     "execution_count": 38,
     "metadata": {},
     "output_type": "execute_result"
    }
   ],
   "source": [
    "df2"
   ]
  },
  {
   "cell_type": "code",
   "execution_count": 39,
   "id": "2745b84e",
   "metadata": {},
   "outputs": [
    {
     "data": {
      "text/html": [
       "<div>\n",
       "<style scoped>\n",
       "    .dataframe tbody tr th:only-of-type {\n",
       "        vertical-align: middle;\n",
       "    }\n",
       "\n",
       "    .dataframe tbody tr th {\n",
       "        vertical-align: top;\n",
       "    }\n",
       "\n",
       "    .dataframe thead th {\n",
       "        text-align: right;\n",
       "    }\n",
       "</style>\n",
       "<table border=\"1\" class=\"dataframe\">\n",
       "  <thead>\n",
       "    <tr style=\"text-align: right;\">\n",
       "      <th></th>\n",
       "      <th>0</th>\n",
       "      <th>1</th>\n",
       "      <th>2</th>\n",
       "      <th>3</th>\n",
       "      <th>4</th>\n",
       "      <th>5</th>\n",
       "      <th>6</th>\n",
       "      <th>7</th>\n",
       "      <th>8</th>\n",
       "    </tr>\n",
       "  </thead>\n",
       "  <tbody>\n",
       "    <tr>\n",
       "      <th>count</th>\n",
       "      <td>2.140000e+02</td>\n",
       "      <td>2.140000e+02</td>\n",
       "      <td>2.140000e+02</td>\n",
       "      <td>2.140000e+02</td>\n",
       "      <td>2.140000e+02</td>\n",
       "      <td>2.140000e+02</td>\n",
       "      <td>2.140000e+02</td>\n",
       "      <td>2.140000e+02</td>\n",
       "      <td>2.140000e+02</td>\n",
       "    </tr>\n",
       "    <tr>\n",
       "      <th>mean</th>\n",
       "      <td>-2.877449e-14</td>\n",
       "      <td>2.179980e-15</td>\n",
       "      <td>-2.801497e-16</td>\n",
       "      <td>-3.434428e-16</td>\n",
       "      <td>9.966067e-16</td>\n",
       "      <td>7.470660e-17</td>\n",
       "      <td>-3.137418e-16</td>\n",
       "      <td>-1.763906e-16</td>\n",
       "      <td>-6.121791e-17</td>\n",
       "    </tr>\n",
       "    <tr>\n",
       "      <th>std</th>\n",
       "      <td>1.002345e+00</td>\n",
       "      <td>1.002345e+00</td>\n",
       "      <td>1.002345e+00</td>\n",
       "      <td>1.002345e+00</td>\n",
       "      <td>1.002345e+00</td>\n",
       "      <td>1.002345e+00</td>\n",
       "      <td>1.002345e+00</td>\n",
       "      <td>1.002345e+00</td>\n",
       "      <td>1.002345e+00</td>\n",
       "    </tr>\n",
       "    <tr>\n",
       "      <th>min</th>\n",
       "      <td>-2.381516e+00</td>\n",
       "      <td>-3.286943e+00</td>\n",
       "      <td>-1.865511e+00</td>\n",
       "      <td>-2.318616e+00</td>\n",
       "      <td>-3.676472e+00</td>\n",
       "      <td>-7.639186e-01</td>\n",
       "      <td>-2.484084e+00</td>\n",
       "      <td>-3.528768e-01</td>\n",
       "      <td>-5.864509e-01</td>\n",
       "    </tr>\n",
       "    <tr>\n",
       "      <th>25%</th>\n",
       "      <td>-6.082728e-01</td>\n",
       "      <td>-6.141580e-01</td>\n",
       "      <td>-3.957744e-01</td>\n",
       "      <td>-5.117560e-01</td>\n",
       "      <td>-4.800288e-01</td>\n",
       "      <td>-5.756501e-01</td>\n",
       "      <td>-5.049657e-01</td>\n",
       "      <td>-3.528768e-01</td>\n",
       "      <td>-5.864509e-01</td>\n",
       "    </tr>\n",
       "    <tr>\n",
       "      <th>50%</th>\n",
       "      <td>-2.262293e-01</td>\n",
       "      <td>-1.323817e-01</td>\n",
       "      <td>5.527787e-01</td>\n",
       "      <td>-1.704602e-01</td>\n",
       "      <td>1.799655e-01</td>\n",
       "      <td>8.905322e-02</td>\n",
       "      <td>-2.514132e-01</td>\n",
       "      <td>-3.528768e-01</td>\n",
       "      <td>-5.864509e-01</td>\n",
       "    </tr>\n",
       "    <tr>\n",
       "      <th>75%</th>\n",
       "      <td>2.614331e-01</td>\n",
       "      <td>5.120326e-01</td>\n",
       "      <td>6.361680e-01</td>\n",
       "      <td>3.715977e-01</td>\n",
       "      <td>5.649621e-01</td>\n",
       "      <td>1.735820e-01</td>\n",
       "      <td>1.518057e-01</td>\n",
       "      <td>-3.528768e-01</td>\n",
       "      <td>4.422417e-01</td>\n",
       "    </tr>\n",
       "    <tr>\n",
       "      <th>max</th>\n",
       "      <td>5.137232e+00</td>\n",
       "      <td>4.875637e+00</td>\n",
       "      <td>1.254639e+00</td>\n",
       "      <td>4.125851e+00</td>\n",
       "      <td>3.570524e+00</td>\n",
       "      <td>8.780145e+00</td>\n",
       "      <td>5.094318e+00</td>\n",
       "      <td>5.997210e+00</td>\n",
       "      <td>4.659881e+00</td>\n",
       "    </tr>\n",
       "  </tbody>\n",
       "</table>\n",
       "</div>"
      ],
      "text/plain": [
       "                  0             1             2             3             4  \\\n",
       "count  2.140000e+02  2.140000e+02  2.140000e+02  2.140000e+02  2.140000e+02   \n",
       "mean  -2.877449e-14  2.179980e-15 -2.801497e-16 -3.434428e-16  9.966067e-16   \n",
       "std    1.002345e+00  1.002345e+00  1.002345e+00  1.002345e+00  1.002345e+00   \n",
       "min   -2.381516e+00 -3.286943e+00 -1.865511e+00 -2.318616e+00 -3.676472e+00   \n",
       "25%   -6.082728e-01 -6.141580e-01 -3.957744e-01 -5.117560e-01 -4.800288e-01   \n",
       "50%   -2.262293e-01 -1.323817e-01  5.527787e-01 -1.704602e-01  1.799655e-01   \n",
       "75%    2.614331e-01  5.120326e-01  6.361680e-01  3.715977e-01  5.649621e-01   \n",
       "max    5.137232e+00  4.875637e+00  1.254639e+00  4.125851e+00  3.570524e+00   \n",
       "\n",
       "                  5             6             7             8  \n",
       "count  2.140000e+02  2.140000e+02  2.140000e+02  2.140000e+02  \n",
       "mean   7.470660e-17 -3.137418e-16 -1.763906e-16 -6.121791e-17  \n",
       "std    1.002345e+00  1.002345e+00  1.002345e+00  1.002345e+00  \n",
       "min   -7.639186e-01 -2.484084e+00 -3.528768e-01 -5.864509e-01  \n",
       "25%   -5.756501e-01 -5.049657e-01 -3.528768e-01 -5.864509e-01  \n",
       "50%    8.905322e-02 -2.514132e-01 -3.528768e-01 -5.864509e-01  \n",
       "75%    1.735820e-01  1.518057e-01 -3.528768e-01  4.422417e-01  \n",
       "max    8.780145e+00  5.094318e+00  5.997210e+00  4.659881e+00  "
      ]
     },
     "execution_count": 39,
     "metadata": {},
     "output_type": "execute_result"
    }
   ],
   "source": [
    "df2.describe()"
   ]
  },
  {
   "cell_type": "code",
   "execution_count": 40,
   "id": "13aa9277",
   "metadata": {},
   "outputs": [],
   "source": [
    "sigma=np.cov(df2)"
   ]
  },
  {
   "cell_type": "code",
   "execution_count": 41,
   "id": "10240d4c",
   "metadata": {},
   "outputs": [
    {
     "data": {
      "text/plain": [
       "array([[ 0.61967223,  0.1554839 ,  0.0095123 , ..., -0.36961439,\n",
       "        -0.55499756, -0.52499357],\n",
       "       [ 0.1554839 ,  0.23446913,  0.20927571, ..., -0.10528676,\n",
       "        -0.06703188, -0.11242412],\n",
       "       [ 0.0095123 ,  0.20927571,  0.26700812, ..., -0.07709654,\n",
       "         0.03531121, -0.01133884],\n",
       "       ...,\n",
       "       [-0.36961439, -0.10528676, -0.07709654, ...,  2.02504465,\n",
       "         1.91941657,  1.96842824],\n",
       "       [-0.55499756, -0.06703188,  0.03531121, ...,  1.91941657,\n",
       "         2.03457864,  2.03557203],\n",
       "       [-0.52499357, -0.11242412, -0.01133884, ...,  1.96842824,\n",
       "         2.03557203,  2.07393387]])"
      ]
     },
     "execution_count": 41,
     "metadata": {},
     "output_type": "execute_result"
    }
   ],
   "source": [
    "sigma"
   ]
  },
  {
   "cell_type": "code",
   "execution_count": 42,
   "id": "02e70ccb",
   "metadata": {},
   "outputs": [],
   "source": [
    "l,x= np.linalg.eig(df_scaler.T @ df_scaler/213)"
   ]
  },
  {
   "cell_type": "code",
   "execution_count": 43,
   "id": "86901d83",
   "metadata": {},
   "outputs": [
    {
     "data": {
      "text/plain": [
       "array([2.52295323e+00, 2.05969694e+00, 1.41143951e+00, 1.16329842e+00,\n",
       "       9.18293337e-01, 5.30112353e-01, 3.70690643e-01, 6.41527269e-02,\n",
       "       1.61637096e-03])"
      ]
     },
     "execution_count": 43,
     "metadata": {},
     "output_type": "execute_result"
    }
   ],
   "source": [
    "l"
   ]
  },
  {
   "cell_type": "code",
   "execution_count": 46,
   "id": "cc408bf1",
   "metadata": {},
   "outputs": [
    {
     "data": {
      "text/plain": [
       "(9,)"
      ]
     },
     "execution_count": 46,
     "metadata": {},
     "output_type": "execute_result"
    }
   ],
   "source": [
    "l.shape"
   ]
  },
  {
   "cell_type": "code",
   "execution_count": 47,
   "id": "104e4010",
   "metadata": {},
   "outputs": [
    {
     "data": {
      "text/plain": [
       "array([[-0.54517662,  0.28568318,  0.08691083, -0.14738099,  0.0735427 ,\n",
       "        -0.11528772, -0.08186724, -0.7522159 ,  0.02573194],\n",
       "       [ 0.2581256 ,  0.27035007, -0.38491962, -0.49124204, -0.1536833 ,\n",
       "         0.55811757, -0.14858006, -0.12769315, -0.31193718],\n",
       "       [-0.11088095, -0.59355826,  0.00841796, -0.37878577, -0.12350912,\n",
       "        -0.30818598,  0.20604537, -0.07689061, -0.57727335],\n",
       "       [ 0.42870863,  0.29521154,  0.32923712,  0.13750592, -0.01410888,\n",
       "         0.01885731,  0.69923557, -0.27444105, -0.19222686],\n",
       "       [ 0.22883635, -0.15509891, -0.45870884,  0.65253771, -0.00850012,\n",
       "        -0.08609797, -0.21606658, -0.37992298, -0.29807321],\n",
       "       [ 0.21934405, -0.15397013,  0.66257412,  0.03853544,  0.30703984,\n",
       "         0.24363237, -0.50412141, -0.10981168, -0.26050863],\n",
       "       [-0.49230609,  0.3453798 , -0.00098473,  0.27644322,  0.18818774,\n",
       "         0.14866937,  0.09913463,  0.39870468, -0.57932321],\n",
       "       [ 0.25037512,  0.48470218,  0.07405473, -0.13317545, -0.25133426,\n",
       "        -0.65721884, -0.35178255,  0.14493235, -0.1982282 ],\n",
       "       [-0.18584154, -0.06203879,  0.28445055,  0.23049202, -0.87326405,\n",
       "         0.24304431, -0.07372136, -0.01627141, -0.01466944]])"
      ]
     },
     "execution_count": 47,
     "metadata": {},
     "output_type": "execute_result"
    }
   ],
   "source": [
    "x"
   ]
  },
  {
   "cell_type": "code",
   "execution_count": 48,
   "id": "e2df0e9c",
   "metadata": {},
   "outputs": [
    {
     "data": {
      "text/plain": [
       "(9, 9)"
      ]
     },
     "execution_count": 48,
     "metadata": {},
     "output_type": "execute_result"
    }
   ],
   "source": [
    "x.shape"
   ]
  },
  {
   "cell_type": "code",
   "execution_count": 49,
   "id": "9ba6269f",
   "metadata": {},
   "outputs": [],
   "source": [
    "pc1_data=df_scaler @ x[:,0]"
   ]
  },
  {
   "cell_type": "code",
   "execution_count": 50,
   "id": "1f17ec0e",
   "metadata": {},
   "outputs": [
    {
     "data": {
      "text/plain": [
       "array([-1.15113957e+00,  5.74137172e-01,  9.40159722e-01,  1.42083283e-01,\n",
       "        3.51092291e-01,  2.90266583e-01,  2.52671444e-01,  1.20299466e-01,\n",
       "        2.08160308e-02,  2.35222894e-03,  3.82514937e-01,  1.33538675e-02,\n",
       "        3.09724390e-01, -1.56521013e-01,  8.99566628e-02,  1.15255023e-01,\n",
       "       -1.73458320e-01, -1.45812372e+00, -5.47316267e-01,  3.08817022e-01,\n",
       "       -2.05673879e-01, -1.21605345e+00, -4.11679297e-02,  1.13206012e-01,\n",
       "        1.47523366e-01,  5.04865218e-02,  1.55773980e-01,  2.17093779e-01,\n",
       "        1.15093633e-01,  6.58374915e-02, -2.98261451e-01,  2.22363433e-02,\n",
       "       -3.96586112e-01,  6.90862734e-02, -8.17537725e-02,  3.88918640e-01,\n",
       "       -2.57422809e-01, -2.70430953e-02, -1.93311245e+00, -1.93311245e+00,\n",
       "       -2.13978802e-01, -1.73653764e-02,  9.91042449e-02, -1.90784649e+00,\n",
       "       -7.55238909e-01, -4.15149070e-01, -6.04423395e-01, -2.97136159e+00,\n",
       "       -2.07281161e+00, -3.93111591e-01, -2.72721095e+00, -7.23068883e-01,\n",
       "       -1.06160451e-01, -1.81361046e-01, -1.71804895e-01, -4.59256767e-01,\n",
       "        4.23198376e-01, -1.58405624e-02,  3.27242420e-01, -3.73730855e-02,\n",
       "       -4.57306871e-01, -2.36220840e-01, -1.88483803e+00, -1.90646324e+00,\n",
       "       -1.76739012e+00, -1.20709914e+00, -2.09535866e+00, -2.06574480e+00,\n",
       "       -2.00488480e+00, -2.25195536e+00,  1.11062971e+00, -7.49344065e-01,\n",
       "        9.35068761e-01,  8.81333556e-01,  9.22562290e-01,  8.78041073e-01,\n",
       "        6.85088615e-01,  6.90359145e-01,  4.62997748e-01,  1.07450035e+00,\n",
       "        1.21369799e+00,  9.09189665e-01,  5.35657351e-01,  6.51404126e-01,\n",
       "        2.31637606e+00,  6.19527617e-01,  8.67763488e-01,  5.36304118e-01,\n",
       "        6.50903533e-01,  7.55392780e-01, -9.91658801e-01,  5.62642120e-01,\n",
       "        3.06796378e-01,  7.34604026e-01,  6.55247560e-01, -9.46407531e-02,\n",
       "       -9.04286720e-01, -6.13895376e-01,  6.54109481e-01,  1.33583022e-01,\n",
       "        2.26479128e-02,  7.23703277e-02, -9.83504760e-01, -3.85238194e+00,\n",
       "       -2.35136469e+00, -3.33328693e+00, -3.64021336e+00, -7.13869786e+00,\n",
       "       -1.69502290e+00, -7.41593451e-01, -4.51874493e+00, -4.87303441e+00,\n",
       "       -4.59649709e+00, -3.23984511e-01, -2.59209029e-01, -2.86272002e-02,\n",
       "       -1.86714046e-01,  8.34974605e-01,  6.31138456e-02,  6.88645250e-01,\n",
       "       -9.33354363e-02,  3.25952384e-01,  5.72010313e-01,  7.81415457e-01,\n",
       "       -7.93041028e-01, -2.72746438e-01,  1.21350033e-01, -1.11574391e+00,\n",
       "       -6.40905488e-01, -1.06594039e+00, -1.37738839e+00, -3.41894371e+00,\n",
       "        2.30106379e-03, -9.43164121e-02,  1.20536745e-01, -6.14443758e-01,\n",
       "       -3.37682286e-01,  5.41321804e-01,  7.66226327e-01,  7.74831821e-01,\n",
       "        6.58328771e-01, -4.79061318e-01,  6.25511768e-02,  7.02191754e-01,\n",
       "       -3.02639624e-01, -9.68425776e-01, -1.15965177e-01,  4.92429807e-01,\n",
       "        1.66864635e-01,  7.09007624e-02,  3.15800764e-01, -1.52912927e+00,\n",
       "       -5.95438880e-01,  4.47183180e-01,  2.28073900e-03,  2.77448819e-01,\n",
       "        2.62625463e-01, -1.74711568e+00,  8.19412962e-02, -7.70000955e-02,\n",
       "       -1.06061322e-01, -1.21897823e+00, -2.19327703e+00,  4.32287332e+00,\n",
       "       -2.60337952e-01, -1.80337643e+00, -1.78618611e+00, -6.83776477e-01,\n",
       "        7.95024676e-01, -5.44543846e-01, -1.92981829e+00,  4.38953460e+00,\n",
       "        4.43253973e+00, -1.59504215e+00, -1.01004447e+00, -1.63107556e+00,\n",
       "       -2.56498778e-01, -6.54463516e-01,  1.99650272e-01,  1.44389955e-01,\n",
       "        2.32566823e+00,  2.73475886e-01,  6.68969638e-02, -1.11416397e+00,\n",
       "        3.28279679e+00,  3.95051181e+00,  2.76034579e+00, -1.06709874e+00,\n",
       "       -5.88963889e-01,  2.17032226e-02,  1.38770709e+00,  2.14926480e+00,\n",
       "        2.10698079e+00,  2.08135612e+00,  2.16116939e+00,  2.29846438e+00,\n",
       "        2.10499822e+00,  1.95865705e+00,  2.39038043e+00,  2.34025986e+00,\n",
       "        2.67936046e+00,  1.37738556e+00,  2.73231156e+00,  2.52519849e+00,\n",
       "        2.26974017e+00,  2.04532108e+00,  2.18787696e+00,  3.55709771e+00,\n",
       "        1.99364680e+00,  2.38383457e+00,  2.39765190e+00,  1.68024627e+00,\n",
       "        2.36974768e+00,  2.26264885e+00])"
      ]
     },
     "execution_count": 50,
     "metadata": {},
     "output_type": "execute_result"
    }
   ],
   "source": [
    "pc1_data"
   ]
  },
  {
   "cell_type": "code",
   "execution_count": 51,
   "id": "9ffe18b4",
   "metadata": {},
   "outputs": [
    {
     "data": {
      "text/plain": [
       "(214,)"
      ]
     },
     "execution_count": 51,
     "metadata": {},
     "output_type": "execute_result"
    }
   ],
   "source": [
    "pc1_data.shape"
   ]
  },
  {
   "cell_type": "code",
   "execution_count": 52,
   "id": "7408ba26",
   "metadata": {},
   "outputs": [],
   "source": [
    "pc2_data=df_scaler @ x[:,1]"
   ]
  },
  {
   "cell_type": "code",
   "execution_count": 53,
   "id": "4c08e58d",
   "metadata": {},
   "outputs": [
    {
     "data": {
      "text/plain": [
       "array([-0.52948764, -0.75978777, -0.92983597, -0.96167744, -1.09124921,\n",
       "       -1.32400756, -1.11614958, -1.22184622, -0.32193261, -1.06581344,\n",
       "       -1.38013403, -1.10471913, -1.42304024, -1.23592823, -1.18125211,\n",
       "       -1.16028212, -1.18243967,  0.09884138, -0.29566013, -0.76316216,\n",
       "       -0.99918266, -0.43689611, -1.02788338, -1.02762181, -0.93376705,\n",
       "       -1.04723075, -0.73814955, -1.03946718, -1.05293936, -0.90287584,\n",
       "       -1.16489328, -1.16273745, -1.07307343, -1.16390421, -0.96601943,\n",
       "       -1.00978004, -0.09893604, -0.94115087, -0.1421143 , -0.1421143 ,\n",
       "       -1.06505169, -1.10093167, -0.74680692, -0.13514622, -1.19430193,\n",
       "       -0.29328726, -0.78019985,  0.4631405 , -0.19367388, -0.34025819,\n",
       "       -0.11303858, -0.47489193, -0.41450604, -0.4099579 , -0.51028779,\n",
       "       -0.97207179, -1.81655603, -0.95745406, -1.10236197, -1.05432062,\n",
       "       -0.5519114 ,  0.5683302 , -0.2964757 ,  0.18518682, -0.23485117,\n",
       "       -0.0168166 , -0.42701387, -0.44708532, -0.36349866,  0.02797398,\n",
       "       -0.36045919, -0.87009472, -1.20394562, -0.97231307, -1.19692928,\n",
       "       -1.20892921, -0.84163989, -1.06629931, -0.98824729, -0.9647887 ,\n",
       "       -0.77909816, -1.13899985, -1.06978417, -1.11647242, -0.57398246,\n",
       "       -0.87706191, -1.07801813, -0.92347886, -1.06424608, -1.09926663,\n",
       "       -1.02189999, -1.06581042, -0.9640664 , -0.9223869 , -1.14303255,\n",
       "       -0.45616463, -0.89818769, -1.40234153, -0.71090274, -0.41199864,\n",
       "       -0.81034908, -0.51666309, -1.02010847,  1.34506467,  1.14019846,\n",
       "        2.02616879,  6.19344465,  4.00443669,  2.07414559,  0.78534142,\n",
       "        2.02772563,  2.11110882,  2.6994476 , -0.91517046, -1.01845622,\n",
       "       -0.80370437, -0.88880902, -0.52369072, -1.09080518, -0.84454467,\n",
       "       -0.79751365, -1.16131445, -0.92804176, -0.64188711, -0.60432827,\n",
       "       -0.76085093, -1.06270367,  0.62043857,  0.90057508,  1.36757767,\n",
       "        1.6033637 ,  3.13489973, -1.02447346, -0.64501138, -1.01574215,\n",
       "       -1.09156288, -1.29110463, -1.03138006, -1.21918683, -1.08145439,\n",
       "       -0.78073046, -1.00897795, -1.22086276, -0.75113699, -1.04410159,\n",
       "       -1.14896334, -0.73797035, -0.95624196, -0.96540647, -1.30120252,\n",
       "       -0.75316986,  0.05442401, -0.95442285, -0.95742167, -0.95929759,\n",
       "       -1.01028758, -0.77174907, -0.18320657, -0.34355568, -0.27896901,\n",
       "       -0.28308185, -0.6733728 , -0.16019472,  2.6538568 ,  0.54803332,\n",
       "        0.5287277 ,  0.31275189,  1.39728332,  0.79472961,  1.76724509,\n",
       "        2.49244227, -0.10344958, -0.16868012,  2.11331608,  0.88407793,\n",
       "        1.31861732,  0.63922524,  0.34254575,  0.74022531,  0.63984928,\n",
       "       -0.46240033,  1.78882182,  2.24369392,  1.45711253, -0.04179136,\n",
       "       -0.72850661,  1.26705494, -0.0714335 ,  1.9116795 ,  3.47383505,\n",
       "        1.08914537,  2.29560843,  2.13071878,  3.07840526,  2.89977062,\n",
       "        2.21466938,  2.37404264,  2.46318823,  2.40058515,  2.43366642,\n",
       "        2.13082037, -0.8707593 ,  2.0372873 ,  3.12098266,  2.34831576,\n",
       "        3.07594965,  2.85648463,  3.46675073,  2.59939654,  3.06167702,\n",
       "        3.1082357 ,  3.28482346,  2.7568728 ,  3.02859155])"
      ]
     },
     "execution_count": 53,
     "metadata": {},
     "output_type": "execute_result"
    }
   ],
   "source": [
    "pc2_data"
   ]
  },
  {
   "cell_type": "code",
   "execution_count": 54,
   "id": "510bdcbd",
   "metadata": {},
   "outputs": [
    {
     "data": {
      "text/plain": [
       "(214,)"
      ]
     },
     "execution_count": 54,
     "metadata": {},
     "output_type": "execute_result"
    }
   ],
   "source": [
    "pc2_data.shape"
   ]
  },
  {
   "cell_type": "code",
   "execution_count": 55,
   "id": "c651a2d7",
   "metadata": {},
   "outputs": [],
   "source": [
    "from sklearn.decomposition import PCA\n",
    "pca=PCA(n_components=2)"
   ]
  },
  {
   "cell_type": "code",
   "execution_count": 56,
   "id": "7fd32514",
   "metadata": {},
   "outputs": [
    {
     "data": {
      "text/plain": [
       "array([[ 1.15113957e+00, -5.29487638e-01],\n",
       "       [-5.74137172e-01, -7.59787774e-01],\n",
       "       [-9.40159722e-01, -9.29835966e-01],\n",
       "       [-1.42083283e-01, -9.61677440e-01],\n",
       "       [-3.51092291e-01, -1.09124921e+00],\n",
       "       [-2.90266583e-01, -1.32400756e+00],\n",
       "       [-2.52671444e-01, -1.11614958e+00],\n",
       "       [-1.20299466e-01, -1.22184622e+00],\n",
       "       [-2.08160308e-02, -3.21932609e-01],\n",
       "       [-2.35222894e-03, -1.06581344e+00],\n",
       "       [-3.82514937e-01, -1.38013403e+00],\n",
       "       [-1.33538675e-02, -1.10471913e+00],\n",
       "       [-3.09724390e-01, -1.42304024e+00],\n",
       "       [ 1.56521013e-01, -1.23592823e+00],\n",
       "       [-8.99566628e-02, -1.18125211e+00],\n",
       "       [-1.15255023e-01, -1.16028212e+00],\n",
       "       [ 1.73458320e-01, -1.18243967e+00],\n",
       "       [ 1.45812372e+00,  9.88413780e-02],\n",
       "       [ 5.47316267e-01, -2.95660130e-01],\n",
       "       [-3.08817022e-01, -7.63162157e-01],\n",
       "       [ 2.05673879e-01, -9.99182661e-01],\n",
       "       [ 1.21605345e+00, -4.36896108e-01],\n",
       "       [ 4.11679297e-02, -1.02788338e+00],\n",
       "       [-1.13206012e-01, -1.02762181e+00],\n",
       "       [-1.47523366e-01, -9.33767049e-01],\n",
       "       [-5.04865218e-02, -1.04723075e+00],\n",
       "       [-1.55773980e-01, -7.38149546e-01],\n",
       "       [-2.17093779e-01, -1.03946718e+00],\n",
       "       [-1.15093633e-01, -1.05293936e+00],\n",
       "       [-6.58374915e-02, -9.02875839e-01],\n",
       "       [ 2.98261451e-01, -1.16489328e+00],\n",
       "       [-2.22363433e-02, -1.16273745e+00],\n",
       "       [ 3.96586112e-01, -1.07307343e+00],\n",
       "       [-6.90862734e-02, -1.16390421e+00],\n",
       "       [ 8.17537725e-02, -9.66019429e-01],\n",
       "       [-3.88918640e-01, -1.00978004e+00],\n",
       "       [ 2.57422809e-01, -9.89360442e-02],\n",
       "       [ 2.70430953e-02, -9.41150868e-01],\n",
       "       [ 1.93311245e+00, -1.42114298e-01],\n",
       "       [ 1.93311245e+00, -1.42114298e-01],\n",
       "       [ 2.13978802e-01, -1.06505169e+00],\n",
       "       [ 1.73653764e-02, -1.10093167e+00],\n",
       "       [-9.91042449e-02, -7.46806921e-01],\n",
       "       [ 1.90784649e+00, -1.35146218e-01],\n",
       "       [ 7.55238909e-01, -1.19430193e+00],\n",
       "       [ 4.15149070e-01, -2.93287264e-01],\n",
       "       [ 6.04423395e-01, -7.80199849e-01],\n",
       "       [ 2.97136159e+00,  4.63140502e-01],\n",
       "       [ 2.07281161e+00, -1.93673881e-01],\n",
       "       [ 3.93111591e-01, -3.40258187e-01],\n",
       "       [ 2.72721095e+00, -1.13038577e-01],\n",
       "       [ 7.23068883e-01, -4.74891927e-01],\n",
       "       [ 1.06160451e-01, -4.14506038e-01],\n",
       "       [ 1.81361046e-01, -4.09957896e-01],\n",
       "       [ 1.71804895e-01, -5.10287786e-01],\n",
       "       [ 4.59256767e-01, -9.72071790e-01],\n",
       "       [-4.23198376e-01, -1.81655603e+00],\n",
       "       [ 1.58405624e-02, -9.57454062e-01],\n",
       "       [-3.27242420e-01, -1.10236197e+00],\n",
       "       [ 3.73730855e-02, -1.05432062e+00],\n",
       "       [ 4.57306871e-01, -5.51911400e-01],\n",
       "       [ 2.36220840e-01,  5.68330203e-01],\n",
       "       [ 1.88483803e+00, -2.96475700e-01],\n",
       "       [ 1.90646324e+00,  1.85186825e-01],\n",
       "       [ 1.76739012e+00, -2.34851172e-01],\n",
       "       [ 1.20709914e+00, -1.68166022e-02],\n",
       "       [ 2.09535866e+00, -4.27013874e-01],\n",
       "       [ 2.06574480e+00, -4.47085324e-01],\n",
       "       [ 2.00488480e+00, -3.63498656e-01],\n",
       "       [ 2.25195536e+00,  2.79739773e-02],\n",
       "       [-1.11062971e+00, -3.60459191e-01],\n",
       "       [ 7.49344065e-01, -8.70094723e-01],\n",
       "       [-9.35068761e-01, -1.20394562e+00],\n",
       "       [-8.81333556e-01, -9.72313068e-01],\n",
       "       [-9.22562290e-01, -1.19692928e+00],\n",
       "       [-8.78041073e-01, -1.20892921e+00],\n",
       "       [-6.85088615e-01, -8.41639892e-01],\n",
       "       [-6.90359145e-01, -1.06629931e+00],\n",
       "       [-4.62997748e-01, -9.88247287e-01],\n",
       "       [-1.07450035e+00, -9.64788704e-01],\n",
       "       [-1.21369799e+00, -7.79098155e-01],\n",
       "       [-9.09189665e-01, -1.13899985e+00],\n",
       "       [-5.35657351e-01, -1.06978417e+00],\n",
       "       [-6.51404126e-01, -1.11647242e+00],\n",
       "       [-2.31637606e+00, -5.73982461e-01],\n",
       "       [-6.19527617e-01, -8.77061910e-01],\n",
       "       [-8.67763488e-01, -1.07801813e+00],\n",
       "       [-5.36304118e-01, -9.23478860e-01],\n",
       "       [-6.50903533e-01, -1.06424608e+00],\n",
       "       [-7.55392780e-01, -1.09926663e+00],\n",
       "       [ 9.91658801e-01, -1.02189999e+00],\n",
       "       [-5.62642120e-01, -1.06581042e+00],\n",
       "       [-3.06796378e-01, -9.64066395e-01],\n",
       "       [-7.34604026e-01, -9.22386904e-01],\n",
       "       [-6.55247560e-01, -1.14303255e+00],\n",
       "       [ 9.46407531e-02, -4.56164629e-01],\n",
       "       [ 9.04286720e-01, -8.98187688e-01],\n",
       "       [ 6.13895376e-01, -1.40234153e+00],\n",
       "       [-6.54109481e-01, -7.10902736e-01],\n",
       "       [-1.33583022e-01, -4.11998638e-01],\n",
       "       [-2.26479128e-02, -8.10349081e-01],\n",
       "       [-7.23703277e-02, -5.16663086e-01],\n",
       "       [ 9.83504760e-01, -1.02010847e+00],\n",
       "       [ 3.85238194e+00,  1.34506467e+00],\n",
       "       [ 2.35136469e+00,  1.14019846e+00],\n",
       "       [ 3.33328693e+00,  2.02616879e+00],\n",
       "       [ 3.64021336e+00,  6.19344465e+00],\n",
       "       [ 7.13869786e+00,  4.00443669e+00],\n",
       "       [ 1.69502290e+00,  2.07414559e+00],\n",
       "       [ 7.41593451e-01,  7.85341417e-01],\n",
       "       [ 4.51874493e+00,  2.02772563e+00],\n",
       "       [ 4.87303441e+00,  2.11110882e+00],\n",
       "       [ 4.59649709e+00,  2.69944760e+00],\n",
       "       [ 3.23984511e-01, -9.15170462e-01],\n",
       "       [ 2.59209029e-01, -1.01845622e+00],\n",
       "       [ 2.86272002e-02, -8.03704365e-01],\n",
       "       [ 1.86714046e-01, -8.88809019e-01],\n",
       "       [-8.34974605e-01, -5.23690716e-01],\n",
       "       [-6.31138456e-02, -1.09080518e+00],\n",
       "       [-6.88645250e-01, -8.44544670e-01],\n",
       "       [ 9.33354363e-02, -7.97513650e-01],\n",
       "       [-3.25952384e-01, -1.16131445e+00],\n",
       "       [-5.72010313e-01, -9.28041764e-01],\n",
       "       [-7.81415457e-01, -6.41887105e-01],\n",
       "       [ 7.93041028e-01, -6.04328270e-01],\n",
       "       [ 2.72746438e-01, -7.60850930e-01],\n",
       "       [-1.21350033e-01, -1.06270367e+00],\n",
       "       [ 1.11574391e+00,  6.20438569e-01],\n",
       "       [ 6.40905488e-01,  9.00575079e-01],\n",
       "       [ 1.06594039e+00,  1.36757767e+00],\n",
       "       [ 1.37738839e+00,  1.60336370e+00],\n",
       "       [ 3.41894371e+00,  3.13489973e+00],\n",
       "       [-2.30106379e-03, -1.02447346e+00],\n",
       "       [ 9.43164121e-02, -6.45011377e-01],\n",
       "       [-1.20536745e-01, -1.01574215e+00],\n",
       "       [ 6.14443758e-01, -1.09156288e+00],\n",
       "       [ 3.37682286e-01, -1.29110463e+00],\n",
       "       [-5.41321804e-01, -1.03138006e+00],\n",
       "       [-7.66226327e-01, -1.21918683e+00],\n",
       "       [-7.74831821e-01, -1.08145439e+00],\n",
       "       [-6.58328771e-01, -7.80730458e-01],\n",
       "       [ 4.79061318e-01, -1.00897795e+00],\n",
       "       [-6.25511768e-02, -1.22086276e+00],\n",
       "       [-7.02191754e-01, -7.51136992e-01],\n",
       "       [ 3.02639624e-01, -1.04410159e+00],\n",
       "       [ 9.68425776e-01, -1.14896334e+00],\n",
       "       [ 1.15965177e-01, -7.37970348e-01],\n",
       "       [-4.92429807e-01, -9.56241961e-01],\n",
       "       [-1.66864635e-01, -9.65406470e-01],\n",
       "       [-7.09007624e-02, -1.30120252e+00],\n",
       "       [-3.15800764e-01, -7.53169864e-01],\n",
       "       [ 1.52912927e+00,  5.44240128e-02],\n",
       "       [ 5.95438880e-01, -9.54422853e-01],\n",
       "       [-4.47183180e-01, -9.57421674e-01],\n",
       "       [-2.28073900e-03, -9.59297592e-01],\n",
       "       [-2.77448819e-01, -1.01028758e+00],\n",
       "       [-2.62625463e-01, -7.71749068e-01],\n",
       "       [ 1.74711568e+00, -1.83206568e-01],\n",
       "       [-8.19412962e-02, -3.43555681e-01],\n",
       "       [ 7.70000955e-02, -2.78969006e-01],\n",
       "       [ 1.06061322e-01, -2.83081850e-01],\n",
       "       [ 1.21897823e+00, -6.73372800e-01],\n",
       "       [ 2.19327703e+00, -1.60194716e-01],\n",
       "       [-4.32287332e+00,  2.65385680e+00],\n",
       "       [ 2.60337952e-01,  5.48033322e-01],\n",
       "       [ 1.80337643e+00,  5.28727703e-01],\n",
       "       [ 1.78618611e+00,  3.12751888e-01],\n",
       "       [ 6.83776477e-01,  1.39728332e+00],\n",
       "       [-7.95024676e-01,  7.94729609e-01],\n",
       "       [ 5.44543846e-01,  1.76724509e+00],\n",
       "       [ 1.92981829e+00,  2.49244227e+00],\n",
       "       [-4.38953460e+00, -1.03449577e-01],\n",
       "       [-4.43253973e+00, -1.68680125e-01],\n",
       "       [ 1.59504215e+00,  2.11331608e+00],\n",
       "       [ 1.01004447e+00,  8.84077930e-01],\n",
       "       [ 1.63107556e+00,  1.31861732e+00],\n",
       "       [ 2.56498778e-01,  6.39225236e-01],\n",
       "       [ 6.54463516e-01,  3.42545752e-01],\n",
       "       [-1.99650272e-01,  7.40225310e-01],\n",
       "       [-1.44389955e-01,  6.39849281e-01],\n",
       "       [-2.32566823e+00, -4.62400329e-01],\n",
       "       [-2.73475886e-01,  1.78882182e+00],\n",
       "       [-6.68969638e-02,  2.24369392e+00],\n",
       "       [ 1.11416397e+00,  1.45711253e+00],\n",
       "       [-3.28279679e+00, -4.17913576e-02],\n",
       "       [-3.95051181e+00, -7.28506609e-01],\n",
       "       [-2.76034579e+00,  1.26705494e+00],\n",
       "       [ 1.06709874e+00, -7.14334989e-02],\n",
       "       [ 5.88963889e-01,  1.91167950e+00],\n",
       "       [-2.17032226e-02,  3.47383505e+00],\n",
       "       [-1.38770709e+00,  1.08914537e+00],\n",
       "       [-2.14926480e+00,  2.29560843e+00],\n",
       "       [-2.10698079e+00,  2.13071878e+00],\n",
       "       [-2.08135612e+00,  3.07840526e+00],\n",
       "       [-2.16116939e+00,  2.89977062e+00],\n",
       "       [-2.29846438e+00,  2.21466938e+00],\n",
       "       [-2.10499822e+00,  2.37404264e+00],\n",
       "       [-1.95865705e+00,  2.46318823e+00],\n",
       "       [-2.39038043e+00,  2.40058515e+00],\n",
       "       [-2.34025986e+00,  2.43366642e+00],\n",
       "       [-2.67936046e+00,  2.13082037e+00],\n",
       "       [-1.37738556e+00, -8.70759297e-01],\n",
       "       [-2.73231156e+00,  2.03728730e+00],\n",
       "       [-2.52519849e+00,  3.12098266e+00],\n",
       "       [-2.26974017e+00,  2.34831576e+00],\n",
       "       [-2.04532108e+00,  3.07594965e+00],\n",
       "       [-2.18787696e+00,  2.85648463e+00],\n",
       "       [-3.55709771e+00,  3.46675073e+00],\n",
       "       [-1.99364680e+00,  2.59939654e+00],\n",
       "       [-2.38383457e+00,  3.06167702e+00],\n",
       "       [-2.39765190e+00,  3.10823570e+00],\n",
       "       [-1.68024627e+00,  3.28482346e+00],\n",
       "       [-2.36974768e+00,  2.75687280e+00],\n",
       "       [-2.26264885e+00,  3.02859155e+00]])"
      ]
     },
     "execution_count": 56,
     "metadata": {},
     "output_type": "execute_result"
    }
   ],
   "source": [
    "pca.fit_transform(df2)"
   ]
  },
  {
   "cell_type": "code",
   "execution_count": 57,
   "id": "1165d568",
   "metadata": {},
   "outputs": [
    {
     "data": {
      "text/plain": [
       "array([[ 0.87286765,  0.28495326,  1.25463857, ..., -0.14576634,\n",
       "        -0.35287683, -0.5864509 ],\n",
       "       [-0.24933347,  0.59181718,  0.63616803, ..., -0.79373376,\n",
       "        -0.35287683, -0.5864509 ],\n",
       "       [-0.72131806,  0.14993314,  0.60142249, ..., -0.82894938,\n",
       "        -0.35287683, -0.5864509 ],\n",
       "       ...,\n",
       "       [ 0.75404635,  1.16872135, -1.86551055, ..., -0.36410319,\n",
       "         2.95320036, -0.5864509 ],\n",
       "       [-0.61239854,  1.19327046, -1.86551055, ..., -0.33593069,\n",
       "         2.81208731, -0.5864509 ],\n",
       "       [-0.41436305,  1.00915211, -1.86551055, ..., -0.23732695,\n",
       "         3.01367739, -0.5864509 ]])"
      ]
     },
     "execution_count": 57,
     "metadata": {},
     "output_type": "execute_result"
    }
   ],
   "source": [
    "df_scaler"
   ]
  },
  {
   "cell_type": "code",
   "execution_count": 58,
   "id": "6c2ab9f4",
   "metadata": {},
   "outputs": [
    {
     "data": {
      "text/html": [
       "<div>\n",
       "<style scoped>\n",
       "    .dataframe tbody tr th:only-of-type {\n",
       "        vertical-align: middle;\n",
       "    }\n",
       "\n",
       "    .dataframe tbody tr th {\n",
       "        vertical-align: top;\n",
       "    }\n",
       "\n",
       "    .dataframe thead th {\n",
       "        text-align: right;\n",
       "    }\n",
       "</style>\n",
       "<table border=\"1\" class=\"dataframe\">\n",
       "  <thead>\n",
       "    <tr style=\"text-align: right;\">\n",
       "      <th></th>\n",
       "      <th>RI</th>\n",
       "      <th>Na</th>\n",
       "      <th>Mg</th>\n",
       "      <th>Al</th>\n",
       "      <th>Si</th>\n",
       "      <th>K</th>\n",
       "      <th>Ca</th>\n",
       "      <th>Ba</th>\n",
       "      <th>Fe</th>\n",
       "    </tr>\n",
       "  </thead>\n",
       "  <tbody>\n",
       "    <tr>\n",
       "      <th>0</th>\n",
       "      <td>1.52101</td>\n",
       "      <td>13.64</td>\n",
       "      <td>4.49</td>\n",
       "      <td>1.10</td>\n",
       "      <td>71.78</td>\n",
       "      <td>0.06</td>\n",
       "      <td>8.75</td>\n",
       "      <td>0.00</td>\n",
       "      <td>0.0</td>\n",
       "    </tr>\n",
       "    <tr>\n",
       "      <th>1</th>\n",
       "      <td>1.51761</td>\n",
       "      <td>13.89</td>\n",
       "      <td>3.60</td>\n",
       "      <td>1.36</td>\n",
       "      <td>72.73</td>\n",
       "      <td>0.48</td>\n",
       "      <td>7.83</td>\n",
       "      <td>0.00</td>\n",
       "      <td>0.0</td>\n",
       "    </tr>\n",
       "    <tr>\n",
       "      <th>2</th>\n",
       "      <td>1.51618</td>\n",
       "      <td>13.53</td>\n",
       "      <td>3.55</td>\n",
       "      <td>1.54</td>\n",
       "      <td>72.99</td>\n",
       "      <td>0.39</td>\n",
       "      <td>7.78</td>\n",
       "      <td>0.00</td>\n",
       "      <td>0.0</td>\n",
       "    </tr>\n",
       "    <tr>\n",
       "      <th>3</th>\n",
       "      <td>1.51766</td>\n",
       "      <td>13.21</td>\n",
       "      <td>3.69</td>\n",
       "      <td>1.29</td>\n",
       "      <td>72.61</td>\n",
       "      <td>0.57</td>\n",
       "      <td>8.22</td>\n",
       "      <td>0.00</td>\n",
       "      <td>0.0</td>\n",
       "    </tr>\n",
       "    <tr>\n",
       "      <th>4</th>\n",
       "      <td>1.51742</td>\n",
       "      <td>13.27</td>\n",
       "      <td>3.62</td>\n",
       "      <td>1.24</td>\n",
       "      <td>73.08</td>\n",
       "      <td>0.55</td>\n",
       "      <td>8.07</td>\n",
       "      <td>0.00</td>\n",
       "      <td>0.0</td>\n",
       "    </tr>\n",
       "    <tr>\n",
       "      <th>...</th>\n",
       "      <td>...</td>\n",
       "      <td>...</td>\n",
       "      <td>...</td>\n",
       "      <td>...</td>\n",
       "      <td>...</td>\n",
       "      <td>...</td>\n",
       "      <td>...</td>\n",
       "      <td>...</td>\n",
       "      <td>...</td>\n",
       "    </tr>\n",
       "    <tr>\n",
       "      <th>209</th>\n",
       "      <td>1.51623</td>\n",
       "      <td>14.14</td>\n",
       "      <td>0.00</td>\n",
       "      <td>2.88</td>\n",
       "      <td>72.61</td>\n",
       "      <td>0.08</td>\n",
       "      <td>9.18</td>\n",
       "      <td>1.06</td>\n",
       "      <td>0.0</td>\n",
       "    </tr>\n",
       "    <tr>\n",
       "      <th>210</th>\n",
       "      <td>1.51685</td>\n",
       "      <td>14.92</td>\n",
       "      <td>0.00</td>\n",
       "      <td>1.99</td>\n",
       "      <td>73.06</td>\n",
       "      <td>0.00</td>\n",
       "      <td>8.40</td>\n",
       "      <td>1.59</td>\n",
       "      <td>0.0</td>\n",
       "    </tr>\n",
       "    <tr>\n",
       "      <th>211</th>\n",
       "      <td>1.52065</td>\n",
       "      <td>14.36</td>\n",
       "      <td>0.00</td>\n",
       "      <td>2.02</td>\n",
       "      <td>73.42</td>\n",
       "      <td>0.00</td>\n",
       "      <td>8.44</td>\n",
       "      <td>1.64</td>\n",
       "      <td>0.0</td>\n",
       "    </tr>\n",
       "    <tr>\n",
       "      <th>212</th>\n",
       "      <td>1.51651</td>\n",
       "      <td>14.38</td>\n",
       "      <td>0.00</td>\n",
       "      <td>1.94</td>\n",
       "      <td>73.61</td>\n",
       "      <td>0.00</td>\n",
       "      <td>8.48</td>\n",
       "      <td>1.57</td>\n",
       "      <td>0.0</td>\n",
       "    </tr>\n",
       "    <tr>\n",
       "      <th>213</th>\n",
       "      <td>1.51711</td>\n",
       "      <td>14.23</td>\n",
       "      <td>0.00</td>\n",
       "      <td>2.08</td>\n",
       "      <td>73.36</td>\n",
       "      <td>0.00</td>\n",
       "      <td>8.62</td>\n",
       "      <td>1.67</td>\n",
       "      <td>0.0</td>\n",
       "    </tr>\n",
       "  </tbody>\n",
       "</table>\n",
       "<p>214 rows × 9 columns</p>\n",
       "</div>"
      ],
      "text/plain": [
       "          RI     Na    Mg    Al     Si     K    Ca    Ba   Fe\n",
       "0    1.52101  13.64  4.49  1.10  71.78  0.06  8.75  0.00  0.0\n",
       "1    1.51761  13.89  3.60  1.36  72.73  0.48  7.83  0.00  0.0\n",
       "2    1.51618  13.53  3.55  1.54  72.99  0.39  7.78  0.00  0.0\n",
       "3    1.51766  13.21  3.69  1.29  72.61  0.57  8.22  0.00  0.0\n",
       "4    1.51742  13.27  3.62  1.24  73.08  0.55  8.07  0.00  0.0\n",
       "..       ...    ...   ...   ...    ...   ...   ...   ...  ...\n",
       "209  1.51623  14.14  0.00  2.88  72.61  0.08  9.18  1.06  0.0\n",
       "210  1.51685  14.92  0.00  1.99  73.06  0.00  8.40  1.59  0.0\n",
       "211  1.52065  14.36  0.00  2.02  73.42  0.00  8.44  1.64  0.0\n",
       "212  1.51651  14.38  0.00  1.94  73.61  0.00  8.48  1.57  0.0\n",
       "213  1.51711  14.23  0.00  2.08  73.36  0.00  8.62  1.67  0.0\n",
       "\n",
       "[214 rows x 9 columns]"
      ]
     },
     "execution_count": 58,
     "metadata": {},
     "output_type": "execute_result"
    }
   ],
   "source": [
    "df1"
   ]
  },
  {
   "cell_type": "code",
   "execution_count": 59,
   "id": "e5ecb503",
   "metadata": {},
   "outputs": [],
   "source": [
    "pca=PCA()"
   ]
  },
  {
   "cell_type": "code",
   "execution_count": 60,
   "id": "522a528e",
   "metadata": {},
   "outputs": [],
   "source": [
    "principal_component=pca.fit_transform(df2)"
   ]
  },
  {
   "cell_type": "code",
   "execution_count": 61,
   "id": "adc96b4c",
   "metadata": {},
   "outputs": [
    {
     "data": {
      "text/plain": [
       "array([[ 1.15113957, -0.52948764, -0.37209565, ..., -0.39560005,\n",
       "        -0.19716008,  0.01634649],\n",
       "       [-0.57413717, -0.75978777, -0.55670817, ..., -0.02415793,\n",
       "        -0.28421356, -0.0107898 ],\n",
       "       [-0.94015972, -0.92983597, -0.55490744, ..., -0.36751757,\n",
       "        -0.09594067,  0.02164019],\n",
       "       ...,\n",
       "       [-1.68024627,  3.28482346, -0.93034851, ...,  0.67412231,\n",
       "        -0.89170969,  0.04628358],\n",
       "       [-2.36974768,  2.7568728 , -1.23470076, ...,  0.67889932,\n",
       "         0.07446015, -0.02730068],\n",
       "       [-2.26264885,  3.02859155, -0.89084474, ...,  0.46246107,\n",
       "         0.0633149 , -0.01944978]])"
      ]
     },
     "execution_count": 61,
     "metadata": {},
     "output_type": "execute_result"
    }
   ],
   "source": [
    "principal_component"
   ]
  },
  {
   "cell_type": "code",
   "execution_count": 62,
   "id": "1c738c20",
   "metadata": {},
   "outputs": [],
   "source": [
    "import matplotlib.pyplot as plt"
   ]
  },
  {
   "cell_type": "code",
   "execution_count": 63,
   "id": "570f475f",
   "metadata": {},
   "outputs": [
    {
     "data": {
      "text/plain": [
       "Text(0.5, 1.0, 'screen plot')"
      ]
     },
     "execution_count": 63,
     "metadata": {},
     "output_type": "execute_result"
    },
    {
     "data": {
      "image/png": "[encoded data removed]",
      "text/plain": [
       "<Figure size 432x288 with 1 Axes>"
      ]
     },
     "metadata": {
      "needs_background": "light"
     },
     "output_type": "display_data"
    }
   ],
   "source": [
    "plt.figure()\n",
    "plt.plot(np.cumsum(pca.explained_variance_ratio_))\n",
    "plt.xlabel('number of required component')\n",
    "plt.ylabel('eVR')\n",
    "plt.title(\"screen plot\")"
   ]
  },
  {
   "cell_type": "code",
   "execution_count": 64,
   "id": "4ca092b6",
   "metadata": {},
   "outputs": [
    {
     "data": {
      "text/plain": [
       "array([2.79018192e-01, 2.27785798e-01, 1.56093777e-01, 1.28651383e-01,\n",
       "       1.01555805e-01, 5.86261325e-02, 4.09953826e-02, 7.09477197e-03,\n",
       "       1.78757536e-04])"
      ]
     },
     "execution_count": 64,
     "metadata": {},
     "output_type": "execute_result"
    }
   ],
   "source": [
    "pca.explained_variance_ratio_"
   ]
  },
  {
   "cell_type": "code",
   "execution_count": 70,
   "id": "120f781b",
   "metadata": {},
   "outputs": [],
   "source": [
    "import numpy as np\n",
    "import pandas as pd\n",
    "import matplotlib.pyplot as plt\n",
    "%matplotlib inline"
   ]
  },
  {
   "cell_type": "code",
   "execution_count": 67,
   "id": "88c75469",
   "metadata": {},
   "outputs": [],
   "source": [
    "data=pd.read_csv(r\"C:\\Users\\lenov\\Downloads\\glass.csv\")"
   ]
  },
  {
   "cell_type": "code",
   "execution_count": 68,
   "id": "e2f0f93f",
   "metadata": {},
   "outputs": [
    {
     "name": "stdout",
     "output_type": "stream",
     "text": [
      "<class 'pandas.core.frame.DataFrame'>\n",
      "RangeIndex: 214 entries, 0 to 213\n",
      "Data columns (total 10 columns):\n",
      " #   Column  Non-Null Count  Dtype  \n",
      "---  ------  --------------  -----  \n",
      " 0   RI      214 non-null    float64\n",
      " 1   Na      214 non-null    float64\n",
      " 2   Mg      214 non-null    float64\n",
      " 3   Al      214 non-null    float64\n",
      " 4   Si      214 non-null    float64\n",
      " 5   K       214 non-null    float64\n",
      " 6   Ca      214 non-null    float64\n",
      " 7   Ba      214 non-null    float64\n",
      " 8   Fe      214 non-null    float64\n",
      " 9   Type    214 non-null    int64  \n",
      "dtypes: float64(9), int64(1)\n",
      "memory usage: 16.8 KB\n"
     ]
    }
   ],
   "source": [
    "data.info()"
   ]
  },
  {
   "cell_type": "code",
   "execution_count": 69,
   "id": "2ca620a6",
   "metadata": {},
   "outputs": [
    {
     "data": {
      "text/plain": [
       "RI      0\n",
       "Na      0\n",
       "Mg      0\n",
       "Al      0\n",
       "Si      0\n",
       "K       0\n",
       "Ca      0\n",
       "Ba      0\n",
       "Fe      0\n",
       "Type    0\n",
       "dtype: int64"
      ]
     },
     "execution_count": 69,
     "metadata": {},
     "output_type": "execute_result"
    }
   ],
   "source": [
    "data.isnull().sum()"
   ]
  },
  {
   "cell_type": "code",
   "execution_count": null,
   "id": "4237f1c1",
   "metadata": {},
   "outputs": [],
   "source": []
  },
  {
   "cell_type": "code",
   "execution_count": null,
   "id": "ddb44fe2",
   "metadata": {},
   "outputs": [],
   "source": []
  },
  {
   "cell_type": "code",
   "execution_count": null,
   "id": "8842da01",
   "metadata": {},
   "outputs": [],
   "source": []
  },
  {
   "cell_type": "markdown",
   "id": "303aa053",
   "metadata": {},
   "source": [
    "# PCA"
   ]
  },
  {
   "cell_type": "code",
   "execution_count": 1,
   "id": "cd2c1763",
   "metadata": {},
   "outputs": [],
   "source": [
    "import numpy as np\n",
    "import pandas as pd\n",
    "A=np.array([\n",
    "    [3,7],\n",
    "    [-4,-6],\n",
    "    [7,8],\n",
    "    [1,-1],\n",
    "    [-4,-1],\n",
    "    [-3,-7]\n",
    "     ])"
   ]
  },
  {
   "cell_type": "code",
   "execution_count": 2,
   "id": "3d140b25",
   "metadata": {},
   "outputs": [
    {
     "data": {
      "text/plain": [
       "array([[ 3,  7],\n",
       "       [-4, -6],\n",
       "       [ 7,  8],\n",
       "       [ 1, -1],\n",
       "       [-4, -1],\n",
       "       [-3, -7]])"
      ]
     },
     "execution_count": 2,
     "metadata": {},
     "output_type": "execute_result"
    }
   ],
   "source": [
    "A"
   ]
  },
  {
   "cell_type": "code",
   "execution_count": 3,
   "id": "ab1f32a3",
   "metadata": {},
   "outputs": [
    {
     "data": {
      "text/plain": [
       "(6, 2)"
      ]
     },
     "execution_count": 3,
     "metadata": {},
     "output_type": "execute_result"
    }
   ],
   "source": [
    "A.shape"
   ]
  },
  {
   "cell_type": "code",
   "execution_count": 4,
   "id": "a29572bb",
   "metadata": {},
   "outputs": [
    {
     "data": {
      "text/plain": [
       "5.0"
      ]
     },
     "execution_count": 4,
     "metadata": {},
     "output_type": "execute_result"
    }
   ],
   "source": [
    "np.std(A)"
   ]
  },
  {
   "cell_type": "code",
   "execution_count": 5,
   "id": "3edf4773",
   "metadata": {},
   "outputs": [
    {
     "data": {
      "text/plain": [
       "0.0"
      ]
     },
     "execution_count": 5,
     "metadata": {},
     "output_type": "execute_result"
    }
   ],
   "source": [
    "np.mean(A)"
   ]
  },
  {
   "cell_type": "code",
   "execution_count": 6,
   "id": "caa609e8",
   "metadata": {},
   "outputs": [],
   "source": [
    "df=pd.DataFrame(A,columns=['a0','a1'])"
   ]
  },
  {
   "cell_type": "code",
   "execution_count": 7,
   "id": "b4e7ff55",
   "metadata": {},
   "outputs": [
    {
     "data": {
      "text/html": [
       "<div>\n",
       "<style scoped>\n",
       "    .dataframe tbody tr th:only-of-type {\n",
       "        vertical-align: middle;\n",
       "    }\n",
       "\n",
       "    .dataframe tbody tr th {\n",
       "        vertical-align: top;\n",
       "    }\n",
       "\n",
       "    .dataframe thead th {\n",
       "        text-align: right;\n",
       "    }\n",
       "</style>\n",
       "<table border=\"1\" class=\"dataframe\">\n",
       "  <thead>\n",
       "    <tr style=\"text-align: right;\">\n",
       "      <th></th>\n",
       "      <th>a0</th>\n",
       "      <th>a1</th>\n",
       "    </tr>\n",
       "  </thead>\n",
       "  <tbody>\n",
       "    <tr>\n",
       "      <th>0</th>\n",
       "      <td>3</td>\n",
       "      <td>7</td>\n",
       "    </tr>\n",
       "    <tr>\n",
       "      <th>1</th>\n",
       "      <td>-4</td>\n",
       "      <td>-6</td>\n",
       "    </tr>\n",
       "    <tr>\n",
       "      <th>2</th>\n",
       "      <td>7</td>\n",
       "      <td>8</td>\n",
       "    </tr>\n",
       "    <tr>\n",
       "      <th>3</th>\n",
       "      <td>1</td>\n",
       "      <td>-1</td>\n",
       "    </tr>\n",
       "    <tr>\n",
       "      <th>4</th>\n",
       "      <td>-4</td>\n",
       "      <td>-1</td>\n",
       "    </tr>\n",
       "    <tr>\n",
       "      <th>5</th>\n",
       "      <td>-3</td>\n",
       "      <td>-7</td>\n",
       "    </tr>\n",
       "  </tbody>\n",
       "</table>\n",
       "</div>"
      ],
      "text/plain": [
       "   a0  a1\n",
       "0   3   7\n",
       "1  -4  -6\n",
       "2   7   8\n",
       "3   1  -1\n",
       "4  -4  -1\n",
       "5  -3  -7"
      ]
     },
     "execution_count": 7,
     "metadata": {},
     "output_type": "execute_result"
    }
   ],
   "source": [
    "df"
   ]
  },
  {
   "cell_type": "code",
   "execution_count": 8,
   "id": "3449cf32",
   "metadata": {},
   "outputs": [
    {
     "data": {
      "text/plain": [
       "0.0"
      ]
     },
     "execution_count": 8,
     "metadata": {},
     "output_type": "execute_result"
    }
   ],
   "source": [
    "np.mean(df['a1'])"
   ]
  },
  {
   "cell_type": "code",
   "execution_count": 9,
   "id": "2b9c0801",
   "metadata": {},
   "outputs": [
    {
     "data": {
      "text/plain": [
       "5.773502691896258"
      ]
     },
     "execution_count": 9,
     "metadata": {},
     "output_type": "execute_result"
    }
   ],
   "source": [
    "np.std(df['a1'])"
   ]
  },
  {
   "cell_type": "code",
   "execution_count": 10,
   "id": "20ac14f7",
   "metadata": {},
   "outputs": [],
   "source": [
    "a0=df['a0'].values"
   ]
  },
  {
   "cell_type": "code",
   "execution_count": 11,
   "id": "97205be9",
   "metadata": {},
   "outputs": [
    {
     "data": {
      "text/plain": [
       "array([ 3, -4,  7,  1, -4, -3])"
      ]
     },
     "execution_count": 11,
     "metadata": {},
     "output_type": "execute_result"
    }
   ],
   "source": [
    "a0"
   ]
  },
  {
   "cell_type": "code",
   "execution_count": 12,
   "id": "c68c8086",
   "metadata": {},
   "outputs": [],
   "source": [
    "a1=df['a1'].values"
   ]
  },
  {
   "cell_type": "code",
   "execution_count": 13,
   "id": "0f418d29",
   "metadata": {},
   "outputs": [
    {
     "data": {
      "text/plain": [
       "array([ 7, -6,  8, -1, -1, -7])"
      ]
     },
     "execution_count": 13,
     "metadata": {},
     "output_type": "execute_result"
    }
   ],
   "source": [
    "a1"
   ]
  },
  {
   "cell_type": "code",
   "execution_count": 14,
   "id": "a5fdb18d",
   "metadata": {},
   "outputs": [
    {
     "data": {
      "text/plain": [
       "array([[20., 25.],\n",
       "       [25., 40.]])"
      ]
     },
     "execution_count": 14,
     "metadata": {},
     "output_type": "execute_result"
    }
   ],
   "source": [
    "np.cov(a0,a1)"
   ]
  },
  {
   "cell_type": "code",
   "execution_count": 15,
   "id": "019d7542",
   "metadata": {},
   "outputs": [
    {
     "data": {
      "text/plain": [
       "array([[40., 25.],\n",
       "       [25., 20.]])"
      ]
     },
     "execution_count": 15,
     "metadata": {},
     "output_type": "execute_result"
    }
   ],
   "source": [
    "np.cov(a1,a0)"
   ]
  },
  {
   "cell_type": "code",
   "execution_count": 16,
   "id": "3f7e4e66",
   "metadata": {},
   "outputs": [
    {
     "data": {
      "text/plain": [
       "25.0"
      ]
     },
     "execution_count": 16,
     "metadata": {},
     "output_type": "execute_result"
    }
   ],
   "source": [
    "np.sum(a0*a1)/5 # covariance of a0,a1 for u(mean)=0"
   ]
  },
  {
   "cell_type": "code",
   "execution_count": 18,
   "id": "bb03546b",
   "metadata": {},
   "outputs": [
    {
     "data": {
      "text/plain": [
       "25.0"
      ]
     },
     "execution_count": 18,
     "metadata": {},
     "output_type": "execute_result"
    }
   ],
   "source": [
    "np.sum(a0*a1)/5"
   ]
  },
  {
   "cell_type": "code",
   "execution_count": 19,
   "id": "c5f18f2f",
   "metadata": {},
   "outputs": [
    {
     "data": {
      "text/plain": [
       "array([[ 3,  7],\n",
       "       [-4, -6],\n",
       "       [ 7,  8],\n",
       "       [ 1, -1],\n",
       "       [-4, -1],\n",
       "       [-3, -7]])"
      ]
     },
     "execution_count": 19,
     "metadata": {},
     "output_type": "execute_result"
    }
   ],
   "source": [
    "A"
   ]
  },
  {
   "cell_type": "code",
   "execution_count": 20,
   "id": "56c077f7",
   "metadata": {},
   "outputs": [
    {
     "data": {
      "text/plain": [
       "array([[ 3, -4,  7,  1, -4, -3],\n",
       "       [ 7, -6,  8, -1, -1, -7]])"
      ]
     },
     "execution_count": 20,
     "metadata": {},
     "output_type": "execute_result"
    }
   ],
   "source": [
    "A.T"
   ]
  },
  {
   "cell_type": "code",
   "execution_count": 21,
   "id": "3d37c218",
   "metadata": {},
   "outputs": [
    {
     "data": {
      "text/plain": [
       "array([[20., 25.],\n",
       "       [25., 40.]])"
      ]
     },
     "execution_count": 21,
     "metadata": {},
     "output_type": "execute_result"
    }
   ],
   "source": [
    "sigma=A.T @ A/5 # covariance\n",
    "sigma"
   ]
  },
  {
   "cell_type": "code",
   "execution_count": 23,
   "id": "2c5e146e",
   "metadata": {},
   "outputs": [
    {
     "data": {
      "text/plain": [
       "(array([ 3.07417596, 56.92582404]),\n",
       " array([[-0.82806723, -0.56062881],\n",
       "        [ 0.56062881, -0.82806723]]))"
      ]
     },
     "execution_count": 23,
     "metadata": {},
     "output_type": "execute_result"
    }
   ],
   "source": [
    "np.linalg.eig(sigma)"
   ]
  },
  {
   "cell_type": "code",
   "execution_count": 24,
   "id": "40b28fb5",
   "metadata": {},
   "outputs": [],
   "source": [
    "l,x=np.linalg.eig(sigma)"
   ]
  },
  {
   "cell_type": "code",
   "execution_count": 25,
   "id": "e1b14408",
   "metadata": {},
   "outputs": [
    {
     "data": {
      "text/plain": [
       "array([ 3.07417596, 56.92582404])"
      ]
     },
     "execution_count": 25,
     "metadata": {},
     "output_type": "execute_result"
    }
   ],
   "source": [
    "l # eigen value , the biggest lambda value is pc1=56.9258"
   ]
  },
  {
   "cell_type": "code",
   "execution_count": 26,
   "id": "1917b21e",
   "metadata": {},
   "outputs": [
    {
     "data": {
      "text/plain": [
       "array([[-0.82806723, -0.56062881],\n",
       "       [ 0.56062881, -0.82806723]])"
      ]
     },
     "execution_count": 26,
     "metadata": {},
     "output_type": "execute_result"
    }
   ],
   "source": [
    "x # eigen vector"
   ]
  },
  {
   "cell_type": "code",
   "execution_count": 38,
   "id": "ce7e85dc",
   "metadata": {},
   "outputs": [
    {
     "name": "stdout",
     "output_type": "stream",
     "text": [
      "first principal component\n"
     ]
    },
    {
     "data": {
      "text/plain": [
       "array([-0.56062881, -0.82806723])"
      ]
     },
     "execution_count": 38,
     "metadata": {},
     "output_type": "execute_result"
    }
   ],
   "source": [
    "print('first principal component')\n",
    "x[:,1]"
   ]
  },
  {
   "cell_type": "code",
   "execution_count": 39,
   "id": "b46b7e7d",
   "metadata": {},
   "outputs": [
    {
     "name": "stdout",
     "output_type": "stream",
     "text": [
      "second principal component\n"
     ]
    },
    {
     "data": {
      "text/plain": [
       "array([-0.82806723,  0.56062881])"
      ]
     },
     "execution_count": 39,
     "metadata": {},
     "output_type": "execute_result"
    }
   ],
   "source": [
    "print('second principal component')\n",
    "x[:,0]"
   ]
  },
  {
   "cell_type": "code",
   "execution_count": 40,
   "id": "d225168c",
   "metadata": {},
   "outputs": [
    {
     "data": {
      "text/plain": [
       "array([[ 3,  7],\n",
       "       [-4, -6],\n",
       "       [ 7,  8],\n",
       "       [ 1, -1],\n",
       "       [-4, -1],\n",
       "       [-3, -7]])"
      ]
     },
     "execution_count": 40,
     "metadata": {},
     "output_type": "execute_result"
    }
   ],
   "source": [
    "A"
   ]
  },
  {
   "cell_type": "code",
   "execution_count": 29,
   "id": "1032c9f3",
   "metadata": {},
   "outputs": [],
   "source": [
    "pc1_arr=A @ x[:,1] # we are transform the data "
   ]
  },
  {
   "cell_type": "code",
   "execution_count": 30,
   "id": "66beaced",
   "metadata": {},
   "outputs": [
    {
     "data": {
      "text/plain": [
       "array([ -7.47835704,   7.21091862, -10.54893951,   0.26743842,\n",
       "         3.07058247,   7.47835704])"
      ]
     },
     "execution_count": 30,
     "metadata": {},
     "output_type": "execute_result"
    }
   ],
   "source": [
    "pc1_arr"
   ]
  },
  {
   "cell_type": "code",
   "execution_count": 31,
   "id": "2bf7ee2c",
   "metadata": {},
   "outputs": [
    {
     "data": {
      "text/plain": [
       "array([ 1.44019997, -0.05150393, -1.31144014, -1.38869604,  2.75164011,\n",
       "       -1.44019997])"
      ]
     },
     "execution_count": 31,
     "metadata": {},
     "output_type": "execute_result"
    }
   ],
   "source": [
    "pc2_arr=A @ x[:,0]\n",
    "pc2_arr"
   ]
  },
  {
   "cell_type": "code",
   "execution_count": null,
   "id": "f07e7f71",
   "metadata": {},
   "outputs": [],
   "source": []
  },
  {
   "cell_type": "code",
   "execution_count": 32,
   "id": "2e2184b1",
   "metadata": {},
   "outputs": [],
   "source": [
    "df=pd.read_csv(r\"C:\\Users\\lenov\\Downloads\\glass.csv\")"
   ]
  },
  {
   "cell_type": "code",
   "execution_count": 33,
   "id": "a929e26c",
   "metadata": {},
   "outputs": [
    {
     "data": {
      "text/html": [
       "<div>\n",
       "<style scoped>\n",
       "    .dataframe tbody tr th:only-of-type {\n",
       "        vertical-align: middle;\n",
       "    }\n",
       "\n",
       "    .dataframe tbody tr th {\n",
       "        vertical-align: top;\n",
       "    }\n",
       "\n",
       "    .dataframe thead th {\n",
       "        text-align: right;\n",
       "    }\n",
       "</style>\n",
       "<table border=\"1\" class=\"dataframe\">\n",
       "  <thead>\n",
       "    <tr style=\"text-align: right;\">\n",
       "      <th></th>\n",
       "      <th>RI</th>\n",
       "      <th>Na</th>\n",
       "      <th>Mg</th>\n",
       "      <th>Al</th>\n",
       "      <th>Si</th>\n",
       "      <th>K</th>\n",
       "      <th>Ca</th>\n",
       "      <th>Ba</th>\n",
       "      <th>Fe</th>\n",
       "      <th>Type</th>\n",
       "    </tr>\n",
       "  </thead>\n",
       "  <tbody>\n",
       "    <tr>\n",
       "      <th>0</th>\n",
       "      <td>1.52101</td>\n",
       "      <td>13.64</td>\n",
       "      <td>4.49</td>\n",
       "      <td>1.10</td>\n",
       "      <td>71.78</td>\n",
       "      <td>0.06</td>\n",
       "      <td>8.75</td>\n",
       "      <td>0.00</td>\n",
       "      <td>0.0</td>\n",
       "      <td>1</td>\n",
       "    </tr>\n",
       "    <tr>\n",
       "      <th>1</th>\n",
       "      <td>1.51761</td>\n",
       "      <td>13.89</td>\n",
       "      <td>3.60</td>\n",
       "      <td>1.36</td>\n",
       "      <td>72.73</td>\n",
       "      <td>0.48</td>\n",
       "      <td>7.83</td>\n",
       "      <td>0.00</td>\n",
       "      <td>0.0</td>\n",
       "      <td>1</td>\n",
       "    </tr>\n",
       "    <tr>\n",
       "      <th>2</th>\n",
       "      <td>1.51618</td>\n",
       "      <td>13.53</td>\n",
       "      <td>3.55</td>\n",
       "      <td>1.54</td>\n",
       "      <td>72.99</td>\n",
       "      <td>0.39</td>\n",
       "      <td>7.78</td>\n",
       "      <td>0.00</td>\n",
       "      <td>0.0</td>\n",
       "      <td>1</td>\n",
       "    </tr>\n",
       "    <tr>\n",
       "      <th>3</th>\n",
       "      <td>1.51766</td>\n",
       "      <td>13.21</td>\n",
       "      <td>3.69</td>\n",
       "      <td>1.29</td>\n",
       "      <td>72.61</td>\n",
       "      <td>0.57</td>\n",
       "      <td>8.22</td>\n",
       "      <td>0.00</td>\n",
       "      <td>0.0</td>\n",
       "      <td>1</td>\n",
       "    </tr>\n",
       "    <tr>\n",
       "      <th>4</th>\n",
       "      <td>1.51742</td>\n",
       "      <td>13.27</td>\n",
       "      <td>3.62</td>\n",
       "      <td>1.24</td>\n",
       "      <td>73.08</td>\n",
       "      <td>0.55</td>\n",
       "      <td>8.07</td>\n",
       "      <td>0.00</td>\n",
       "      <td>0.0</td>\n",
       "      <td>1</td>\n",
       "    </tr>\n",
       "    <tr>\n",
       "      <th>...</th>\n",
       "      <td>...</td>\n",
       "      <td>...</td>\n",
       "      <td>...</td>\n",
       "      <td>...</td>\n",
       "      <td>...</td>\n",
       "      <td>...</td>\n",
       "      <td>...</td>\n",
       "      <td>...</td>\n",
       "      <td>...</td>\n",
       "      <td>...</td>\n",
       "    </tr>\n",
       "    <tr>\n",
       "      <th>209</th>\n",
       "      <td>1.51623</td>\n",
       "      <td>14.14</td>\n",
       "      <td>0.00</td>\n",
       "      <td>2.88</td>\n",
       "      <td>72.61</td>\n",
       "      <td>0.08</td>\n",
       "      <td>9.18</td>\n",
       "      <td>1.06</td>\n",
       "      <td>0.0</td>\n",
       "      <td>7</td>\n",
       "    </tr>\n",
       "    <tr>\n",
       "      <th>210</th>\n",
       "      <td>1.51685</td>\n",
       "      <td>14.92</td>\n",
       "      <td>0.00</td>\n",
       "      <td>1.99</td>\n",
       "      <td>73.06</td>\n",
       "      <td>0.00</td>\n",
       "      <td>8.40</td>\n",
       "      <td>1.59</td>\n",
       "      <td>0.0</td>\n",
       "      <td>7</td>\n",
       "    </tr>\n",
       "    <tr>\n",
       "      <th>211</th>\n",
       "      <td>1.52065</td>\n",
       "      <td>14.36</td>\n",
       "      <td>0.00</td>\n",
       "      <td>2.02</td>\n",
       "      <td>73.42</td>\n",
       "      <td>0.00</td>\n",
       "      <td>8.44</td>\n",
       "      <td>1.64</td>\n",
       "      <td>0.0</td>\n",
       "      <td>7</td>\n",
       "    </tr>\n",
       "    <tr>\n",
       "      <th>212</th>\n",
       "      <td>1.51651</td>\n",
       "      <td>14.38</td>\n",
       "      <td>0.00</td>\n",
       "      <td>1.94</td>\n",
       "      <td>73.61</td>\n",
       "      <td>0.00</td>\n",
       "      <td>8.48</td>\n",
       "      <td>1.57</td>\n",
       "      <td>0.0</td>\n",
       "      <td>7</td>\n",
       "    </tr>\n",
       "    <tr>\n",
       "      <th>213</th>\n",
       "      <td>1.51711</td>\n",
       "      <td>14.23</td>\n",
       "      <td>0.00</td>\n",
       "      <td>2.08</td>\n",
       "      <td>73.36</td>\n",
       "      <td>0.00</td>\n",
       "      <td>8.62</td>\n",
       "      <td>1.67</td>\n",
       "      <td>0.0</td>\n",
       "      <td>7</td>\n",
       "    </tr>\n",
       "  </tbody>\n",
       "</table>\n",
       "<p>214 rows × 10 columns</p>\n",
       "</div>"
      ],
      "text/plain": [
       "          RI     Na    Mg    Al     Si     K    Ca    Ba   Fe  Type\n",
       "0    1.52101  13.64  4.49  1.10  71.78  0.06  8.75  0.00  0.0     1\n",
       "1    1.51761  13.89  3.60  1.36  72.73  0.48  7.83  0.00  0.0     1\n",
       "2    1.51618  13.53  3.55  1.54  72.99  0.39  7.78  0.00  0.0     1\n",
       "3    1.51766  13.21  3.69  1.29  72.61  0.57  8.22  0.00  0.0     1\n",
       "4    1.51742  13.27  3.62  1.24  73.08  0.55  8.07  0.00  0.0     1\n",
       "..       ...    ...   ...   ...    ...   ...   ...   ...  ...   ...\n",
       "209  1.51623  14.14  0.00  2.88  72.61  0.08  9.18  1.06  0.0     7\n",
       "210  1.51685  14.92  0.00  1.99  73.06  0.00  8.40  1.59  0.0     7\n",
       "211  1.52065  14.36  0.00  2.02  73.42  0.00  8.44  1.64  0.0     7\n",
       "212  1.51651  14.38  0.00  1.94  73.61  0.00  8.48  1.57  0.0     7\n",
       "213  1.51711  14.23  0.00  2.08  73.36  0.00  8.62  1.67  0.0     7\n",
       "\n",
       "[214 rows x 10 columns]"
      ]
     },
     "execution_count": 33,
     "metadata": {},
     "output_type": "execute_result"
    }
   ],
   "source": [
    "df"
   ]
  },
  {
   "cell_type": "code",
   "execution_count": 34,
   "id": "a40165e1",
   "metadata": {},
   "outputs": [],
   "source": [
    "df.drop(columns=['Type'],inplace=True)"
   ]
  },
  {
   "cell_type": "code",
   "execution_count": 35,
   "id": "e91cade0",
   "metadata": {},
   "outputs": [
    {
     "data": {
      "text/html": [
       "<div>\n",
       "<style scoped>\n",
       "    .dataframe tbody tr th:only-of-type {\n",
       "        vertical-align: middle;\n",
       "    }\n",
       "\n",
       "    .dataframe tbody tr th {\n",
       "        vertical-align: top;\n",
       "    }\n",
       "\n",
       "    .dataframe thead th {\n",
       "        text-align: right;\n",
       "    }\n",
       "</style>\n",
       "<table border=\"1\" class=\"dataframe\">\n",
       "  <thead>\n",
       "    <tr style=\"text-align: right;\">\n",
       "      <th></th>\n",
       "      <th>RI</th>\n",
       "      <th>Na</th>\n",
       "      <th>Mg</th>\n",
       "      <th>Al</th>\n",
       "      <th>Si</th>\n",
       "      <th>K</th>\n",
       "      <th>Ca</th>\n",
       "      <th>Ba</th>\n",
       "      <th>Fe</th>\n",
       "    </tr>\n",
       "  </thead>\n",
       "  <tbody>\n",
       "    <tr>\n",
       "      <th>0</th>\n",
       "      <td>1.52101</td>\n",
       "      <td>13.64</td>\n",
       "      <td>4.49</td>\n",
       "      <td>1.10</td>\n",
       "      <td>71.78</td>\n",
       "      <td>0.06</td>\n",
       "      <td>8.75</td>\n",
       "      <td>0.00</td>\n",
       "      <td>0.0</td>\n",
       "    </tr>\n",
       "    <tr>\n",
       "      <th>1</th>\n",
       "      <td>1.51761</td>\n",
       "      <td>13.89</td>\n",
       "      <td>3.60</td>\n",
       "      <td>1.36</td>\n",
       "      <td>72.73</td>\n",
       "      <td>0.48</td>\n",
       "      <td>7.83</td>\n",
       "      <td>0.00</td>\n",
       "      <td>0.0</td>\n",
       "    </tr>\n",
       "    <tr>\n",
       "      <th>2</th>\n",
       "      <td>1.51618</td>\n",
       "      <td>13.53</td>\n",
       "      <td>3.55</td>\n",
       "      <td>1.54</td>\n",
       "      <td>72.99</td>\n",
       "      <td>0.39</td>\n",
       "      <td>7.78</td>\n",
       "      <td>0.00</td>\n",
       "      <td>0.0</td>\n",
       "    </tr>\n",
       "    <tr>\n",
       "      <th>3</th>\n",
       "      <td>1.51766</td>\n",
       "      <td>13.21</td>\n",
       "      <td>3.69</td>\n",
       "      <td>1.29</td>\n",
       "      <td>72.61</td>\n",
       "      <td>0.57</td>\n",
       "      <td>8.22</td>\n",
       "      <td>0.00</td>\n",
       "      <td>0.0</td>\n",
       "    </tr>\n",
       "    <tr>\n",
       "      <th>4</th>\n",
       "      <td>1.51742</td>\n",
       "      <td>13.27</td>\n",
       "      <td>3.62</td>\n",
       "      <td>1.24</td>\n",
       "      <td>73.08</td>\n",
       "      <td>0.55</td>\n",
       "      <td>8.07</td>\n",
       "      <td>0.00</td>\n",
       "      <td>0.0</td>\n",
       "    </tr>\n",
       "    <tr>\n",
       "      <th>...</th>\n",
       "      <td>...</td>\n",
       "      <td>...</td>\n",
       "      <td>...</td>\n",
       "      <td>...</td>\n",
       "      <td>...</td>\n",
       "      <td>...</td>\n",
       "      <td>...</td>\n",
       "      <td>...</td>\n",
       "      <td>...</td>\n",
       "    </tr>\n",
       "    <tr>\n",
       "      <th>209</th>\n",
       "      <td>1.51623</td>\n",
       "      <td>14.14</td>\n",
       "      <td>0.00</td>\n",
       "      <td>2.88</td>\n",
       "      <td>72.61</td>\n",
       "      <td>0.08</td>\n",
       "      <td>9.18</td>\n",
       "      <td>1.06</td>\n",
       "      <td>0.0</td>\n",
       "    </tr>\n",
       "    <tr>\n",
       "      <th>210</th>\n",
       "      <td>1.51685</td>\n",
       "      <td>14.92</td>\n",
       "      <td>0.00</td>\n",
       "      <td>1.99</td>\n",
       "      <td>73.06</td>\n",
       "      <td>0.00</td>\n",
       "      <td>8.40</td>\n",
       "      <td>1.59</td>\n",
       "      <td>0.0</td>\n",
       "    </tr>\n",
       "    <tr>\n",
       "      <th>211</th>\n",
       "      <td>1.52065</td>\n",
       "      <td>14.36</td>\n",
       "      <td>0.00</td>\n",
       "      <td>2.02</td>\n",
       "      <td>73.42</td>\n",
       "      <td>0.00</td>\n",
       "      <td>8.44</td>\n",
       "      <td>1.64</td>\n",
       "      <td>0.0</td>\n",
       "    </tr>\n",
       "    <tr>\n",
       "      <th>212</th>\n",
       "      <td>1.51651</td>\n",
       "      <td>14.38</td>\n",
       "      <td>0.00</td>\n",
       "      <td>1.94</td>\n",
       "      <td>73.61</td>\n",
       "      <td>0.00</td>\n",
       "      <td>8.48</td>\n",
       "      <td>1.57</td>\n",
       "      <td>0.0</td>\n",
       "    </tr>\n",
       "    <tr>\n",
       "      <th>213</th>\n",
       "      <td>1.51711</td>\n",
       "      <td>14.23</td>\n",
       "      <td>0.00</td>\n",
       "      <td>2.08</td>\n",
       "      <td>73.36</td>\n",
       "      <td>0.00</td>\n",
       "      <td>8.62</td>\n",
       "      <td>1.67</td>\n",
       "      <td>0.0</td>\n",
       "    </tr>\n",
       "  </tbody>\n",
       "</table>\n",
       "<p>214 rows × 9 columns</p>\n",
       "</div>"
      ],
      "text/plain": [
       "          RI     Na    Mg    Al     Si     K    Ca    Ba   Fe\n",
       "0    1.52101  13.64  4.49  1.10  71.78  0.06  8.75  0.00  0.0\n",
       "1    1.51761  13.89  3.60  1.36  72.73  0.48  7.83  0.00  0.0\n",
       "2    1.51618  13.53  3.55  1.54  72.99  0.39  7.78  0.00  0.0\n",
       "3    1.51766  13.21  3.69  1.29  72.61  0.57  8.22  0.00  0.0\n",
       "4    1.51742  13.27  3.62  1.24  73.08  0.55  8.07  0.00  0.0\n",
       "..       ...    ...   ...   ...    ...   ...   ...   ...  ...\n",
       "209  1.51623  14.14  0.00  2.88  72.61  0.08  9.18  1.06  0.0\n",
       "210  1.51685  14.92  0.00  1.99  73.06  0.00  8.40  1.59  0.0\n",
       "211  1.52065  14.36  0.00  2.02  73.42  0.00  8.44  1.64  0.0\n",
       "212  1.51651  14.38  0.00  1.94  73.61  0.00  8.48  1.57  0.0\n",
       "213  1.51711  14.23  0.00  2.08  73.36  0.00  8.62  1.67  0.0\n",
       "\n",
       "[214 rows x 9 columns]"
      ]
     },
     "execution_count": 35,
     "metadata": {},
     "output_type": "execute_result"
    }
   ],
   "source": [
    "df"
   ]
  },
  {
   "cell_type": "code",
   "execution_count": 36,
   "id": "af122bfc",
   "metadata": {},
   "outputs": [
    {
     "data": {
      "text/html": [
       "<div>\n",
       "<style scoped>\n",
       "    .dataframe tbody tr th:only-of-type {\n",
       "        vertical-align: middle;\n",
       "    }\n",
       "\n",
       "    .dataframe tbody tr th {\n",
       "        vertical-align: top;\n",
       "    }\n",
       "\n",
       "    .dataframe thead th {\n",
       "        text-align: right;\n",
       "    }\n",
       "</style>\n",
       "<table border=\"1\" class=\"dataframe\">\n",
       "  <thead>\n",
       "    <tr style=\"text-align: right;\">\n",
       "      <th></th>\n",
       "      <th>RI</th>\n",
       "      <th>Na</th>\n",
       "      <th>Mg</th>\n",
       "      <th>Al</th>\n",
       "      <th>Si</th>\n",
       "      <th>K</th>\n",
       "      <th>Ca</th>\n",
       "      <th>Ba</th>\n",
       "      <th>Fe</th>\n",
       "    </tr>\n",
       "  </thead>\n",
       "  <tbody>\n",
       "    <tr>\n",
       "      <th>count</th>\n",
       "      <td>214.000000</td>\n",
       "      <td>214.000000</td>\n",
       "      <td>214.000000</td>\n",
       "      <td>214.000000</td>\n",
       "      <td>214.000000</td>\n",
       "      <td>214.000000</td>\n",
       "      <td>214.000000</td>\n",
       "      <td>214.000000</td>\n",
       "      <td>214.000000</td>\n",
       "    </tr>\n",
       "    <tr>\n",
       "      <th>mean</th>\n",
       "      <td>1.518365</td>\n",
       "      <td>13.407850</td>\n",
       "      <td>2.684533</td>\n",
       "      <td>1.444907</td>\n",
       "      <td>72.650935</td>\n",
       "      <td>0.497056</td>\n",
       "      <td>8.956963</td>\n",
       "      <td>0.175047</td>\n",
       "      <td>0.057009</td>\n",
       "    </tr>\n",
       "    <tr>\n",
       "      <th>std</th>\n",
       "      <td>0.003037</td>\n",
       "      <td>0.816604</td>\n",
       "      <td>1.442408</td>\n",
       "      <td>0.499270</td>\n",
       "      <td>0.774546</td>\n",
       "      <td>0.652192</td>\n",
       "      <td>1.423153</td>\n",
       "      <td>0.497219</td>\n",
       "      <td>0.097439</td>\n",
       "    </tr>\n",
       "    <tr>\n",
       "      <th>min</th>\n",
       "      <td>1.511150</td>\n",
       "      <td>10.730000</td>\n",
       "      <td>0.000000</td>\n",
       "      <td>0.290000</td>\n",
       "      <td>69.810000</td>\n",
       "      <td>0.000000</td>\n",
       "      <td>5.430000</td>\n",
       "      <td>0.000000</td>\n",
       "      <td>0.000000</td>\n",
       "    </tr>\n",
       "    <tr>\n",
       "      <th>25%</th>\n",
       "      <td>1.516522</td>\n",
       "      <td>12.907500</td>\n",
       "      <td>2.115000</td>\n",
       "      <td>1.190000</td>\n",
       "      <td>72.280000</td>\n",
       "      <td>0.122500</td>\n",
       "      <td>8.240000</td>\n",
       "      <td>0.000000</td>\n",
       "      <td>0.000000</td>\n",
       "    </tr>\n",
       "    <tr>\n",
       "      <th>50%</th>\n",
       "      <td>1.517680</td>\n",
       "      <td>13.300000</td>\n",
       "      <td>3.480000</td>\n",
       "      <td>1.360000</td>\n",
       "      <td>72.790000</td>\n",
       "      <td>0.555000</td>\n",
       "      <td>8.600000</td>\n",
       "      <td>0.000000</td>\n",
       "      <td>0.000000</td>\n",
       "    </tr>\n",
       "    <tr>\n",
       "      <th>75%</th>\n",
       "      <td>1.519157</td>\n",
       "      <td>13.825000</td>\n",
       "      <td>3.600000</td>\n",
       "      <td>1.630000</td>\n",
       "      <td>73.087500</td>\n",
       "      <td>0.610000</td>\n",
       "      <td>9.172500</td>\n",
       "      <td>0.000000</td>\n",
       "      <td>0.100000</td>\n",
       "    </tr>\n",
       "    <tr>\n",
       "      <th>max</th>\n",
       "      <td>1.533930</td>\n",
       "      <td>17.380000</td>\n",
       "      <td>4.490000</td>\n",
       "      <td>3.500000</td>\n",
       "      <td>75.410000</td>\n",
       "      <td>6.210000</td>\n",
       "      <td>16.190000</td>\n",
       "      <td>3.150000</td>\n",
       "      <td>0.510000</td>\n",
       "    </tr>\n",
       "  </tbody>\n",
       "</table>\n",
       "</div>"
      ],
      "text/plain": [
       "               RI          Na          Mg          Al          Si           K  \\\n",
       "count  214.000000  214.000000  214.000000  214.000000  214.000000  214.000000   \n",
       "mean     1.518365   13.407850    2.684533    1.444907   72.650935    0.497056   \n",
       "std      0.003037    0.816604    1.442408    0.499270    0.774546    0.652192   \n",
       "min      1.511150   10.730000    0.000000    0.290000   69.810000    0.000000   \n",
       "25%      1.516522   12.907500    2.115000    1.190000   72.280000    0.122500   \n",
       "50%      1.517680   13.300000    3.480000    1.360000   72.790000    0.555000   \n",
       "75%      1.519157   13.825000    3.600000    1.630000   73.087500    0.610000   \n",
       "max      1.533930   17.380000    4.490000    3.500000   75.410000    6.210000   \n",
       "\n",
       "               Ca          Ba          Fe  \n",
       "count  214.000000  214.000000  214.000000  \n",
       "mean     8.956963    0.175047    0.057009  \n",
       "std      1.423153    0.497219    0.097439  \n",
       "min      5.430000    0.000000    0.000000  \n",
       "25%      8.240000    0.000000    0.000000  \n",
       "50%      8.600000    0.000000    0.000000  \n",
       "75%      9.172500    0.000000    0.100000  \n",
       "max     16.190000    3.150000    0.510000  "
      ]
     },
     "execution_count": 36,
     "metadata": {},
     "output_type": "execute_result"
    }
   ],
   "source": [
    "df.describe()"
   ]
  },
  {
   "cell_type": "code",
   "execution_count": 37,
   "id": "b4d6d6ba",
   "metadata": {},
   "outputs": [],
   "source": [
    "from sklearn.preprocessing import StandardScaler"
   ]
  },
  {
   "cell_type": "code",
   "execution_count": 38,
   "id": "0bd3f298",
   "metadata": {},
   "outputs": [],
   "source": [
    "scaler=StandardScaler()"
   ]
  },
  {
   "cell_type": "code",
   "execution_count": 39,
   "id": "7c3e4ac9",
   "metadata": {},
   "outputs": [],
   "source": [
    "df_scaler=scaler.fit_transform(df)"
   ]
  },
  {
   "cell_type": "code",
   "execution_count": 40,
   "id": "72432b46",
   "metadata": {},
   "outputs": [
    {
     "data": {
      "text/plain": [
       "array([[ 0.87286765,  0.28495326,  1.25463857, ..., -0.14576634,\n",
       "        -0.35287683, -0.5864509 ],\n",
       "       [-0.24933347,  0.59181718,  0.63616803, ..., -0.79373376,\n",
       "        -0.35287683, -0.5864509 ],\n",
       "       [-0.72131806,  0.14993314,  0.60142249, ..., -0.82894938,\n",
       "        -0.35287683, -0.5864509 ],\n",
       "       ...,\n",
       "       [ 0.75404635,  1.16872135, -1.86551055, ..., -0.36410319,\n",
       "         2.95320036, -0.5864509 ],\n",
       "       [-0.61239854,  1.19327046, -1.86551055, ..., -0.33593069,\n",
       "         2.81208731, -0.5864509 ],\n",
       "       [-0.41436305,  1.00915211, -1.86551055, ..., -0.23732695,\n",
       "         3.01367739, -0.5864509 ]])"
      ]
     },
     "execution_count": 40,
     "metadata": {},
     "output_type": "execute_result"
    }
   ],
   "source": [
    "df_scaler"
   ]
  },
  {
   "cell_type": "code",
   "execution_count": 41,
   "id": "388546ac",
   "metadata": {},
   "outputs": [],
   "source": [
    "df1=pd.DataFrame(df_scaler)"
   ]
  },
  {
   "cell_type": "code",
   "execution_count": 42,
   "id": "a2cecbf3",
   "metadata": {},
   "outputs": [
    {
     "data": {
      "text/html": [
       "<div>\n",
       "<style scoped>\n",
       "    .dataframe tbody tr th:only-of-type {\n",
       "        vertical-align: middle;\n",
       "    }\n",
       "\n",
       "    .dataframe tbody tr th {\n",
       "        vertical-align: top;\n",
       "    }\n",
       "\n",
       "    .dataframe thead th {\n",
       "        text-align: right;\n",
       "    }\n",
       "</style>\n",
       "<table border=\"1\" class=\"dataframe\">\n",
       "  <thead>\n",
       "    <tr style=\"text-align: right;\">\n",
       "      <th></th>\n",
       "      <th>0</th>\n",
       "      <th>1</th>\n",
       "      <th>2</th>\n",
       "      <th>3</th>\n",
       "      <th>4</th>\n",
       "      <th>5</th>\n",
       "      <th>6</th>\n",
       "      <th>7</th>\n",
       "      <th>8</th>\n",
       "    </tr>\n",
       "  </thead>\n",
       "  <tbody>\n",
       "    <tr>\n",
       "      <th>0</th>\n",
       "      <td>0.872868</td>\n",
       "      <td>0.284953</td>\n",
       "      <td>1.254639</td>\n",
       "      <td>-0.692442</td>\n",
       "      <td>-1.127082</td>\n",
       "      <td>-0.671705</td>\n",
       "      <td>-0.145766</td>\n",
       "      <td>-0.352877</td>\n",
       "      <td>-0.586451</td>\n",
       "    </tr>\n",
       "    <tr>\n",
       "      <th>1</th>\n",
       "      <td>-0.249333</td>\n",
       "      <td>0.591817</td>\n",
       "      <td>0.636168</td>\n",
       "      <td>-0.170460</td>\n",
       "      <td>0.102319</td>\n",
       "      <td>-0.026213</td>\n",
       "      <td>-0.793734</td>\n",
       "      <td>-0.352877</td>\n",
       "      <td>-0.586451</td>\n",
       "    </tr>\n",
       "    <tr>\n",
       "      <th>2</th>\n",
       "      <td>-0.721318</td>\n",
       "      <td>0.149933</td>\n",
       "      <td>0.601422</td>\n",
       "      <td>0.190912</td>\n",
       "      <td>0.438787</td>\n",
       "      <td>-0.164533</td>\n",
       "      <td>-0.828949</td>\n",
       "      <td>-0.352877</td>\n",
       "      <td>-0.586451</td>\n",
       "    </tr>\n",
       "    <tr>\n",
       "      <th>3</th>\n",
       "      <td>-0.232831</td>\n",
       "      <td>-0.242853</td>\n",
       "      <td>0.698710</td>\n",
       "      <td>-0.310994</td>\n",
       "      <td>-0.052974</td>\n",
       "      <td>0.112107</td>\n",
       "      <td>-0.519052</td>\n",
       "      <td>-0.352877</td>\n",
       "      <td>-0.586451</td>\n",
       "    </tr>\n",
       "    <tr>\n",
       "      <th>4</th>\n",
       "      <td>-0.312045</td>\n",
       "      <td>-0.169205</td>\n",
       "      <td>0.650066</td>\n",
       "      <td>-0.411375</td>\n",
       "      <td>0.555256</td>\n",
       "      <td>0.081369</td>\n",
       "      <td>-0.624699</td>\n",
       "      <td>-0.352877</td>\n",
       "      <td>-0.586451</td>\n",
       "    </tr>\n",
       "    <tr>\n",
       "      <th>...</th>\n",
       "      <td>...</td>\n",
       "      <td>...</td>\n",
       "      <td>...</td>\n",
       "      <td>...</td>\n",
       "      <td>...</td>\n",
       "      <td>...</td>\n",
       "      <td>...</td>\n",
       "      <td>...</td>\n",
       "      <td>...</td>\n",
       "    </tr>\n",
       "    <tr>\n",
       "      <th>209</th>\n",
       "      <td>-0.704815</td>\n",
       "      <td>0.898681</td>\n",
       "      <td>-1.865511</td>\n",
       "      <td>2.881125</td>\n",
       "      <td>-0.052974</td>\n",
       "      <td>-0.640968</td>\n",
       "      <td>0.157088</td>\n",
       "      <td>1.783978</td>\n",
       "      <td>-0.586451</td>\n",
       "    </tr>\n",
       "    <tr>\n",
       "      <th>210</th>\n",
       "      <td>-0.500178</td>\n",
       "      <td>1.856097</td>\n",
       "      <td>-1.865511</td>\n",
       "      <td>1.094342</td>\n",
       "      <td>0.529374</td>\n",
       "      <td>-0.763919</td>\n",
       "      <td>-0.392276</td>\n",
       "      <td>2.852405</td>\n",
       "      <td>-0.586451</td>\n",
       "    </tr>\n",
       "    <tr>\n",
       "      <th>211</th>\n",
       "      <td>0.754046</td>\n",
       "      <td>1.168721</td>\n",
       "      <td>-1.865511</td>\n",
       "      <td>1.154570</td>\n",
       "      <td>0.995252</td>\n",
       "      <td>-0.763919</td>\n",
       "      <td>-0.364103</td>\n",
       "      <td>2.953200</td>\n",
       "      <td>-0.586451</td>\n",
       "    </tr>\n",
       "    <tr>\n",
       "      <th>212</th>\n",
       "      <td>-0.612399</td>\n",
       "      <td>1.193270</td>\n",
       "      <td>-1.865511</td>\n",
       "      <td>0.993960</td>\n",
       "      <td>1.241133</td>\n",
       "      <td>-0.763919</td>\n",
       "      <td>-0.335931</td>\n",
       "      <td>2.812087</td>\n",
       "      <td>-0.586451</td>\n",
       "    </tr>\n",
       "    <tr>\n",
       "      <th>213</th>\n",
       "      <td>-0.414363</td>\n",
       "      <td>1.009152</td>\n",
       "      <td>-1.865511</td>\n",
       "      <td>1.275028</td>\n",
       "      <td>0.917606</td>\n",
       "      <td>-0.763919</td>\n",
       "      <td>-0.237327</td>\n",
       "      <td>3.013677</td>\n",
       "      <td>-0.586451</td>\n",
       "    </tr>\n",
       "  </tbody>\n",
       "</table>\n",
       "<p>214 rows × 9 columns</p>\n",
       "</div>"
      ],
      "text/plain": [
       "            0         1         2         3         4         5         6  \\\n",
       "0    0.872868  0.284953  1.254639 -0.692442 -1.127082 -0.671705 -0.145766   \n",
       "1   -0.249333  0.591817  0.636168 -0.170460  0.102319 -0.026213 -0.793734   \n",
       "2   -0.721318  0.149933  0.601422  0.190912  0.438787 -0.164533 -0.828949   \n",
       "3   -0.232831 -0.242853  0.698710 -0.310994 -0.052974  0.112107 -0.519052   \n",
       "4   -0.312045 -0.169205  0.650066 -0.411375  0.555256  0.081369 -0.624699   \n",
       "..        ...       ...       ...       ...       ...       ...       ...   \n",
       "209 -0.704815  0.898681 -1.865511  2.881125 -0.052974 -0.640968  0.157088   \n",
       "210 -0.500178  1.856097 -1.865511  1.094342  0.529374 -0.763919 -0.392276   \n",
       "211  0.754046  1.168721 -1.865511  1.154570  0.995252 -0.763919 -0.364103   \n",
       "212 -0.612399  1.193270 -1.865511  0.993960  1.241133 -0.763919 -0.335931   \n",
       "213 -0.414363  1.009152 -1.865511  1.275028  0.917606 -0.763919 -0.237327   \n",
       "\n",
       "            7         8  \n",
       "0   -0.352877 -0.586451  \n",
       "1   -0.352877 -0.586451  \n",
       "2   -0.352877 -0.586451  \n",
       "3   -0.352877 -0.586451  \n",
       "4   -0.352877 -0.586451  \n",
       "..        ...       ...  \n",
       "209  1.783978 -0.586451  \n",
       "210  2.852405 -0.586451  \n",
       "211  2.953200 -0.586451  \n",
       "212  2.812087 -0.586451  \n",
       "213  3.013677 -0.586451  \n",
       "\n",
       "[214 rows x 9 columns]"
      ]
     },
     "execution_count": 42,
     "metadata": {},
     "output_type": "execute_result"
    }
   ],
   "source": [
    "df1"
   ]
  },
  {
   "cell_type": "code",
   "execution_count": 43,
   "id": "70c76b10",
   "metadata": {},
   "outputs": [
    {
     "data": {
      "text/html": [
       "<div>\n",
       "<style scoped>\n",
       "    .dataframe tbody tr th:only-of-type {\n",
       "        vertical-align: middle;\n",
       "    }\n",
       "\n",
       "    .dataframe tbody tr th {\n",
       "        vertical-align: top;\n",
       "    }\n",
       "\n",
       "    .dataframe thead th {\n",
       "        text-align: right;\n",
       "    }\n",
       "</style>\n",
       "<table border=\"1\" class=\"dataframe\">\n",
       "  <thead>\n",
       "    <tr style=\"text-align: right;\">\n",
       "      <th></th>\n",
       "      <th>0</th>\n",
       "      <th>1</th>\n",
       "      <th>2</th>\n",
       "      <th>3</th>\n",
       "      <th>4</th>\n",
       "      <th>5</th>\n",
       "      <th>6</th>\n",
       "      <th>7</th>\n",
       "      <th>8</th>\n",
       "    </tr>\n",
       "  </thead>\n",
       "  <tbody>\n",
       "    <tr>\n",
       "      <th>count</th>\n",
       "      <td>2.140000e+02</td>\n",
       "      <td>2.140000e+02</td>\n",
       "      <td>2.140000e+02</td>\n",
       "      <td>2.140000e+02</td>\n",
       "      <td>2.140000e+02</td>\n",
       "      <td>2.140000e+02</td>\n",
       "      <td>2.140000e+02</td>\n",
       "      <td>2.140000e+02</td>\n",
       "      <td>2.140000e+02</td>\n",
       "    </tr>\n",
       "    <tr>\n",
       "      <th>mean</th>\n",
       "      <td>-2.877449e-14</td>\n",
       "      <td>2.179980e-15</td>\n",
       "      <td>-2.801497e-16</td>\n",
       "      <td>-3.434428e-16</td>\n",
       "      <td>9.966067e-16</td>\n",
       "      <td>7.470660e-17</td>\n",
       "      <td>-3.137418e-16</td>\n",
       "      <td>-1.763906e-16</td>\n",
       "      <td>-6.121791e-17</td>\n",
       "    </tr>\n",
       "    <tr>\n",
       "      <th>std</th>\n",
       "      <td>1.002345e+00</td>\n",
       "      <td>1.002345e+00</td>\n",
       "      <td>1.002345e+00</td>\n",
       "      <td>1.002345e+00</td>\n",
       "      <td>1.002345e+00</td>\n",
       "      <td>1.002345e+00</td>\n",
       "      <td>1.002345e+00</td>\n",
       "      <td>1.002345e+00</td>\n",
       "      <td>1.002345e+00</td>\n",
       "    </tr>\n",
       "    <tr>\n",
       "      <th>min</th>\n",
       "      <td>-2.381516e+00</td>\n",
       "      <td>-3.286943e+00</td>\n",
       "      <td>-1.865511e+00</td>\n",
       "      <td>-2.318616e+00</td>\n",
       "      <td>-3.676472e+00</td>\n",
       "      <td>-7.639186e-01</td>\n",
       "      <td>-2.484084e+00</td>\n",
       "      <td>-3.528768e-01</td>\n",
       "      <td>-5.864509e-01</td>\n",
       "    </tr>\n",
       "    <tr>\n",
       "      <th>25%</th>\n",
       "      <td>-6.082728e-01</td>\n",
       "      <td>-6.141580e-01</td>\n",
       "      <td>-3.957744e-01</td>\n",
       "      <td>-5.117560e-01</td>\n",
       "      <td>-4.800288e-01</td>\n",
       "      <td>-5.756501e-01</td>\n",
       "      <td>-5.049657e-01</td>\n",
       "      <td>-3.528768e-01</td>\n",
       "      <td>-5.864509e-01</td>\n",
       "    </tr>\n",
       "    <tr>\n",
       "      <th>50%</th>\n",
       "      <td>-2.262293e-01</td>\n",
       "      <td>-1.323817e-01</td>\n",
       "      <td>5.527787e-01</td>\n",
       "      <td>-1.704602e-01</td>\n",
       "      <td>1.799655e-01</td>\n",
       "      <td>8.905322e-02</td>\n",
       "      <td>-2.514132e-01</td>\n",
       "      <td>-3.528768e-01</td>\n",
       "      <td>-5.864509e-01</td>\n",
       "    </tr>\n",
       "    <tr>\n",
       "      <th>75%</th>\n",
       "      <td>2.614331e-01</td>\n",
       "      <td>5.120326e-01</td>\n",
       "      <td>6.361680e-01</td>\n",
       "      <td>3.715977e-01</td>\n",
       "      <td>5.649621e-01</td>\n",
       "      <td>1.735820e-01</td>\n",
       "      <td>1.518057e-01</td>\n",
       "      <td>-3.528768e-01</td>\n",
       "      <td>4.422417e-01</td>\n",
       "    </tr>\n",
       "    <tr>\n",
       "      <th>max</th>\n",
       "      <td>5.137232e+00</td>\n",
       "      <td>4.875637e+00</td>\n",
       "      <td>1.254639e+00</td>\n",
       "      <td>4.125851e+00</td>\n",
       "      <td>3.570524e+00</td>\n",
       "      <td>8.780145e+00</td>\n",
       "      <td>5.094318e+00</td>\n",
       "      <td>5.997210e+00</td>\n",
       "      <td>4.659881e+00</td>\n",
       "    </tr>\n",
       "  </tbody>\n",
       "</table>\n",
       "</div>"
      ],
      "text/plain": [
       "                  0             1             2             3             4  \\\n",
       "count  2.140000e+02  2.140000e+02  2.140000e+02  2.140000e+02  2.140000e+02   \n",
       "mean  -2.877449e-14  2.179980e-15 -2.801497e-16 -3.434428e-16  9.966067e-16   \n",
       "std    1.002345e+00  1.002345e+00  1.002345e+00  1.002345e+00  1.002345e+00   \n",
       "min   -2.381516e+00 -3.286943e+00 -1.865511e+00 -2.318616e+00 -3.676472e+00   \n",
       "25%   -6.082728e-01 -6.141580e-01 -3.957744e-01 -5.117560e-01 -4.800288e-01   \n",
       "50%   -2.262293e-01 -1.323817e-01  5.527787e-01 -1.704602e-01  1.799655e-01   \n",
       "75%    2.614331e-01  5.120326e-01  6.361680e-01  3.715977e-01  5.649621e-01   \n",
       "max    5.137232e+00  4.875637e+00  1.254639e+00  4.125851e+00  3.570524e+00   \n",
       "\n",
       "                  5             6             7             8  \n",
       "count  2.140000e+02  2.140000e+02  2.140000e+02  2.140000e+02  \n",
       "mean   7.470660e-17 -3.137418e-16 -1.763906e-16 -6.121791e-17  \n",
       "std    1.002345e+00  1.002345e+00  1.002345e+00  1.002345e+00  \n",
       "min   -7.639186e-01 -2.484084e+00 -3.528768e-01 -5.864509e-01  \n",
       "25%   -5.756501e-01 -5.049657e-01 -3.528768e-01 -5.864509e-01  \n",
       "50%    8.905322e-02 -2.514132e-01 -3.528768e-01 -5.864509e-01  \n",
       "75%    1.735820e-01  1.518057e-01 -3.528768e-01  4.422417e-01  \n",
       "max    8.780145e+00  5.094318e+00  5.997210e+00  4.659881e+00  "
      ]
     },
     "execution_count": 43,
     "metadata": {},
     "output_type": "execute_result"
    }
   ],
   "source": [
    "df1.describe()"
   ]
  },
  {
   "cell_type": "code",
   "execution_count": 44,
   "id": "f81f4197",
   "metadata": {},
   "outputs": [
    {
     "data": {
      "text/plain": [
       "array([[ 0.61967223,  0.1554839 ,  0.0095123 , ..., -0.36961439,\n",
       "        -0.55499756, -0.52499357],\n",
       "       [ 0.1554839 ,  0.23446913,  0.20927571, ..., -0.10528676,\n",
       "        -0.06703188, -0.11242412],\n",
       "       [ 0.0095123 ,  0.20927571,  0.26700812, ..., -0.07709654,\n",
       "         0.03531121, -0.01133884],\n",
       "       ...,\n",
       "       [-0.36961439, -0.10528676, -0.07709654, ...,  2.02504465,\n",
       "         1.91941657,  1.96842824],\n",
       "       [-0.55499756, -0.06703188,  0.03531121, ...,  1.91941657,\n",
       "         2.03457864,  2.03557203],\n",
       "       [-0.52499357, -0.11242412, -0.01133884, ...,  1.96842824,\n",
       "         2.03557203,  2.07393387]])"
      ]
     },
     "execution_count": 44,
     "metadata": {},
     "output_type": "execute_result"
    }
   ],
   "source": [
    "sigma=np.cov(df_scaler)\n",
    "sigma"
   ]
  },
  {
   "cell_type": "code",
   "execution_count": 45,
   "id": "98fe5274",
   "metadata": {},
   "outputs": [
    {
     "data": {
      "text/plain": [
       "array([[ 1.00469484e+00, -1.92786249e-01, -1.22848096e-01,\n",
       "        -4.09238363e-01, -5.44597046e-01, -2.91193428e-01,\n",
       "         8.14207404e-01, -3.87831208e-04,  1.43681016e-01],\n",
       "       [-1.92786249e-01,  1.00469484e+00, -2.75017087e-01,\n",
       "         1.57529788e-01, -7.01365474e-02, -2.67335737e-01,\n",
       "        -2.76735643e-01,  3.28136226e-01, -2.42479493e-01],\n",
       "       [-1.22848096e-01, -2.75017087e-01,  1.00469484e+00,\n",
       "        -4.84060474e-01, -1.66705721e-01,  5.42099905e-03,\n",
       "        -4.45833360e-01, -4.94573208e-01,  8.34494798e-02],\n",
       "       [-4.09238363e-01,  1.57529788e-01, -4.84060474e-01,\n",
       "         1.00469484e+00, -5.54965338e-03,  3.27488767e-01,\n",
       "        -2.60810752e-01,  4.81654624e-01, -7.47514567e-02],\n",
       "       [-5.44597046e-01, -7.01365474e-02, -1.66705721e-01,\n",
       "        -5.54965338e-03,  1.00469484e+00, -1.94238511e-01,\n",
       "        -2.09712117e-01, -1.02630894e-01, -9.46429875e-02],\n",
       "       [-2.91193428e-01, -2.67335737e-01,  5.42099905e-03,\n",
       "         3.27488767e-01, -1.94238511e-01,  1.00469484e+00,\n",
       "        -3.19328343e-01, -4.28181441e-02, -7.75528879e-03],\n",
       "       [ 8.14207404e-01, -2.76735643e-01, -4.45833360e-01,\n",
       "        -2.60810752e-01, -2.09712117e-01, -3.19328343e-01,\n",
       "         1.00469484e+00, -1.13370737e-01,  1.25554924e-01],\n",
       "       [-3.87831208e-04,  3.28136226e-01, -4.94573208e-01,\n",
       "         4.81654624e-01, -1.02630894e-01, -4.28181441e-02,\n",
       "        -1.13370737e-01,  1.00469484e+00, -5.89673036e-02],\n",
       "       [ 1.43681016e-01, -2.42479493e-01,  8.34494798e-02,\n",
       "        -7.47514567e-02, -9.46429875e-02, -7.75528879e-03,\n",
       "         1.25554924e-01, -5.89673036e-02,  1.00469484e+00]])"
      ]
     },
     "execution_count": 45,
     "metadata": {},
     "output_type": "execute_result"
    }
   ],
   "source": [
    "df_scaler.T @ df_scaler/213"
   ]
  },
  {
   "cell_type": "code",
   "execution_count": 46,
   "id": "3612592d",
   "metadata": {},
   "outputs": [],
   "source": [
    "l ,x = np.linalg.eig(df_scaler.T @ df_scaler/213)"
   ]
  },
  {
   "cell_type": "code",
   "execution_count": 47,
   "id": "ad52240c",
   "metadata": {},
   "outputs": [
    {
     "data": {
      "text/plain": [
       "array([2.52295323e+00, 2.05969694e+00, 1.41143951e+00, 1.16329842e+00,\n",
       "       9.18293337e-01, 5.30112353e-01, 3.70690643e-01, 6.41527269e-02,\n",
       "       1.61637096e-03])"
      ]
     },
     "execution_count": 47,
     "metadata": {},
     "output_type": "execute_result"
    }
   ],
   "source": [
    "l"
   ]
  },
  {
   "cell_type": "code",
   "execution_count": 48,
   "id": "a0c866f9",
   "metadata": {},
   "outputs": [
    {
     "data": {
      "text/plain": [
       "array([[-0.54517662,  0.28568318,  0.08691083, -0.14738099,  0.0735427 ,\n",
       "        -0.11528772, -0.08186724, -0.7522159 ,  0.02573194],\n",
       "       [ 0.2581256 ,  0.27035007, -0.38491962, -0.49124204, -0.1536833 ,\n",
       "         0.55811757, -0.14858006, -0.12769315, -0.31193718],\n",
       "       [-0.11088095, -0.59355826,  0.00841796, -0.37878577, -0.12350912,\n",
       "        -0.30818598,  0.20604537, -0.07689061, -0.57727335],\n",
       "       [ 0.42870863,  0.29521154,  0.32923712,  0.13750592, -0.01410888,\n",
       "         0.01885731,  0.69923557, -0.27444105, -0.19222686],\n",
       "       [ 0.22883635, -0.15509891, -0.45870884,  0.65253771, -0.00850012,\n",
       "        -0.08609797, -0.21606658, -0.37992298, -0.29807321],\n",
       "       [ 0.21934405, -0.15397013,  0.66257412,  0.03853544,  0.30703984,\n",
       "         0.24363237, -0.50412141, -0.10981168, -0.26050863],\n",
       "       [-0.49230609,  0.3453798 , -0.00098473,  0.27644322,  0.18818774,\n",
       "         0.14866937,  0.09913463,  0.39870468, -0.57932321],\n",
       "       [ 0.25037512,  0.48470218,  0.07405473, -0.13317545, -0.25133426,\n",
       "        -0.65721884, -0.35178255,  0.14493235, -0.1982282 ],\n",
       "       [-0.18584154, -0.06203879,  0.28445055,  0.23049202, -0.87326405,\n",
       "         0.24304431, -0.07372136, -0.01627141, -0.01466944]])"
      ]
     },
     "execution_count": 48,
     "metadata": {},
     "output_type": "execute_result"
    }
   ],
   "source": [
    "x"
   ]
  },
  {
   "cell_type": "code",
   "execution_count": 49,
   "id": "dcee0bae",
   "metadata": {},
   "outputs": [],
   "source": [
    "pc1_data=df_scaler @ x[:,0] # pc1"
   ]
  },
  {
   "cell_type": "code",
   "execution_count": 50,
   "id": "6840dbae",
   "metadata": {},
   "outputs": [
    {
     "data": {
      "text/plain": [
       "(214,)"
      ]
     },
     "execution_count": 50,
     "metadata": {},
     "output_type": "execute_result"
    }
   ],
   "source": [
    "pc1_data.shape"
   ]
  },
  {
   "cell_type": "code",
   "execution_count": 51,
   "id": "d804e77f",
   "metadata": {},
   "outputs": [
    {
     "data": {
      "text/plain": [
       "array([-1.15113957e+00,  5.74137172e-01,  9.40159722e-01,  1.42083283e-01,\n",
       "        3.51092291e-01,  2.90266583e-01,  2.52671444e-01,  1.20299466e-01,\n",
       "        2.08160308e-02,  2.35222894e-03,  3.82514937e-01,  1.33538675e-02,\n",
       "        3.09724390e-01, -1.56521013e-01,  8.99566628e-02,  1.15255023e-01,\n",
       "       -1.73458320e-01, -1.45812372e+00, -5.47316267e-01,  3.08817022e-01,\n",
       "       -2.05673879e-01, -1.21605345e+00, -4.11679297e-02,  1.13206012e-01,\n",
       "        1.47523366e-01,  5.04865218e-02,  1.55773980e-01,  2.17093779e-01,\n",
       "        1.15093633e-01,  6.58374915e-02, -2.98261451e-01,  2.22363433e-02,\n",
       "       -3.96586112e-01,  6.90862734e-02, -8.17537725e-02,  3.88918640e-01,\n",
       "       -2.57422809e-01, -2.70430953e-02, -1.93311245e+00, -1.93311245e+00,\n",
       "       -2.13978802e-01, -1.73653764e-02,  9.91042449e-02, -1.90784649e+00,\n",
       "       -7.55238909e-01, -4.15149070e-01, -6.04423395e-01, -2.97136159e+00,\n",
       "       -2.07281161e+00, -3.93111591e-01, -2.72721095e+00, -7.23068883e-01,\n",
       "       -1.06160451e-01, -1.81361046e-01, -1.71804895e-01, -4.59256767e-01,\n",
       "        4.23198376e-01, -1.58405624e-02,  3.27242420e-01, -3.73730855e-02,\n",
       "       -4.57306871e-01, -2.36220840e-01, -1.88483803e+00, -1.90646324e+00,\n",
       "       -1.76739012e+00, -1.20709914e+00, -2.09535866e+00, -2.06574480e+00,\n",
       "       -2.00488480e+00, -2.25195536e+00,  1.11062971e+00, -7.49344065e-01,\n",
       "        9.35068761e-01,  8.81333556e-01,  9.22562290e-01,  8.78041073e-01,\n",
       "        6.85088615e-01,  6.90359145e-01,  4.62997748e-01,  1.07450035e+00,\n",
       "        1.21369799e+00,  9.09189665e-01,  5.35657351e-01,  6.51404126e-01,\n",
       "        2.31637606e+00,  6.19527617e-01,  8.67763488e-01,  5.36304118e-01,\n",
       "        6.50903533e-01,  7.55392780e-01, -9.91658801e-01,  5.62642120e-01,\n",
       "        3.06796378e-01,  7.34604026e-01,  6.55247560e-01, -9.46407531e-02,\n",
       "       -9.04286720e-01, -6.13895376e-01,  6.54109481e-01,  1.33583022e-01,\n",
       "        2.26479128e-02,  7.23703277e-02, -9.83504760e-01, -3.85238194e+00,\n",
       "       -2.35136469e+00, -3.33328693e+00, -3.64021336e+00, -7.13869786e+00,\n",
       "       -1.69502290e+00, -7.41593451e-01, -4.51874493e+00, -4.87303441e+00,\n",
       "       -4.59649709e+00, -3.23984511e-01, -2.59209029e-01, -2.86272002e-02,\n",
       "       -1.86714046e-01,  8.34974605e-01,  6.31138456e-02,  6.88645250e-01,\n",
       "       -9.33354363e-02,  3.25952384e-01,  5.72010313e-01,  7.81415457e-01,\n",
       "       -7.93041028e-01, -2.72746438e-01,  1.21350033e-01, -1.11574391e+00,\n",
       "       -6.40905488e-01, -1.06594039e+00, -1.37738839e+00, -3.41894371e+00,\n",
       "        2.30106379e-03, -9.43164121e-02,  1.20536745e-01, -6.14443758e-01,\n",
       "       -3.37682286e-01,  5.41321804e-01,  7.66226327e-01,  7.74831821e-01,\n",
       "        6.58328771e-01, -4.79061318e-01,  6.25511768e-02,  7.02191754e-01,\n",
       "       -3.02639624e-01, -9.68425776e-01, -1.15965177e-01,  4.92429807e-01,\n",
       "        1.66864635e-01,  7.09007624e-02,  3.15800764e-01, -1.52912927e+00,\n",
       "       -5.95438880e-01,  4.47183180e-01,  2.28073900e-03,  2.77448819e-01,\n",
       "        2.62625463e-01, -1.74711568e+00,  8.19412962e-02, -7.70000955e-02,\n",
       "       -1.06061322e-01, -1.21897823e+00, -2.19327703e+00,  4.32287332e+00,\n",
       "       -2.60337952e-01, -1.80337643e+00, -1.78618611e+00, -6.83776477e-01,\n",
       "        7.95024676e-01, -5.44543846e-01, -1.92981829e+00,  4.38953460e+00,\n",
       "        4.43253973e+00, -1.59504215e+00, -1.01004447e+00, -1.63107556e+00,\n",
       "       -2.56498778e-01, -6.54463516e-01,  1.99650272e-01,  1.44389955e-01,\n",
       "        2.32566823e+00,  2.73475886e-01,  6.68969638e-02, -1.11416397e+00,\n",
       "        3.28279679e+00,  3.95051181e+00,  2.76034579e+00, -1.06709874e+00,\n",
       "       -5.88963889e-01,  2.17032226e-02,  1.38770709e+00,  2.14926480e+00,\n",
       "        2.10698079e+00,  2.08135612e+00,  2.16116939e+00,  2.29846438e+00,\n",
       "        2.10499822e+00,  1.95865705e+00,  2.39038043e+00,  2.34025986e+00,\n",
       "        2.67936046e+00,  1.37738556e+00,  2.73231156e+00,  2.52519849e+00,\n",
       "        2.26974017e+00,  2.04532108e+00,  2.18787696e+00,  3.55709771e+00,\n",
       "        1.99364680e+00,  2.38383457e+00,  2.39765190e+00,  1.68024627e+00,\n",
       "        2.36974768e+00,  2.26264885e+00])"
      ]
     },
     "execution_count": 51,
     "metadata": {},
     "output_type": "execute_result"
    }
   ],
   "source": [
    "pc1_data"
   ]
  },
  {
   "cell_type": "code",
   "execution_count": 76,
   "id": "7b61fedc",
   "metadata": {},
   "outputs": [
    {
     "data": {
      "text/plain": [
       "(214,)"
      ]
     },
     "execution_count": 76,
     "metadata": {},
     "output_type": "execute_result"
    }
   ],
   "source": [
    "pc2_data= df_scaler @ x[:,1] # pc2\n",
    "pc2_data.shape"
   ]
  },
  {
   "cell_type": "code",
   "execution_count": 77,
   "id": "fc4af5fe",
   "metadata": {
    "collapsed": true
   },
   "outputs": [
    {
     "data": {
      "text/plain": [
       "array([-0.52948764, -0.75978777, -0.92983597, -0.96167744, -1.09124921,\n",
       "       -1.32400756, -1.11614958, -1.22184622, -0.32193261, -1.06581344,\n",
       "       -1.38013403, -1.10471913, -1.42304024, -1.23592823, -1.18125211,\n",
       "       -1.16028212, -1.18243967,  0.09884138, -0.29566013, -0.76316216,\n",
       "       -0.99918266, -0.43689611, -1.02788338, -1.02762181, -0.93376705,\n",
       "       -1.04723075, -0.73814955, -1.03946718, -1.05293936, -0.90287584,\n",
       "       -1.16489328, -1.16273745, -1.07307343, -1.16390421, -0.96601943,\n",
       "       -1.00978004, -0.09893604, -0.94115087, -0.1421143 , -0.1421143 ,\n",
       "       -1.06505169, -1.10093167, -0.74680692, -0.13514622, -1.19430193,\n",
       "       -0.29328726, -0.78019985,  0.4631405 , -0.19367388, -0.34025819,\n",
       "       -0.11303858, -0.47489193, -0.41450604, -0.4099579 , -0.51028779,\n",
       "       -0.97207179, -1.81655603, -0.95745406, -1.10236197, -1.05432062,\n",
       "       -0.5519114 ,  0.5683302 , -0.2964757 ,  0.18518682, -0.23485117,\n",
       "       -0.0168166 , -0.42701387, -0.44708532, -0.36349866,  0.02797398,\n",
       "       -0.36045919, -0.87009472, -1.20394562, -0.97231307, -1.19692928,\n",
       "       -1.20892921, -0.84163989, -1.06629931, -0.98824729, -0.9647887 ,\n",
       "       -0.77909816, -1.13899985, -1.06978417, -1.11647242, -0.57398246,\n",
       "       -0.87706191, -1.07801813, -0.92347886, -1.06424608, -1.09926663,\n",
       "       -1.02189999, -1.06581042, -0.9640664 , -0.9223869 , -1.14303255,\n",
       "       -0.45616463, -0.89818769, -1.40234153, -0.71090274, -0.41199864,\n",
       "       -0.81034908, -0.51666309, -1.02010847,  1.34506467,  1.14019846,\n",
       "        2.02616879,  6.19344465,  4.00443669,  2.07414559,  0.78534142,\n",
       "        2.02772563,  2.11110882,  2.6994476 , -0.91517046, -1.01845622,\n",
       "       -0.80370437, -0.88880902, -0.52369072, -1.09080518, -0.84454467,\n",
       "       -0.79751365, -1.16131445, -0.92804176, -0.64188711, -0.60432827,\n",
       "       -0.76085093, -1.06270367,  0.62043857,  0.90057508,  1.36757767,\n",
       "        1.6033637 ,  3.13489973, -1.02447346, -0.64501138, -1.01574215,\n",
       "       -1.09156288, -1.29110463, -1.03138006, -1.21918683, -1.08145439,\n",
       "       -0.78073046, -1.00897795, -1.22086276, -0.75113699, -1.04410159,\n",
       "       -1.14896334, -0.73797035, -0.95624196, -0.96540647, -1.30120252,\n",
       "       -0.75316986,  0.05442401, -0.95442285, -0.95742167, -0.95929759,\n",
       "       -1.01028758, -0.77174907, -0.18320657, -0.34355568, -0.27896901,\n",
       "       -0.28308185, -0.6733728 , -0.16019472,  2.6538568 ,  0.54803332,\n",
       "        0.5287277 ,  0.31275189,  1.39728332,  0.79472961,  1.76724509,\n",
       "        2.49244227, -0.10344958, -0.16868012,  2.11331608,  0.88407793,\n",
       "        1.31861732,  0.63922524,  0.34254575,  0.74022531,  0.63984928,\n",
       "       -0.46240033,  1.78882182,  2.24369392,  1.45711253, -0.04179136,\n",
       "       -0.72850661,  1.26705494, -0.0714335 ,  1.9116795 ,  3.47383505,\n",
       "        1.08914537,  2.29560843,  2.13071878,  3.07840526,  2.89977062,\n",
       "        2.21466938,  2.37404264,  2.46318823,  2.40058515,  2.43366642,\n",
       "        2.13082037, -0.8707593 ,  2.0372873 ,  3.12098266,  2.34831576,\n",
       "        3.07594965,  2.85648463,  3.46675073,  2.59939654,  3.06167702,\n",
       "        3.1082357 ,  3.28482346,  2.7568728 ,  3.02859155])"
      ]
     },
     "execution_count": 77,
     "metadata": {},
     "output_type": "execute_result"
    }
   ],
   "source": [
    "pc2_data"
   ]
  },
  {
   "cell_type": "code",
   "execution_count": 80,
   "id": "5d2ba03e",
   "metadata": {},
   "outputs": [],
   "source": [
    "from sklearn.decomposition import PCA\n",
    "pca=PCA(n_components=2)"
   ]
  },
  {
   "cell_type": "code",
   "execution_count": 83,
   "id": "7b1b1351",
   "metadata": {},
   "outputs": [
    {
     "data": {
      "text/plain": [
       "array([[ 1.15113957e+00, -5.29487638e-01],\n",
       "       [-5.74137172e-01, -7.59787774e-01],\n",
       "       [-9.40159722e-01, -9.29835966e-01],\n",
       "       [-1.42083283e-01, -9.61677440e-01],\n",
       "       [-3.51092291e-01, -1.09124921e+00],\n",
       "       [-2.90266583e-01, -1.32400756e+00],\n",
       "       [-2.52671444e-01, -1.11614958e+00],\n",
       "       [-1.20299466e-01, -1.22184622e+00],\n",
       "       [-2.08160308e-02, -3.21932609e-01],\n",
       "       [-2.35222894e-03, -1.06581344e+00],\n",
       "       [-3.82514937e-01, -1.38013403e+00],\n",
       "       [-1.33538675e-02, -1.10471913e+00],\n",
       "       [-3.09724390e-01, -1.42304024e+00],\n",
       "       [ 1.56521013e-01, -1.23592823e+00],\n",
       "       [-8.99566628e-02, -1.18125211e+00],\n",
       "       [-1.15255023e-01, -1.16028212e+00],\n",
       "       [ 1.73458320e-01, -1.18243967e+00],\n",
       "       [ 1.45812372e+00,  9.88413780e-02],\n",
       "       [ 5.47316267e-01, -2.95660130e-01],\n",
       "       [-3.08817022e-01, -7.63162157e-01],\n",
       "       [ 2.05673879e-01, -9.99182661e-01],\n",
       "       [ 1.21605345e+00, -4.36896108e-01],\n",
       "       [ 4.11679297e-02, -1.02788338e+00],\n",
       "       [-1.13206012e-01, -1.02762181e+00],\n",
       "       [-1.47523366e-01, -9.33767049e-01],\n",
       "       [-5.04865218e-02, -1.04723075e+00],\n",
       "       [-1.55773980e-01, -7.38149546e-01],\n",
       "       [-2.17093779e-01, -1.03946718e+00],\n",
       "       [-1.15093633e-01, -1.05293936e+00],\n",
       "       [-6.58374915e-02, -9.02875839e-01],\n",
       "       [ 2.98261451e-01, -1.16489328e+00],\n",
       "       [-2.22363433e-02, -1.16273745e+00],\n",
       "       [ 3.96586112e-01, -1.07307343e+00],\n",
       "       [-6.90862734e-02, -1.16390421e+00],\n",
       "       [ 8.17537725e-02, -9.66019429e-01],\n",
       "       [-3.88918640e-01, -1.00978004e+00],\n",
       "       [ 2.57422809e-01, -9.89360442e-02],\n",
       "       [ 2.70430953e-02, -9.41150868e-01],\n",
       "       [ 1.93311245e+00, -1.42114298e-01],\n",
       "       [ 1.93311245e+00, -1.42114298e-01],\n",
       "       [ 2.13978802e-01, -1.06505169e+00],\n",
       "       [ 1.73653764e-02, -1.10093167e+00],\n",
       "       [-9.91042449e-02, -7.46806921e-01],\n",
       "       [ 1.90784649e+00, -1.35146218e-01],\n",
       "       [ 7.55238909e-01, -1.19430193e+00],\n",
       "       [ 4.15149070e-01, -2.93287264e-01],\n",
       "       [ 6.04423395e-01, -7.80199849e-01],\n",
       "       [ 2.97136159e+00,  4.63140502e-01],\n",
       "       [ 2.07281161e+00, -1.93673881e-01],\n",
       "       [ 3.93111591e-01, -3.40258187e-01],\n",
       "       [ 2.72721095e+00, -1.13038577e-01],\n",
       "       [ 7.23068883e-01, -4.74891927e-01],\n",
       "       [ 1.06160451e-01, -4.14506038e-01],\n",
       "       [ 1.81361046e-01, -4.09957896e-01],\n",
       "       [ 1.71804895e-01, -5.10287786e-01],\n",
       "       [ 4.59256767e-01, -9.72071790e-01],\n",
       "       [-4.23198376e-01, -1.81655603e+00],\n",
       "       [ 1.58405624e-02, -9.57454062e-01],\n",
       "       [-3.27242420e-01, -1.10236197e+00],\n",
       "       [ 3.73730855e-02, -1.05432062e+00],\n",
       "       [ 4.57306871e-01, -5.51911400e-01],\n",
       "       [ 2.36220840e-01,  5.68330203e-01],\n",
       "       [ 1.88483803e+00, -2.96475700e-01],\n",
       "       [ 1.90646324e+00,  1.85186825e-01],\n",
       "       [ 1.76739012e+00, -2.34851172e-01],\n",
       "       [ 1.20709914e+00, -1.68166022e-02],\n",
       "       [ 2.09535866e+00, -4.27013874e-01],\n",
       "       [ 2.06574480e+00, -4.47085324e-01],\n",
       "       [ 2.00488480e+00, -3.63498656e-01],\n",
       "       [ 2.25195536e+00,  2.79739773e-02],\n",
       "       [-1.11062971e+00, -3.60459191e-01],\n",
       "       [ 7.49344065e-01, -8.70094723e-01],\n",
       "       [-9.35068761e-01, -1.20394562e+00],\n",
       "       [-8.81333556e-01, -9.72313068e-01],\n",
       "       [-9.22562290e-01, -1.19692928e+00],\n",
       "       [-8.78041073e-01, -1.20892921e+00],\n",
       "       [-6.85088615e-01, -8.41639892e-01],\n",
       "       [-6.90359145e-01, -1.06629931e+00],\n",
       "       [-4.62997748e-01, -9.88247287e-01],\n",
       "       [-1.07450035e+00, -9.64788704e-01],\n",
       "       [-1.21369799e+00, -7.79098155e-01],\n",
       "       [-9.09189665e-01, -1.13899985e+00],\n",
       "       [-5.35657351e-01, -1.06978417e+00],\n",
       "       [-6.51404126e-01, -1.11647242e+00],\n",
       "       [-2.31637606e+00, -5.73982461e-01],\n",
       "       [-6.19527617e-01, -8.77061910e-01],\n",
       "       [-8.67763488e-01, -1.07801813e+00],\n",
       "       [-5.36304118e-01, -9.23478860e-01],\n",
       "       [-6.50903533e-01, -1.06424608e+00],\n",
       "       [-7.55392780e-01, -1.09926663e+00],\n",
       "       [ 9.91658801e-01, -1.02189999e+00],\n",
       "       [-5.62642120e-01, -1.06581042e+00],\n",
       "       [-3.06796378e-01, -9.64066395e-01],\n",
       "       [-7.34604026e-01, -9.22386904e-01],\n",
       "       [-6.55247560e-01, -1.14303255e+00],\n",
       "       [ 9.46407531e-02, -4.56164629e-01],\n",
       "       [ 9.04286720e-01, -8.98187688e-01],\n",
       "       [ 6.13895376e-01, -1.40234153e+00],\n",
       "       [-6.54109481e-01, -7.10902736e-01],\n",
       "       [-1.33583022e-01, -4.11998638e-01],\n",
       "       [-2.26479128e-02, -8.10349081e-01],\n",
       "       [-7.23703277e-02, -5.16663086e-01],\n",
       "       [ 9.83504760e-01, -1.02010847e+00],\n",
       "       [ 3.85238194e+00,  1.34506467e+00],\n",
       "       [ 2.35136469e+00,  1.14019846e+00],\n",
       "       [ 3.33328693e+00,  2.02616879e+00],\n",
       "       [ 3.64021336e+00,  6.19344465e+00],\n",
       "       [ 7.13869786e+00,  4.00443669e+00],\n",
       "       [ 1.69502290e+00,  2.07414559e+00],\n",
       "       [ 7.41593451e-01,  7.85341417e-01],\n",
       "       [ 4.51874493e+00,  2.02772563e+00],\n",
       "       [ 4.87303441e+00,  2.11110882e+00],\n",
       "       [ 4.59649709e+00,  2.69944760e+00],\n",
       "       [ 3.23984511e-01, -9.15170462e-01],\n",
       "       [ 2.59209029e-01, -1.01845622e+00],\n",
       "       [ 2.86272002e-02, -8.03704365e-01],\n",
       "       [ 1.86714046e-01, -8.88809019e-01],\n",
       "       [-8.34974605e-01, -5.23690716e-01],\n",
       "       [-6.31138456e-02, -1.09080518e+00],\n",
       "       [-6.88645250e-01, -8.44544670e-01],\n",
       "       [ 9.33354363e-02, -7.97513650e-01],\n",
       "       [-3.25952384e-01, -1.16131445e+00],\n",
       "       [-5.72010313e-01, -9.28041764e-01],\n",
       "       [-7.81415457e-01, -6.41887105e-01],\n",
       "       [ 7.93041028e-01, -6.04328270e-01],\n",
       "       [ 2.72746438e-01, -7.60850930e-01],\n",
       "       [-1.21350033e-01, -1.06270367e+00],\n",
       "       [ 1.11574391e+00,  6.20438569e-01],\n",
       "       [ 6.40905488e-01,  9.00575079e-01],\n",
       "       [ 1.06594039e+00,  1.36757767e+00],\n",
       "       [ 1.37738839e+00,  1.60336370e+00],\n",
       "       [ 3.41894371e+00,  3.13489973e+00],\n",
       "       [-2.30106379e-03, -1.02447346e+00],\n",
       "       [ 9.43164121e-02, -6.45011377e-01],\n",
       "       [-1.20536745e-01, -1.01574215e+00],\n",
       "       [ 6.14443758e-01, -1.09156288e+00],\n",
       "       [ 3.37682286e-01, -1.29110463e+00],\n",
       "       [-5.41321804e-01, -1.03138006e+00],\n",
       "       [-7.66226327e-01, -1.21918683e+00],\n",
       "       [-7.74831821e-01, -1.08145439e+00],\n",
       "       [-6.58328771e-01, -7.80730458e-01],\n",
       "       [ 4.79061318e-01, -1.00897795e+00],\n",
       "       [-6.25511768e-02, -1.22086276e+00],\n",
       "       [-7.02191754e-01, -7.51136992e-01],\n",
       "       [ 3.02639624e-01, -1.04410159e+00],\n",
       "       [ 9.68425776e-01, -1.14896334e+00],\n",
       "       [ 1.15965177e-01, -7.37970348e-01],\n",
       "       [-4.92429807e-01, -9.56241961e-01],\n",
       "       [-1.66864635e-01, -9.65406470e-01],\n",
       "       [-7.09007624e-02, -1.30120252e+00],\n",
       "       [-3.15800764e-01, -7.53169864e-01],\n",
       "       [ 1.52912927e+00,  5.44240128e-02],\n",
       "       [ 5.95438880e-01, -9.54422853e-01],\n",
       "       [-4.47183180e-01, -9.57421674e-01],\n",
       "       [-2.28073900e-03, -9.59297592e-01],\n",
       "       [-2.77448819e-01, -1.01028758e+00],\n",
       "       [-2.62625463e-01, -7.71749068e-01],\n",
       "       [ 1.74711568e+00, -1.83206568e-01],\n",
       "       [-8.19412962e-02, -3.43555681e-01],\n",
       "       [ 7.70000955e-02, -2.78969006e-01],\n",
       "       [ 1.06061322e-01, -2.83081850e-01],\n",
       "       [ 1.21897823e+00, -6.73372800e-01],\n",
       "       [ 2.19327703e+00, -1.60194716e-01],\n",
       "       [-4.32287332e+00,  2.65385680e+00],\n",
       "       [ 2.60337952e-01,  5.48033322e-01],\n",
       "       [ 1.80337643e+00,  5.28727703e-01],\n",
       "       [ 1.78618611e+00,  3.12751888e-01],\n",
       "       [ 6.83776477e-01,  1.39728332e+00],\n",
       "       [-7.95024676e-01,  7.94729609e-01],\n",
       "       [ 5.44543846e-01,  1.76724509e+00],\n",
       "       [ 1.92981829e+00,  2.49244227e+00],\n",
       "       [-4.38953460e+00, -1.03449577e-01],\n",
       "       [-4.43253973e+00, -1.68680125e-01],\n",
       "       [ 1.59504215e+00,  2.11331608e+00],\n",
       "       [ 1.01004447e+00,  8.84077930e-01],\n",
       "       [ 1.63107556e+00,  1.31861732e+00],\n",
       "       [ 2.56498778e-01,  6.39225236e-01],\n",
       "       [ 6.54463516e-01,  3.42545752e-01],\n",
       "       [-1.99650272e-01,  7.40225310e-01],\n",
       "       [-1.44389955e-01,  6.39849281e-01],\n",
       "       [-2.32566823e+00, -4.62400329e-01],\n",
       "       [-2.73475886e-01,  1.78882182e+00],\n",
       "       [-6.68969638e-02,  2.24369392e+00],\n",
       "       [ 1.11416397e+00,  1.45711253e+00],\n",
       "       [-3.28279679e+00, -4.17913576e-02],\n",
       "       [-3.95051181e+00, -7.28506609e-01],\n",
       "       [-2.76034579e+00,  1.26705494e+00],\n",
       "       [ 1.06709874e+00, -7.14334989e-02],\n",
       "       [ 5.88963889e-01,  1.91167950e+00],\n",
       "       [-2.17032226e-02,  3.47383505e+00],\n",
       "       [-1.38770709e+00,  1.08914537e+00],\n",
       "       [-2.14926480e+00,  2.29560843e+00],\n",
       "       [-2.10698079e+00,  2.13071878e+00],\n",
       "       [-2.08135612e+00,  3.07840526e+00],\n",
       "       [-2.16116939e+00,  2.89977062e+00],\n",
       "       [-2.29846438e+00,  2.21466938e+00],\n",
       "       [-2.10499822e+00,  2.37404264e+00],\n",
       "       [-1.95865705e+00,  2.46318823e+00],\n",
       "       [-2.39038043e+00,  2.40058515e+00],\n",
       "       [-2.34025986e+00,  2.43366642e+00],\n",
       "       [-2.67936046e+00,  2.13082037e+00],\n",
       "       [-1.37738556e+00, -8.70759297e-01],\n",
       "       [-2.73231156e+00,  2.03728730e+00],\n",
       "       [-2.52519849e+00,  3.12098266e+00],\n",
       "       [-2.26974017e+00,  2.34831576e+00],\n",
       "       [-2.04532108e+00,  3.07594965e+00],\n",
       "       [-2.18787696e+00,  2.85648463e+00],\n",
       "       [-3.55709771e+00,  3.46675073e+00],\n",
       "       [-1.99364680e+00,  2.59939654e+00],\n",
       "       [-2.38383457e+00,  3.06167702e+00],\n",
       "       [-2.39765190e+00,  3.10823570e+00],\n",
       "       [-1.68024627e+00,  3.28482346e+00],\n",
       "       [-2.36974768e+00,  2.75687280e+00],\n",
       "       [-2.26264885e+00,  3.02859155e+00]])"
      ]
     },
     "execution_count": 83,
     "metadata": {},
     "output_type": "execute_result"
    }
   ],
   "source": [
    "pca.fit_transform(df1)"
   ]
  },
  {
   "cell_type": "code",
   "execution_count": 84,
   "id": "87a1bcf4",
   "metadata": {},
   "outputs": [
    {
     "data": {
      "text/plain": [
       "array([[ 0.87286765,  0.28495326,  1.25463857, ..., -0.14576634,\n",
       "        -0.35287683, -0.5864509 ],\n",
       "       [-0.24933347,  0.59181718,  0.63616803, ..., -0.79373376,\n",
       "        -0.35287683, -0.5864509 ],\n",
       "       [-0.72131806,  0.14993314,  0.60142249, ..., -0.82894938,\n",
       "        -0.35287683, -0.5864509 ],\n",
       "       ...,\n",
       "       [ 0.75404635,  1.16872135, -1.86551055, ..., -0.36410319,\n",
       "         2.95320036, -0.5864509 ],\n",
       "       [-0.61239854,  1.19327046, -1.86551055, ..., -0.33593069,\n",
       "         2.81208731, -0.5864509 ],\n",
       "       [-0.41436305,  1.00915211, -1.86551055, ..., -0.23732695,\n",
       "         3.01367739, -0.5864509 ]])"
      ]
     },
     "execution_count": 84,
     "metadata": {},
     "output_type": "execute_result"
    }
   ],
   "source": [
    "df_scaler"
   ]
  },
  {
   "cell_type": "code",
   "execution_count": 85,
   "id": "68e15fcb",
   "metadata": {},
   "outputs": [
    {
     "data": {
      "text/html": [
       "<div>\n",
       "<style scoped>\n",
       "    .dataframe tbody tr th:only-of-type {\n",
       "        vertical-align: middle;\n",
       "    }\n",
       "\n",
       "    .dataframe tbody tr th {\n",
       "        vertical-align: top;\n",
       "    }\n",
       "\n",
       "    .dataframe thead th {\n",
       "        text-align: right;\n",
       "    }\n",
       "</style>\n",
       "<table border=\"1\" class=\"dataframe\">\n",
       "  <thead>\n",
       "    <tr style=\"text-align: right;\">\n",
       "      <th></th>\n",
       "      <th>0</th>\n",
       "      <th>1</th>\n",
       "      <th>2</th>\n",
       "      <th>3</th>\n",
       "      <th>4</th>\n",
       "      <th>5</th>\n",
       "      <th>6</th>\n",
       "      <th>7</th>\n",
       "      <th>8</th>\n",
       "    </tr>\n",
       "  </thead>\n",
       "  <tbody>\n",
       "    <tr>\n",
       "      <th>0</th>\n",
       "      <td>0.872868</td>\n",
       "      <td>0.284953</td>\n",
       "      <td>1.254639</td>\n",
       "      <td>-0.692442</td>\n",
       "      <td>-1.127082</td>\n",
       "      <td>-0.671705</td>\n",
       "      <td>-0.145766</td>\n",
       "      <td>-0.352877</td>\n",
       "      <td>-0.586451</td>\n",
       "    </tr>\n",
       "    <tr>\n",
       "      <th>1</th>\n",
       "      <td>-0.249333</td>\n",
       "      <td>0.591817</td>\n",
       "      <td>0.636168</td>\n",
       "      <td>-0.170460</td>\n",
       "      <td>0.102319</td>\n",
       "      <td>-0.026213</td>\n",
       "      <td>-0.793734</td>\n",
       "      <td>-0.352877</td>\n",
       "      <td>-0.586451</td>\n",
       "    </tr>\n",
       "    <tr>\n",
       "      <th>2</th>\n",
       "      <td>-0.721318</td>\n",
       "      <td>0.149933</td>\n",
       "      <td>0.601422</td>\n",
       "      <td>0.190912</td>\n",
       "      <td>0.438787</td>\n",
       "      <td>-0.164533</td>\n",
       "      <td>-0.828949</td>\n",
       "      <td>-0.352877</td>\n",
       "      <td>-0.586451</td>\n",
       "    </tr>\n",
       "    <tr>\n",
       "      <th>3</th>\n",
       "      <td>-0.232831</td>\n",
       "      <td>-0.242853</td>\n",
       "      <td>0.698710</td>\n",
       "      <td>-0.310994</td>\n",
       "      <td>-0.052974</td>\n",
       "      <td>0.112107</td>\n",
       "      <td>-0.519052</td>\n",
       "      <td>-0.352877</td>\n",
       "      <td>-0.586451</td>\n",
       "    </tr>\n",
       "    <tr>\n",
       "      <th>4</th>\n",
       "      <td>-0.312045</td>\n",
       "      <td>-0.169205</td>\n",
       "      <td>0.650066</td>\n",
       "      <td>-0.411375</td>\n",
       "      <td>0.555256</td>\n",
       "      <td>0.081369</td>\n",
       "      <td>-0.624699</td>\n",
       "      <td>-0.352877</td>\n",
       "      <td>-0.586451</td>\n",
       "    </tr>\n",
       "    <tr>\n",
       "      <th>...</th>\n",
       "      <td>...</td>\n",
       "      <td>...</td>\n",
       "      <td>...</td>\n",
       "      <td>...</td>\n",
       "      <td>...</td>\n",
       "      <td>...</td>\n",
       "      <td>...</td>\n",
       "      <td>...</td>\n",
       "      <td>...</td>\n",
       "    </tr>\n",
       "    <tr>\n",
       "      <th>209</th>\n",
       "      <td>-0.704815</td>\n",
       "      <td>0.898681</td>\n",
       "      <td>-1.865511</td>\n",
       "      <td>2.881125</td>\n",
       "      <td>-0.052974</td>\n",
       "      <td>-0.640968</td>\n",
       "      <td>0.157088</td>\n",
       "      <td>1.783978</td>\n",
       "      <td>-0.586451</td>\n",
       "    </tr>\n",
       "    <tr>\n",
       "      <th>210</th>\n",
       "      <td>-0.500178</td>\n",
       "      <td>1.856097</td>\n",
       "      <td>-1.865511</td>\n",
       "      <td>1.094342</td>\n",
       "      <td>0.529374</td>\n",
       "      <td>-0.763919</td>\n",
       "      <td>-0.392276</td>\n",
       "      <td>2.852405</td>\n",
       "      <td>-0.586451</td>\n",
       "    </tr>\n",
       "    <tr>\n",
       "      <th>211</th>\n",
       "      <td>0.754046</td>\n",
       "      <td>1.168721</td>\n",
       "      <td>-1.865511</td>\n",
       "      <td>1.154570</td>\n",
       "      <td>0.995252</td>\n",
       "      <td>-0.763919</td>\n",
       "      <td>-0.364103</td>\n",
       "      <td>2.953200</td>\n",
       "      <td>-0.586451</td>\n",
       "    </tr>\n",
       "    <tr>\n",
       "      <th>212</th>\n",
       "      <td>-0.612399</td>\n",
       "      <td>1.193270</td>\n",
       "      <td>-1.865511</td>\n",
       "      <td>0.993960</td>\n",
       "      <td>1.241133</td>\n",
       "      <td>-0.763919</td>\n",
       "      <td>-0.335931</td>\n",
       "      <td>2.812087</td>\n",
       "      <td>-0.586451</td>\n",
       "    </tr>\n",
       "    <tr>\n",
       "      <th>213</th>\n",
       "      <td>-0.414363</td>\n",
       "      <td>1.009152</td>\n",
       "      <td>-1.865511</td>\n",
       "      <td>1.275028</td>\n",
       "      <td>0.917606</td>\n",
       "      <td>-0.763919</td>\n",
       "      <td>-0.237327</td>\n",
       "      <td>3.013677</td>\n",
       "      <td>-0.586451</td>\n",
       "    </tr>\n",
       "  </tbody>\n",
       "</table>\n",
       "<p>214 rows × 9 columns</p>\n",
       "</div>"
      ],
      "text/plain": [
       "            0         1         2         3         4         5         6  \\\n",
       "0    0.872868  0.284953  1.254639 -0.692442 -1.127082 -0.671705 -0.145766   \n",
       "1   -0.249333  0.591817  0.636168 -0.170460  0.102319 -0.026213 -0.793734   \n",
       "2   -0.721318  0.149933  0.601422  0.190912  0.438787 -0.164533 -0.828949   \n",
       "3   -0.232831 -0.242853  0.698710 -0.310994 -0.052974  0.112107 -0.519052   \n",
       "4   -0.312045 -0.169205  0.650066 -0.411375  0.555256  0.081369 -0.624699   \n",
       "..        ...       ...       ...       ...       ...       ...       ...   \n",
       "209 -0.704815  0.898681 -1.865511  2.881125 -0.052974 -0.640968  0.157088   \n",
       "210 -0.500178  1.856097 -1.865511  1.094342  0.529374 -0.763919 -0.392276   \n",
       "211  0.754046  1.168721 -1.865511  1.154570  0.995252 -0.763919 -0.364103   \n",
       "212 -0.612399  1.193270 -1.865511  0.993960  1.241133 -0.763919 -0.335931   \n",
       "213 -0.414363  1.009152 -1.865511  1.275028  0.917606 -0.763919 -0.237327   \n",
       "\n",
       "            7         8  \n",
       "0   -0.352877 -0.586451  \n",
       "1   -0.352877 -0.586451  \n",
       "2   -0.352877 -0.586451  \n",
       "3   -0.352877 -0.586451  \n",
       "4   -0.352877 -0.586451  \n",
       "..        ...       ...  \n",
       "209  1.783978 -0.586451  \n",
       "210  2.852405 -0.586451  \n",
       "211  2.953200 -0.586451  \n",
       "212  2.812087 -0.586451  \n",
       "213  3.013677 -0.586451  \n",
       "\n",
       "[214 rows x 9 columns]"
      ]
     },
     "execution_count": 85,
     "metadata": {},
     "output_type": "execute_result"
    }
   ],
   "source": [
    "df1"
   ]
  },
  {
   "cell_type": "code",
   "execution_count": 86,
   "id": "89715d4e",
   "metadata": {},
   "outputs": [],
   "source": [
    "pca=PCA()"
   ]
  },
  {
   "cell_type": "code",
   "execution_count": 87,
   "id": "51846ce8",
   "metadata": {},
   "outputs": [],
   "source": [
    "principal_component=pca.fit_transform(df1)"
   ]
  },
  {
   "cell_type": "code",
   "execution_count": null,
   "id": "6772adf6",
   "metadata": {},
   "outputs": [],
   "source": []
  },
  {
   "cell_type": "code",
   "execution_count": 88,
   "id": "0c5cc3fa",
   "metadata": {},
   "outputs": [
    {
     "data": {
      "text/plain": [
       "array([2.79018192e-01, 2.27785798e-01, 1.56093777e-01, 1.28651383e-01,\n",
       "       1.01555805e-01, 5.86261325e-02, 4.09953826e-02, 7.09477197e-03,\n",
       "       1.78757536e-04])"
      ]
     },
     "execution_count": 88,
     "metadata": {},
     "output_type": "execute_result"
    }
   ],
   "source": [
    "pca.explained_variance_ratio_"
   ]
  },
  {
   "cell_type": "code",
   "execution_count": 92,
   "id": "1c354103",
   "metadata": {},
   "outputs": [],
   "source": [
    "import matplotlib.pyplot as plt"
   ]
  },
  {
   "cell_type": "code",
   "execution_count": 95,
   "id": "728355c6",
   "metadata": {},
   "outputs": [
    {
     "data": {
      "text/plain": [
       "[<matplotlib.lines.Line2D at 0x20c1f187610>]"
      ]
     },
     "execution_count": 95,
     "metadata": {},
     "output_type": "execute_result"
    },
    {
     "data": {
      "image/png": "[encoded data removed]",
      "text/plain": [
       "<Figure size 432x288 with 1 Axes>"
      ]
     },
     "metadata": {
      "needs_background": "light"
     },
     "output_type": "display_data"
    }
   ],
   "source": [
    "plt.figure() # screen plot\n",
    "plt.title('screen plot')\n",
    "plt.xlabel('number of required component')\n",
    "plt.ylabel('EVR')\n",
    "plt.plot(np.cumsum(pca.explained_variance_ratio_))"
   ]
  },
  {
   "cell_type": "code",
   "execution_count": null,
   "id": "82491ae2",
   "metadata": {},
   "outputs": [],
   "source": []
  }
 ],
 "metadata": {
  "kernelspec": {
   "display_name": "Python 3 (ipykernel)",
   "language": "python",
   "name": "python3"
  },
  "language_info": {
   "codemirror_mode": {
    "name": "ipython",
    "version": 3
   },
   "file_extension": ".py",
   "mimetype": "text/x-python",
   "name": "python",
   "nbconvert_exporter": "python",
   "pygments_lexer": "ipython3",
   "version": "3.9.12"
  }
 },
 "nbformat": 4,
 "nbformat_minor": 5
}
